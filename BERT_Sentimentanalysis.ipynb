{
  "nbformat": 4,
  "nbformat_minor": 0,
  "metadata": {
    "colab": {
      "name": "BERT-Sentimentanalysis.ipynb",
      "provenance": [],
      "authorship_tag": "ABX9TyMX/SDT8RY8iVyEe+EOJ30f",
      "include_colab_link": true
    },
    "kernelspec": {
      "name": "python3",
      "display_name": "Python 3"
    },
    "accelerator": "GPU",
    "widgets": {
      "application/vnd.jupyter.widget-state+json": {
        "08d849f2581b442b9384cab43faa31fd": {
          "model_module": "@jupyter-widgets/controls",
          "model_name": "HBoxModel",
          "state": {
            "_view_name": "HBoxView",
            "_dom_classes": [],
            "_model_name": "HBoxModel",
            "_view_module": "@jupyter-widgets/controls",
            "_model_module_version": "1.5.0",
            "_view_count": null,
            "_view_module_version": "1.5.0",
            "box_style": "",
            "layout": "IPY_MODEL_6b0221c3178d43a79e95451e0cd9fb87",
            "_model_module": "@jupyter-widgets/controls",
            "children": [
              "IPY_MODEL_d9015eaa5d284e91b23800b04a5048af",
              "IPY_MODEL_a4fb4fab382f4f9e8d6eb2b8e1c10c1d"
            ]
          }
        },
        "6b0221c3178d43a79e95451e0cd9fb87": {
          "model_module": "@jupyter-widgets/base",
          "model_name": "LayoutModel",
          "state": {
            "_view_name": "LayoutView",
            "grid_template_rows": null,
            "right": null,
            "justify_content": null,
            "_view_module": "@jupyter-widgets/base",
            "overflow": null,
            "_model_module_version": "1.2.0",
            "_view_count": null,
            "flex_flow": null,
            "width": null,
            "min_width": null,
            "border": null,
            "align_items": null,
            "bottom": null,
            "_model_module": "@jupyter-widgets/base",
            "top": null,
            "grid_column": null,
            "overflow_y": null,
            "overflow_x": null,
            "grid_auto_flow": null,
            "grid_area": null,
            "grid_template_columns": null,
            "flex": null,
            "_model_name": "LayoutModel",
            "justify_items": null,
            "grid_row": null,
            "max_height": null,
            "align_content": null,
            "visibility": null,
            "align_self": null,
            "height": null,
            "min_height": null,
            "padding": null,
            "grid_auto_rows": null,
            "grid_gap": null,
            "max_width": null,
            "order": null,
            "_view_module_version": "1.2.0",
            "grid_template_areas": null,
            "object_position": null,
            "object_fit": null,
            "grid_auto_columns": null,
            "margin": null,
            "display": null,
            "left": null
          }
        },
        "d9015eaa5d284e91b23800b04a5048af": {
          "model_module": "@jupyter-widgets/controls",
          "model_name": "FloatProgressModel",
          "state": {
            "_view_name": "ProgressView",
            "style": "IPY_MODEL_42f46ee955a74a5186085c739640b9fc",
            "_dom_classes": [],
            "description": "Downloading: 100%",
            "_model_name": "FloatProgressModel",
            "bar_style": "success",
            "max": 231508,
            "_view_module": "@jupyter-widgets/controls",
            "_model_module_version": "1.5.0",
            "value": 231508,
            "_view_count": null,
            "_view_module_version": "1.5.0",
            "orientation": "horizontal",
            "min": 0,
            "description_tooltip": null,
            "_model_module": "@jupyter-widgets/controls",
            "layout": "IPY_MODEL_ba6b06d9d0274e2f978a90cb5af91cbd"
          }
        },
        "a4fb4fab382f4f9e8d6eb2b8e1c10c1d": {
          "model_module": "@jupyter-widgets/controls",
          "model_name": "HTMLModel",
          "state": {
            "_view_name": "HTMLView",
            "style": "IPY_MODEL_32240fca837a47c5a2fd954dacfb6538",
            "_dom_classes": [],
            "description": "",
            "_model_name": "HTMLModel",
            "placeholder": "​",
            "_view_module": "@jupyter-widgets/controls",
            "_model_module_version": "1.5.0",
            "value": " 232k/232k [00:00&lt;00:00, 381kB/s]",
            "_view_count": null,
            "_view_module_version": "1.5.0",
            "description_tooltip": null,
            "_model_module": "@jupyter-widgets/controls",
            "layout": "IPY_MODEL_04297a7247494ce39411221599bd88c1"
          }
        },
        "42f46ee955a74a5186085c739640b9fc": {
          "model_module": "@jupyter-widgets/controls",
          "model_name": "ProgressStyleModel",
          "state": {
            "_view_name": "StyleView",
            "_model_name": "ProgressStyleModel",
            "description_width": "initial",
            "_view_module": "@jupyter-widgets/base",
            "_model_module_version": "1.5.0",
            "_view_count": null,
            "_view_module_version": "1.2.0",
            "bar_color": null,
            "_model_module": "@jupyter-widgets/controls"
          }
        },
        "ba6b06d9d0274e2f978a90cb5af91cbd": {
          "model_module": "@jupyter-widgets/base",
          "model_name": "LayoutModel",
          "state": {
            "_view_name": "LayoutView",
            "grid_template_rows": null,
            "right": null,
            "justify_content": null,
            "_view_module": "@jupyter-widgets/base",
            "overflow": null,
            "_model_module_version": "1.2.0",
            "_view_count": null,
            "flex_flow": null,
            "width": null,
            "min_width": null,
            "border": null,
            "align_items": null,
            "bottom": null,
            "_model_module": "@jupyter-widgets/base",
            "top": null,
            "grid_column": null,
            "overflow_y": null,
            "overflow_x": null,
            "grid_auto_flow": null,
            "grid_area": null,
            "grid_template_columns": null,
            "flex": null,
            "_model_name": "LayoutModel",
            "justify_items": null,
            "grid_row": null,
            "max_height": null,
            "align_content": null,
            "visibility": null,
            "align_self": null,
            "height": null,
            "min_height": null,
            "padding": null,
            "grid_auto_rows": null,
            "grid_gap": null,
            "max_width": null,
            "order": null,
            "_view_module_version": "1.2.0",
            "grid_template_areas": null,
            "object_position": null,
            "object_fit": null,
            "grid_auto_columns": null,
            "margin": null,
            "display": null,
            "left": null
          }
        },
        "32240fca837a47c5a2fd954dacfb6538": {
          "model_module": "@jupyter-widgets/controls",
          "model_name": "DescriptionStyleModel",
          "state": {
            "_view_name": "StyleView",
            "_model_name": "DescriptionStyleModel",
            "description_width": "",
            "_view_module": "@jupyter-widgets/base",
            "_model_module_version": "1.5.0",
            "_view_count": null,
            "_view_module_version": "1.2.0",
            "_model_module": "@jupyter-widgets/controls"
          }
        },
        "04297a7247494ce39411221599bd88c1": {
          "model_module": "@jupyter-widgets/base",
          "model_name": "LayoutModel",
          "state": {
            "_view_name": "LayoutView",
            "grid_template_rows": null,
            "right": null,
            "justify_content": null,
            "_view_module": "@jupyter-widgets/base",
            "overflow": null,
            "_model_module_version": "1.2.0",
            "_view_count": null,
            "flex_flow": null,
            "width": null,
            "min_width": null,
            "border": null,
            "align_items": null,
            "bottom": null,
            "_model_module": "@jupyter-widgets/base",
            "top": null,
            "grid_column": null,
            "overflow_y": null,
            "overflow_x": null,
            "grid_auto_flow": null,
            "grid_area": null,
            "grid_template_columns": null,
            "flex": null,
            "_model_name": "LayoutModel",
            "justify_items": null,
            "grid_row": null,
            "max_height": null,
            "align_content": null,
            "visibility": null,
            "align_self": null,
            "height": null,
            "min_height": null,
            "padding": null,
            "grid_auto_rows": null,
            "grid_gap": null,
            "max_width": null,
            "order": null,
            "_view_module_version": "1.2.0",
            "grid_template_areas": null,
            "object_position": null,
            "object_fit": null,
            "grid_auto_columns": null,
            "margin": null,
            "display": null,
            "left": null
          }
        },
        "ce6ac61df70a477493e9d9062a6ecff7": {
          "model_module": "@jupyter-widgets/controls",
          "model_name": "HBoxModel",
          "state": {
            "_view_name": "HBoxView",
            "_dom_classes": [],
            "_model_name": "HBoxModel",
            "_view_module": "@jupyter-widgets/controls",
            "_model_module_version": "1.5.0",
            "_view_count": null,
            "_view_module_version": "1.5.0",
            "box_style": "",
            "layout": "IPY_MODEL_c527a0d67b3a4903b2be47940eaf9929",
            "_model_module": "@jupyter-widgets/controls",
            "children": [
              "IPY_MODEL_f65d30c1601441cebb6ab04364af802d",
              "IPY_MODEL_879eece1b86f4e54848f24bf6e97e794"
            ]
          }
        },
        "c527a0d67b3a4903b2be47940eaf9929": {
          "model_module": "@jupyter-widgets/base",
          "model_name": "LayoutModel",
          "state": {
            "_view_name": "LayoutView",
            "grid_template_rows": null,
            "right": null,
            "justify_content": null,
            "_view_module": "@jupyter-widgets/base",
            "overflow": null,
            "_model_module_version": "1.2.0",
            "_view_count": null,
            "flex_flow": null,
            "width": null,
            "min_width": null,
            "border": null,
            "align_items": null,
            "bottom": null,
            "_model_module": "@jupyter-widgets/base",
            "top": null,
            "grid_column": null,
            "overflow_y": null,
            "overflow_x": null,
            "grid_auto_flow": null,
            "grid_area": null,
            "grid_template_columns": null,
            "flex": null,
            "_model_name": "LayoutModel",
            "justify_items": null,
            "grid_row": null,
            "max_height": null,
            "align_content": null,
            "visibility": null,
            "align_self": null,
            "height": null,
            "min_height": null,
            "padding": null,
            "grid_auto_rows": null,
            "grid_gap": null,
            "max_width": null,
            "order": null,
            "_view_module_version": "1.2.0",
            "grid_template_areas": null,
            "object_position": null,
            "object_fit": null,
            "grid_auto_columns": null,
            "margin": null,
            "display": null,
            "left": null
          }
        },
        "f65d30c1601441cebb6ab04364af802d": {
          "model_module": "@jupyter-widgets/controls",
          "model_name": "FloatProgressModel",
          "state": {
            "_view_name": "ProgressView",
            "style": "IPY_MODEL_f1ee951b6617402dbb576c84663134b6",
            "_dom_classes": [],
            "description": "Downloading: 100%",
            "_model_name": "FloatProgressModel",
            "bar_style": "success",
            "max": 433,
            "_view_module": "@jupyter-widgets/controls",
            "_model_module_version": "1.5.0",
            "value": 433,
            "_view_count": null,
            "_view_module_version": "1.5.0",
            "orientation": "horizontal",
            "min": 0,
            "description_tooltip": null,
            "_model_module": "@jupyter-widgets/controls",
            "layout": "IPY_MODEL_3327f16c8bdd4a9c8b8533fd899a721f"
          }
        },
        "879eece1b86f4e54848f24bf6e97e794": {
          "model_module": "@jupyter-widgets/controls",
          "model_name": "HTMLModel",
          "state": {
            "_view_name": "HTMLView",
            "style": "IPY_MODEL_429c790a44524b0dbd133926413a658c",
            "_dom_classes": [],
            "description": "",
            "_model_name": "HTMLModel",
            "placeholder": "​",
            "_view_module": "@jupyter-widgets/controls",
            "_model_module_version": "1.5.0",
            "value": " 433/433 [00:00&lt;00:00, 986B/s]",
            "_view_count": null,
            "_view_module_version": "1.5.0",
            "description_tooltip": null,
            "_model_module": "@jupyter-widgets/controls",
            "layout": "IPY_MODEL_9e7a7757d98b458597b8b5ea8f960c47"
          }
        },
        "f1ee951b6617402dbb576c84663134b6": {
          "model_module": "@jupyter-widgets/controls",
          "model_name": "ProgressStyleModel",
          "state": {
            "_view_name": "StyleView",
            "_model_name": "ProgressStyleModel",
            "description_width": "initial",
            "_view_module": "@jupyter-widgets/base",
            "_model_module_version": "1.5.0",
            "_view_count": null,
            "_view_module_version": "1.2.0",
            "bar_color": null,
            "_model_module": "@jupyter-widgets/controls"
          }
        },
        "3327f16c8bdd4a9c8b8533fd899a721f": {
          "model_module": "@jupyter-widgets/base",
          "model_name": "LayoutModel",
          "state": {
            "_view_name": "LayoutView",
            "grid_template_rows": null,
            "right": null,
            "justify_content": null,
            "_view_module": "@jupyter-widgets/base",
            "overflow": null,
            "_model_module_version": "1.2.0",
            "_view_count": null,
            "flex_flow": null,
            "width": null,
            "min_width": null,
            "border": null,
            "align_items": null,
            "bottom": null,
            "_model_module": "@jupyter-widgets/base",
            "top": null,
            "grid_column": null,
            "overflow_y": null,
            "overflow_x": null,
            "grid_auto_flow": null,
            "grid_area": null,
            "grid_template_columns": null,
            "flex": null,
            "_model_name": "LayoutModel",
            "justify_items": null,
            "grid_row": null,
            "max_height": null,
            "align_content": null,
            "visibility": null,
            "align_self": null,
            "height": null,
            "min_height": null,
            "padding": null,
            "grid_auto_rows": null,
            "grid_gap": null,
            "max_width": null,
            "order": null,
            "_view_module_version": "1.2.0",
            "grid_template_areas": null,
            "object_position": null,
            "object_fit": null,
            "grid_auto_columns": null,
            "margin": null,
            "display": null,
            "left": null
          }
        },
        "429c790a44524b0dbd133926413a658c": {
          "model_module": "@jupyter-widgets/controls",
          "model_name": "DescriptionStyleModel",
          "state": {
            "_view_name": "StyleView",
            "_model_name": "DescriptionStyleModel",
            "description_width": "",
            "_view_module": "@jupyter-widgets/base",
            "_model_module_version": "1.5.0",
            "_view_count": null,
            "_view_module_version": "1.2.0",
            "_model_module": "@jupyter-widgets/controls"
          }
        },
        "9e7a7757d98b458597b8b5ea8f960c47": {
          "model_module": "@jupyter-widgets/base",
          "model_name": "LayoutModel",
          "state": {
            "_view_name": "LayoutView",
            "grid_template_rows": null,
            "right": null,
            "justify_content": null,
            "_view_module": "@jupyter-widgets/base",
            "overflow": null,
            "_model_module_version": "1.2.0",
            "_view_count": null,
            "flex_flow": null,
            "width": null,
            "min_width": null,
            "border": null,
            "align_items": null,
            "bottom": null,
            "_model_module": "@jupyter-widgets/base",
            "top": null,
            "grid_column": null,
            "overflow_y": null,
            "overflow_x": null,
            "grid_auto_flow": null,
            "grid_area": null,
            "grid_template_columns": null,
            "flex": null,
            "_model_name": "LayoutModel",
            "justify_items": null,
            "grid_row": null,
            "max_height": null,
            "align_content": null,
            "visibility": null,
            "align_self": null,
            "height": null,
            "min_height": null,
            "padding": null,
            "grid_auto_rows": null,
            "grid_gap": null,
            "max_width": null,
            "order": null,
            "_view_module_version": "1.2.0",
            "grid_template_areas": null,
            "object_position": null,
            "object_fit": null,
            "grid_auto_columns": null,
            "margin": null,
            "display": null,
            "left": null
          }
        },
        "982dce2f2eef4d92b45d0b147068a7d8": {
          "model_module": "@jupyter-widgets/controls",
          "model_name": "HBoxModel",
          "state": {
            "_view_name": "HBoxView",
            "_dom_classes": [],
            "_model_name": "HBoxModel",
            "_view_module": "@jupyter-widgets/controls",
            "_model_module_version": "1.5.0",
            "_view_count": null,
            "_view_module_version": "1.5.0",
            "box_style": "",
            "layout": "IPY_MODEL_599f863bb49c42d0b26a8e6a1556702d",
            "_model_module": "@jupyter-widgets/controls",
            "children": [
              "IPY_MODEL_d774d0bb48304adbbffa27e5d30a55f9",
              "IPY_MODEL_df747b12b284419ca46458060fc419a8"
            ]
          }
        },
        "599f863bb49c42d0b26a8e6a1556702d": {
          "model_module": "@jupyter-widgets/base",
          "model_name": "LayoutModel",
          "state": {
            "_view_name": "LayoutView",
            "grid_template_rows": null,
            "right": null,
            "justify_content": null,
            "_view_module": "@jupyter-widgets/base",
            "overflow": null,
            "_model_module_version": "1.2.0",
            "_view_count": null,
            "flex_flow": null,
            "width": null,
            "min_width": null,
            "border": null,
            "align_items": null,
            "bottom": null,
            "_model_module": "@jupyter-widgets/base",
            "top": null,
            "grid_column": null,
            "overflow_y": null,
            "overflow_x": null,
            "grid_auto_flow": null,
            "grid_area": null,
            "grid_template_columns": null,
            "flex": null,
            "_model_name": "LayoutModel",
            "justify_items": null,
            "grid_row": null,
            "max_height": null,
            "align_content": null,
            "visibility": null,
            "align_self": null,
            "height": null,
            "min_height": null,
            "padding": null,
            "grid_auto_rows": null,
            "grid_gap": null,
            "max_width": null,
            "order": null,
            "_view_module_version": "1.2.0",
            "grid_template_areas": null,
            "object_position": null,
            "object_fit": null,
            "grid_auto_columns": null,
            "margin": null,
            "display": null,
            "left": null
          }
        },
        "d774d0bb48304adbbffa27e5d30a55f9": {
          "model_module": "@jupyter-widgets/controls",
          "model_name": "FloatProgressModel",
          "state": {
            "_view_name": "ProgressView",
            "style": "IPY_MODEL_ea410f9a61df45f0a8e1c193732b17d3",
            "_dom_classes": [],
            "description": "Downloading: 100%",
            "_model_name": "FloatProgressModel",
            "bar_style": "success",
            "max": 440473133,
            "_view_module": "@jupyter-widgets/controls",
            "_model_module_version": "1.5.0",
            "value": 440473133,
            "_view_count": null,
            "_view_module_version": "1.5.0",
            "orientation": "horizontal",
            "min": 0,
            "description_tooltip": null,
            "_model_module": "@jupyter-widgets/controls",
            "layout": "IPY_MODEL_a22ecd51b7144ca7b92b8a582a3d8d25"
          }
        },
        "df747b12b284419ca46458060fc419a8": {
          "model_module": "@jupyter-widgets/controls",
          "model_name": "HTMLModel",
          "state": {
            "_view_name": "HTMLView",
            "style": "IPY_MODEL_0922ea9452674970973a10febb18e343",
            "_dom_classes": [],
            "description": "",
            "_model_name": "HTMLModel",
            "placeholder": "​",
            "_view_module": "@jupyter-widgets/controls",
            "_model_module_version": "1.5.0",
            "value": " 440M/440M [06:13&lt;00:00, 1.18MB/s]",
            "_view_count": null,
            "_view_module_version": "1.5.0",
            "description_tooltip": null,
            "_model_module": "@jupyter-widgets/controls",
            "layout": "IPY_MODEL_de67a8fdd8174444929b5cff9051fb72"
          }
        },
        "ea410f9a61df45f0a8e1c193732b17d3": {
          "model_module": "@jupyter-widgets/controls",
          "model_name": "ProgressStyleModel",
          "state": {
            "_view_name": "StyleView",
            "_model_name": "ProgressStyleModel",
            "description_width": "initial",
            "_view_module": "@jupyter-widgets/base",
            "_model_module_version": "1.5.0",
            "_view_count": null,
            "_view_module_version": "1.2.0",
            "bar_color": null,
            "_model_module": "@jupyter-widgets/controls"
          }
        },
        "a22ecd51b7144ca7b92b8a582a3d8d25": {
          "model_module": "@jupyter-widgets/base",
          "model_name": "LayoutModel",
          "state": {
            "_view_name": "LayoutView",
            "grid_template_rows": null,
            "right": null,
            "justify_content": null,
            "_view_module": "@jupyter-widgets/base",
            "overflow": null,
            "_model_module_version": "1.2.0",
            "_view_count": null,
            "flex_flow": null,
            "width": null,
            "min_width": null,
            "border": null,
            "align_items": null,
            "bottom": null,
            "_model_module": "@jupyter-widgets/base",
            "top": null,
            "grid_column": null,
            "overflow_y": null,
            "overflow_x": null,
            "grid_auto_flow": null,
            "grid_area": null,
            "grid_template_columns": null,
            "flex": null,
            "_model_name": "LayoutModel",
            "justify_items": null,
            "grid_row": null,
            "max_height": null,
            "align_content": null,
            "visibility": null,
            "align_self": null,
            "height": null,
            "min_height": null,
            "padding": null,
            "grid_auto_rows": null,
            "grid_gap": null,
            "max_width": null,
            "order": null,
            "_view_module_version": "1.2.0",
            "grid_template_areas": null,
            "object_position": null,
            "object_fit": null,
            "grid_auto_columns": null,
            "margin": null,
            "display": null,
            "left": null
          }
        },
        "0922ea9452674970973a10febb18e343": {
          "model_module": "@jupyter-widgets/controls",
          "model_name": "DescriptionStyleModel",
          "state": {
            "_view_name": "StyleView",
            "_model_name": "DescriptionStyleModel",
            "description_width": "",
            "_view_module": "@jupyter-widgets/base",
            "_model_module_version": "1.5.0",
            "_view_count": null,
            "_view_module_version": "1.2.0",
            "_model_module": "@jupyter-widgets/controls"
          }
        },
        "de67a8fdd8174444929b5cff9051fb72": {
          "model_module": "@jupyter-widgets/base",
          "model_name": "LayoutModel",
          "state": {
            "_view_name": "LayoutView",
            "grid_template_rows": null,
            "right": null,
            "justify_content": null,
            "_view_module": "@jupyter-widgets/base",
            "overflow": null,
            "_model_module_version": "1.2.0",
            "_view_count": null,
            "flex_flow": null,
            "width": null,
            "min_width": null,
            "border": null,
            "align_items": null,
            "bottom": null,
            "_model_module": "@jupyter-widgets/base",
            "top": null,
            "grid_column": null,
            "overflow_y": null,
            "overflow_x": null,
            "grid_auto_flow": null,
            "grid_area": null,
            "grid_template_columns": null,
            "flex": null,
            "_model_name": "LayoutModel",
            "justify_items": null,
            "grid_row": null,
            "max_height": null,
            "align_content": null,
            "visibility": null,
            "align_self": null,
            "height": null,
            "min_height": null,
            "padding": null,
            "grid_auto_rows": null,
            "grid_gap": null,
            "max_width": null,
            "order": null,
            "_view_module_version": "1.2.0",
            "grid_template_areas": null,
            "object_position": null,
            "object_fit": null,
            "grid_auto_columns": null,
            "margin": null,
            "display": null,
            "left": null
          }
        },
        "fd6cdc3851db40e3ae619b8a8465fb40": {
          "model_module": "@jupyter-widgets/controls",
          "model_name": "HBoxModel",
          "state": {
            "_view_name": "HBoxView",
            "_dom_classes": [],
            "_model_name": "HBoxModel",
            "_view_module": "@jupyter-widgets/controls",
            "_model_module_version": "1.5.0",
            "_view_count": null,
            "_view_module_version": "1.5.0",
            "box_style": "",
            "layout": "IPY_MODEL_c3fa6e68e7244dba819fd07ef844c8c0",
            "_model_module": "@jupyter-widgets/controls",
            "children": [
              "IPY_MODEL_f06844b0063e41969b4da4cd56363234",
              "IPY_MODEL_5015ac31c7c54327b186eb217e550e18"
            ]
          }
        },
        "c3fa6e68e7244dba819fd07ef844c8c0": {
          "model_module": "@jupyter-widgets/base",
          "model_name": "LayoutModel",
          "state": {
            "_view_name": "LayoutView",
            "grid_template_rows": null,
            "right": null,
            "justify_content": null,
            "_view_module": "@jupyter-widgets/base",
            "overflow": null,
            "_model_module_version": "1.2.0",
            "_view_count": null,
            "flex_flow": null,
            "width": null,
            "min_width": null,
            "border": null,
            "align_items": null,
            "bottom": null,
            "_model_module": "@jupyter-widgets/base",
            "top": null,
            "grid_column": null,
            "overflow_y": null,
            "overflow_x": null,
            "grid_auto_flow": null,
            "grid_area": null,
            "grid_template_columns": null,
            "flex": null,
            "_model_name": "LayoutModel",
            "justify_items": null,
            "grid_row": null,
            "max_height": null,
            "align_content": null,
            "visibility": null,
            "align_self": null,
            "height": null,
            "min_height": null,
            "padding": null,
            "grid_auto_rows": null,
            "grid_gap": null,
            "max_width": null,
            "order": null,
            "_view_module_version": "1.2.0",
            "grid_template_areas": null,
            "object_position": null,
            "object_fit": null,
            "grid_auto_columns": null,
            "margin": null,
            "display": null,
            "left": null
          }
        },
        "f06844b0063e41969b4da4cd56363234": {
          "model_module": "@jupyter-widgets/controls",
          "model_name": "FloatProgressModel",
          "state": {
            "_view_name": "ProgressView",
            "style": "IPY_MODEL_706b30db16c64f5d959f155e6766bee5",
            "_dom_classes": [],
            "description": "100%",
            "_model_name": "FloatProgressModel",
            "bar_style": "success",
            "max": 10,
            "_view_module": "@jupyter-widgets/controls",
            "_model_module_version": "1.5.0",
            "value": 10,
            "_view_count": null,
            "_view_module_version": "1.5.0",
            "orientation": "horizontal",
            "min": 0,
            "description_tooltip": null,
            "_model_module": "@jupyter-widgets/controls",
            "layout": "IPY_MODEL_1c9c3cee02454fec8242c29b7bc8498d"
          }
        },
        "5015ac31c7c54327b186eb217e550e18": {
          "model_module": "@jupyter-widgets/controls",
          "model_name": "HTMLModel",
          "state": {
            "_view_name": "HTMLView",
            "style": "IPY_MODEL_35713387b03a4f3dbcb5ecbe893844ba",
            "_dom_classes": [],
            "description": "",
            "_model_name": "HTMLModel",
            "placeholder": "​",
            "_view_module": "@jupyter-widgets/controls",
            "_model_module_version": "1.5.0",
            "value": " 10/10 [1:42:33&lt;00:00, 615.35s/it]",
            "_view_count": null,
            "_view_module_version": "1.5.0",
            "description_tooltip": null,
            "_model_module": "@jupyter-widgets/controls",
            "layout": "IPY_MODEL_9abe5d7120f84b46a753f632beb861fd"
          }
        },
        "706b30db16c64f5d959f155e6766bee5": {
          "model_module": "@jupyter-widgets/controls",
          "model_name": "ProgressStyleModel",
          "state": {
            "_view_name": "StyleView",
            "_model_name": "ProgressStyleModel",
            "description_width": "initial",
            "_view_module": "@jupyter-widgets/base",
            "_model_module_version": "1.5.0",
            "_view_count": null,
            "_view_module_version": "1.2.0",
            "bar_color": null,
            "_model_module": "@jupyter-widgets/controls"
          }
        },
        "1c9c3cee02454fec8242c29b7bc8498d": {
          "model_module": "@jupyter-widgets/base",
          "model_name": "LayoutModel",
          "state": {
            "_view_name": "LayoutView",
            "grid_template_rows": null,
            "right": null,
            "justify_content": null,
            "_view_module": "@jupyter-widgets/base",
            "overflow": null,
            "_model_module_version": "1.2.0",
            "_view_count": null,
            "flex_flow": null,
            "width": null,
            "min_width": null,
            "border": null,
            "align_items": null,
            "bottom": null,
            "_model_module": "@jupyter-widgets/base",
            "top": null,
            "grid_column": null,
            "overflow_y": null,
            "overflow_x": null,
            "grid_auto_flow": null,
            "grid_area": null,
            "grid_template_columns": null,
            "flex": null,
            "_model_name": "LayoutModel",
            "justify_items": null,
            "grid_row": null,
            "max_height": null,
            "align_content": null,
            "visibility": null,
            "align_self": null,
            "height": null,
            "min_height": null,
            "padding": null,
            "grid_auto_rows": null,
            "grid_gap": null,
            "max_width": null,
            "order": null,
            "_view_module_version": "1.2.0",
            "grid_template_areas": null,
            "object_position": null,
            "object_fit": null,
            "grid_auto_columns": null,
            "margin": null,
            "display": null,
            "left": null
          }
        },
        "35713387b03a4f3dbcb5ecbe893844ba": {
          "model_module": "@jupyter-widgets/controls",
          "model_name": "DescriptionStyleModel",
          "state": {
            "_view_name": "StyleView",
            "_model_name": "DescriptionStyleModel",
            "description_width": "",
            "_view_module": "@jupyter-widgets/base",
            "_model_module_version": "1.5.0",
            "_view_count": null,
            "_view_module_version": "1.2.0",
            "_model_module": "@jupyter-widgets/controls"
          }
        },
        "9abe5d7120f84b46a753f632beb861fd": {
          "model_module": "@jupyter-widgets/base",
          "model_name": "LayoutModel",
          "state": {
            "_view_name": "LayoutView",
            "grid_template_rows": null,
            "right": null,
            "justify_content": null,
            "_view_module": "@jupyter-widgets/base",
            "overflow": null,
            "_model_module_version": "1.2.0",
            "_view_count": null,
            "flex_flow": null,
            "width": null,
            "min_width": null,
            "border": null,
            "align_items": null,
            "bottom": null,
            "_model_module": "@jupyter-widgets/base",
            "top": null,
            "grid_column": null,
            "overflow_y": null,
            "overflow_x": null,
            "grid_auto_flow": null,
            "grid_area": null,
            "grid_template_columns": null,
            "flex": null,
            "_model_name": "LayoutModel",
            "justify_items": null,
            "grid_row": null,
            "max_height": null,
            "align_content": null,
            "visibility": null,
            "align_self": null,
            "height": null,
            "min_height": null,
            "padding": null,
            "grid_auto_rows": null,
            "grid_gap": null,
            "max_width": null,
            "order": null,
            "_view_module_version": "1.2.0",
            "grid_template_areas": null,
            "object_position": null,
            "object_fit": null,
            "grid_auto_columns": null,
            "margin": null,
            "display": null,
            "left": null
          }
        },
        "bffa0413483b4abca65148d355c590b5": {
          "model_module": "@jupyter-widgets/controls",
          "model_name": "HBoxModel",
          "state": {
            "_view_name": "HBoxView",
            "_dom_classes": [],
            "_model_name": "HBoxModel",
            "_view_module": "@jupyter-widgets/controls",
            "_model_module_version": "1.5.0",
            "_view_count": null,
            "_view_module_version": "1.5.0",
            "box_style": "",
            "layout": "IPY_MODEL_e0c1890506174a5e9f4165cd89cc9fef",
            "_model_module": "@jupyter-widgets/controls",
            "children": [
              "IPY_MODEL_625c080687c54733922a13a3b41bc92f",
              "IPY_MODEL_4bb15ee0f49246b6abad175f5deff478"
            ]
          }
        },
        "e0c1890506174a5e9f4165cd89cc9fef": {
          "model_module": "@jupyter-widgets/base",
          "model_name": "LayoutModel",
          "state": {
            "_view_name": "LayoutView",
            "grid_template_rows": null,
            "right": null,
            "justify_content": null,
            "_view_module": "@jupyter-widgets/base",
            "overflow": null,
            "_model_module_version": "1.2.0",
            "_view_count": null,
            "flex_flow": null,
            "width": null,
            "min_width": null,
            "border": null,
            "align_items": null,
            "bottom": null,
            "_model_module": "@jupyter-widgets/base",
            "top": null,
            "grid_column": null,
            "overflow_y": null,
            "overflow_x": null,
            "grid_auto_flow": null,
            "grid_area": null,
            "grid_template_columns": null,
            "flex": null,
            "_model_name": "LayoutModel",
            "justify_items": null,
            "grid_row": null,
            "max_height": null,
            "align_content": null,
            "visibility": null,
            "align_self": null,
            "height": null,
            "min_height": null,
            "padding": null,
            "grid_auto_rows": null,
            "grid_gap": null,
            "max_width": null,
            "order": null,
            "_view_module_version": "1.2.0",
            "grid_template_areas": null,
            "object_position": null,
            "object_fit": null,
            "grid_auto_columns": null,
            "margin": null,
            "display": null,
            "left": null
          }
        },
        "625c080687c54733922a13a3b41bc92f": {
          "model_module": "@jupyter-widgets/controls",
          "model_name": "FloatProgressModel",
          "state": {
            "_view_name": "ProgressView",
            "style": "IPY_MODEL_a060778ea45f417d96b6b740d37b2c8e",
            "_dom_classes": [],
            "description": "Epoch 1: 100%",
            "_model_name": "FloatProgressModel",
            "bar_style": "",
            "max": 170,
            "_view_module": "@jupyter-widgets/controls",
            "_model_module_version": "1.5.0",
            "value": 170,
            "_view_count": null,
            "_view_module_version": "1.5.0",
            "orientation": "horizontal",
            "min": 0,
            "description_tooltip": null,
            "_model_module": "@jupyter-widgets/controls",
            "layout": "IPY_MODEL_cb0f95b78f4e4e93bf13b5a8f38153af"
          }
        },
        "4bb15ee0f49246b6abad175f5deff478": {
          "model_module": "@jupyter-widgets/controls",
          "model_name": "HTMLModel",
          "state": {
            "_view_name": "HTMLView",
            "style": "IPY_MODEL_4db9bdca8eff44a3b0fec433ac587e4a",
            "_dom_classes": [],
            "description": "",
            "_model_name": "HTMLModel",
            "placeholder": "​",
            "_view_module": "@jupyter-widgets/controls",
            "_model_module_version": "1.5.0",
            "value": " 170/170 [07:11&lt;00:00,  1.85s/it, training_loss=0.706]",
            "_view_count": null,
            "_view_module_version": "1.5.0",
            "description_tooltip": null,
            "_model_module": "@jupyter-widgets/controls",
            "layout": "IPY_MODEL_0589a73463f54dd6afb3812eab358cc9"
          }
        },
        "a060778ea45f417d96b6b740d37b2c8e": {
          "model_module": "@jupyter-widgets/controls",
          "model_name": "ProgressStyleModel",
          "state": {
            "_view_name": "StyleView",
            "_model_name": "ProgressStyleModel",
            "description_width": "initial",
            "_view_module": "@jupyter-widgets/base",
            "_model_module_version": "1.5.0",
            "_view_count": null,
            "_view_module_version": "1.2.0",
            "bar_color": null,
            "_model_module": "@jupyter-widgets/controls"
          }
        },
        "cb0f95b78f4e4e93bf13b5a8f38153af": {
          "model_module": "@jupyter-widgets/base",
          "model_name": "LayoutModel",
          "state": {
            "_view_name": "LayoutView",
            "grid_template_rows": null,
            "right": null,
            "justify_content": null,
            "_view_module": "@jupyter-widgets/base",
            "overflow": null,
            "_model_module_version": "1.2.0",
            "_view_count": null,
            "flex_flow": null,
            "width": null,
            "min_width": null,
            "border": null,
            "align_items": null,
            "bottom": null,
            "_model_module": "@jupyter-widgets/base",
            "top": null,
            "grid_column": null,
            "overflow_y": null,
            "overflow_x": null,
            "grid_auto_flow": null,
            "grid_area": null,
            "grid_template_columns": null,
            "flex": null,
            "_model_name": "LayoutModel",
            "justify_items": null,
            "grid_row": null,
            "max_height": null,
            "align_content": null,
            "visibility": null,
            "align_self": null,
            "height": null,
            "min_height": null,
            "padding": null,
            "grid_auto_rows": null,
            "grid_gap": null,
            "max_width": null,
            "order": null,
            "_view_module_version": "1.2.0",
            "grid_template_areas": null,
            "object_position": null,
            "object_fit": null,
            "grid_auto_columns": null,
            "margin": null,
            "display": null,
            "left": null
          }
        },
        "4db9bdca8eff44a3b0fec433ac587e4a": {
          "model_module": "@jupyter-widgets/controls",
          "model_name": "DescriptionStyleModel",
          "state": {
            "_view_name": "StyleView",
            "_model_name": "DescriptionStyleModel",
            "description_width": "",
            "_view_module": "@jupyter-widgets/base",
            "_model_module_version": "1.5.0",
            "_view_count": null,
            "_view_module_version": "1.2.0",
            "_model_module": "@jupyter-widgets/controls"
          }
        },
        "0589a73463f54dd6afb3812eab358cc9": {
          "model_module": "@jupyter-widgets/base",
          "model_name": "LayoutModel",
          "state": {
            "_view_name": "LayoutView",
            "grid_template_rows": null,
            "right": null,
            "justify_content": null,
            "_view_module": "@jupyter-widgets/base",
            "overflow": null,
            "_model_module_version": "1.2.0",
            "_view_count": null,
            "flex_flow": null,
            "width": null,
            "min_width": null,
            "border": null,
            "align_items": null,
            "bottom": null,
            "_model_module": "@jupyter-widgets/base",
            "top": null,
            "grid_column": null,
            "overflow_y": null,
            "overflow_x": null,
            "grid_auto_flow": null,
            "grid_area": null,
            "grid_template_columns": null,
            "flex": null,
            "_model_name": "LayoutModel",
            "justify_items": null,
            "grid_row": null,
            "max_height": null,
            "align_content": null,
            "visibility": null,
            "align_self": null,
            "height": null,
            "min_height": null,
            "padding": null,
            "grid_auto_rows": null,
            "grid_gap": null,
            "max_width": null,
            "order": null,
            "_view_module_version": "1.2.0",
            "grid_template_areas": null,
            "object_position": null,
            "object_fit": null,
            "grid_auto_columns": null,
            "margin": null,
            "display": null,
            "left": null
          }
        },
        "4e7c5f3236474708b9c54d0a73d8e002": {
          "model_module": "@jupyter-widgets/controls",
          "model_name": "HBoxModel",
          "state": {
            "_view_name": "HBoxView",
            "_dom_classes": [],
            "_model_name": "HBoxModel",
            "_view_module": "@jupyter-widgets/controls",
            "_model_module_version": "1.5.0",
            "_view_count": null,
            "_view_module_version": "1.5.0",
            "box_style": "",
            "layout": "IPY_MODEL_827c2329de4544aba396cb7715e3fa2d",
            "_model_module": "@jupyter-widgets/controls",
            "children": [
              "IPY_MODEL_1be88eba37a74a55839e547803c4b9ff",
              "IPY_MODEL_bd90b83984594ff4981d07c01e6a9bdb"
            ]
          }
        },
        "827c2329de4544aba396cb7715e3fa2d": {
          "model_module": "@jupyter-widgets/base",
          "model_name": "LayoutModel",
          "state": {
            "_view_name": "LayoutView",
            "grid_template_rows": null,
            "right": null,
            "justify_content": null,
            "_view_module": "@jupyter-widgets/base",
            "overflow": null,
            "_model_module_version": "1.2.0",
            "_view_count": null,
            "flex_flow": null,
            "width": null,
            "min_width": null,
            "border": null,
            "align_items": null,
            "bottom": null,
            "_model_module": "@jupyter-widgets/base",
            "top": null,
            "grid_column": null,
            "overflow_y": null,
            "overflow_x": null,
            "grid_auto_flow": null,
            "grid_area": null,
            "grid_template_columns": null,
            "flex": null,
            "_model_name": "LayoutModel",
            "justify_items": null,
            "grid_row": null,
            "max_height": null,
            "align_content": null,
            "visibility": null,
            "align_self": null,
            "height": null,
            "min_height": null,
            "padding": null,
            "grid_auto_rows": null,
            "grid_gap": null,
            "max_width": null,
            "order": null,
            "_view_module_version": "1.2.0",
            "grid_template_areas": null,
            "object_position": null,
            "object_fit": null,
            "grid_auto_columns": null,
            "margin": null,
            "display": null,
            "left": null
          }
        },
        "1be88eba37a74a55839e547803c4b9ff": {
          "model_module": "@jupyter-widgets/controls",
          "model_name": "FloatProgressModel",
          "state": {
            "_view_name": "ProgressView",
            "style": "IPY_MODEL_5b005ac677da41ce81bdf0e8c988812b",
            "_dom_classes": [],
            "description": "Epoch 2: 100%",
            "_model_name": "FloatProgressModel",
            "bar_style": "",
            "max": 170,
            "_view_module": "@jupyter-widgets/controls",
            "_model_module_version": "1.5.0",
            "value": 170,
            "_view_count": null,
            "_view_module_version": "1.5.0",
            "orientation": "horizontal",
            "min": 0,
            "description_tooltip": null,
            "_model_module": "@jupyter-widgets/controls",
            "layout": "IPY_MODEL_65c9883fd15e447088e9ee20c8aa972f"
          }
        },
        "bd90b83984594ff4981d07c01e6a9bdb": {
          "model_module": "@jupyter-widgets/controls",
          "model_name": "HTMLModel",
          "state": {
            "_view_name": "HTMLView",
            "style": "IPY_MODEL_28060f96c85f4e6bb97abfa1b11494cf",
            "_dom_classes": [],
            "description": "",
            "_model_name": "HTMLModel",
            "placeholder": "​",
            "_view_module": "@jupyter-widgets/controls",
            "_model_module_version": "1.5.0",
            "value": " 170/170 [07:11&lt;00:00,  1.85s/it, training_loss=0.116]",
            "_view_count": null,
            "_view_module_version": "1.5.0",
            "description_tooltip": null,
            "_model_module": "@jupyter-widgets/controls",
            "layout": "IPY_MODEL_4a66c02a0f5940db863a7c761b720081"
          }
        },
        "5b005ac677da41ce81bdf0e8c988812b": {
          "model_module": "@jupyter-widgets/controls",
          "model_name": "ProgressStyleModel",
          "state": {
            "_view_name": "StyleView",
            "_model_name": "ProgressStyleModel",
            "description_width": "initial",
            "_view_module": "@jupyter-widgets/base",
            "_model_module_version": "1.5.0",
            "_view_count": null,
            "_view_module_version": "1.2.0",
            "bar_color": null,
            "_model_module": "@jupyter-widgets/controls"
          }
        },
        "65c9883fd15e447088e9ee20c8aa972f": {
          "model_module": "@jupyter-widgets/base",
          "model_name": "LayoutModel",
          "state": {
            "_view_name": "LayoutView",
            "grid_template_rows": null,
            "right": null,
            "justify_content": null,
            "_view_module": "@jupyter-widgets/base",
            "overflow": null,
            "_model_module_version": "1.2.0",
            "_view_count": null,
            "flex_flow": null,
            "width": null,
            "min_width": null,
            "border": null,
            "align_items": null,
            "bottom": null,
            "_model_module": "@jupyter-widgets/base",
            "top": null,
            "grid_column": null,
            "overflow_y": null,
            "overflow_x": null,
            "grid_auto_flow": null,
            "grid_area": null,
            "grid_template_columns": null,
            "flex": null,
            "_model_name": "LayoutModel",
            "justify_items": null,
            "grid_row": null,
            "max_height": null,
            "align_content": null,
            "visibility": null,
            "align_self": null,
            "height": null,
            "min_height": null,
            "padding": null,
            "grid_auto_rows": null,
            "grid_gap": null,
            "max_width": null,
            "order": null,
            "_view_module_version": "1.2.0",
            "grid_template_areas": null,
            "object_position": null,
            "object_fit": null,
            "grid_auto_columns": null,
            "margin": null,
            "display": null,
            "left": null
          }
        },
        "28060f96c85f4e6bb97abfa1b11494cf": {
          "model_module": "@jupyter-widgets/controls",
          "model_name": "DescriptionStyleModel",
          "state": {
            "_view_name": "StyleView",
            "_model_name": "DescriptionStyleModel",
            "description_width": "",
            "_view_module": "@jupyter-widgets/base",
            "_model_module_version": "1.5.0",
            "_view_count": null,
            "_view_module_version": "1.2.0",
            "_model_module": "@jupyter-widgets/controls"
          }
        },
        "4a66c02a0f5940db863a7c761b720081": {
          "model_module": "@jupyter-widgets/base",
          "model_name": "LayoutModel",
          "state": {
            "_view_name": "LayoutView",
            "grid_template_rows": null,
            "right": null,
            "justify_content": null,
            "_view_module": "@jupyter-widgets/base",
            "overflow": null,
            "_model_module_version": "1.2.0",
            "_view_count": null,
            "flex_flow": null,
            "width": null,
            "min_width": null,
            "border": null,
            "align_items": null,
            "bottom": null,
            "_model_module": "@jupyter-widgets/base",
            "top": null,
            "grid_column": null,
            "overflow_y": null,
            "overflow_x": null,
            "grid_auto_flow": null,
            "grid_area": null,
            "grid_template_columns": null,
            "flex": null,
            "_model_name": "LayoutModel",
            "justify_items": null,
            "grid_row": null,
            "max_height": null,
            "align_content": null,
            "visibility": null,
            "align_self": null,
            "height": null,
            "min_height": null,
            "padding": null,
            "grid_auto_rows": null,
            "grid_gap": null,
            "max_width": null,
            "order": null,
            "_view_module_version": "1.2.0",
            "grid_template_areas": null,
            "object_position": null,
            "object_fit": null,
            "grid_auto_columns": null,
            "margin": null,
            "display": null,
            "left": null
          }
        },
        "3691404f51fe4b61a58e93b3fafeb608": {
          "model_module": "@jupyter-widgets/controls",
          "model_name": "HBoxModel",
          "state": {
            "_view_name": "HBoxView",
            "_dom_classes": [],
            "_model_name": "HBoxModel",
            "_view_module": "@jupyter-widgets/controls",
            "_model_module_version": "1.5.0",
            "_view_count": null,
            "_view_module_version": "1.5.0",
            "box_style": "",
            "layout": "IPY_MODEL_d024cc0f38e245868fa37230d668a953",
            "_model_module": "@jupyter-widgets/controls",
            "children": [
              "IPY_MODEL_67f896a5ccf44f9ca03cdbbf891bdf17",
              "IPY_MODEL_0bcff7386e0e4d7781b69d0f31671bd8"
            ]
          }
        },
        "d024cc0f38e245868fa37230d668a953": {
          "model_module": "@jupyter-widgets/base",
          "model_name": "LayoutModel",
          "state": {
            "_view_name": "LayoutView",
            "grid_template_rows": null,
            "right": null,
            "justify_content": null,
            "_view_module": "@jupyter-widgets/base",
            "overflow": null,
            "_model_module_version": "1.2.0",
            "_view_count": null,
            "flex_flow": null,
            "width": null,
            "min_width": null,
            "border": null,
            "align_items": null,
            "bottom": null,
            "_model_module": "@jupyter-widgets/base",
            "top": null,
            "grid_column": null,
            "overflow_y": null,
            "overflow_x": null,
            "grid_auto_flow": null,
            "grid_area": null,
            "grid_template_columns": null,
            "flex": null,
            "_model_name": "LayoutModel",
            "justify_items": null,
            "grid_row": null,
            "max_height": null,
            "align_content": null,
            "visibility": null,
            "align_self": null,
            "height": null,
            "min_height": null,
            "padding": null,
            "grid_auto_rows": null,
            "grid_gap": null,
            "max_width": null,
            "order": null,
            "_view_module_version": "1.2.0",
            "grid_template_areas": null,
            "object_position": null,
            "object_fit": null,
            "grid_auto_columns": null,
            "margin": null,
            "display": null,
            "left": null
          }
        },
        "67f896a5ccf44f9ca03cdbbf891bdf17": {
          "model_module": "@jupyter-widgets/controls",
          "model_name": "FloatProgressModel",
          "state": {
            "_view_name": "ProgressView",
            "style": "IPY_MODEL_2bc70b67c86c40c88cd6efa7126fadb6",
            "_dom_classes": [],
            "description": "Epoch 3: 100%",
            "_model_name": "FloatProgressModel",
            "bar_style": "",
            "max": 170,
            "_view_module": "@jupyter-widgets/controls",
            "_model_module_version": "1.5.0",
            "value": 170,
            "_view_count": null,
            "_view_module_version": "1.5.0",
            "orientation": "horizontal",
            "min": 0,
            "description_tooltip": null,
            "_model_module": "@jupyter-widgets/controls",
            "layout": "IPY_MODEL_d737f4d705f8488fafd89fe43ac73c27"
          }
        },
        "0bcff7386e0e4d7781b69d0f31671bd8": {
          "model_module": "@jupyter-widgets/controls",
          "model_name": "HTMLModel",
          "state": {
            "_view_name": "HTMLView",
            "style": "IPY_MODEL_ea3d2ea82f3f45bbb6f4652936d346fa",
            "_dom_classes": [],
            "description": "",
            "_model_name": "HTMLModel",
            "placeholder": "​",
            "_view_module": "@jupyter-widgets/controls",
            "_model_module_version": "1.5.0",
            "value": " 170/170 [07:11&lt;00:00,  1.85s/it, training_loss=0.758]",
            "_view_count": null,
            "_view_module_version": "1.5.0",
            "description_tooltip": null,
            "_model_module": "@jupyter-widgets/controls",
            "layout": "IPY_MODEL_fb4bda2fe2c040d294e3ecdbadb856c1"
          }
        },
        "2bc70b67c86c40c88cd6efa7126fadb6": {
          "model_module": "@jupyter-widgets/controls",
          "model_name": "ProgressStyleModel",
          "state": {
            "_view_name": "StyleView",
            "_model_name": "ProgressStyleModel",
            "description_width": "initial",
            "_view_module": "@jupyter-widgets/base",
            "_model_module_version": "1.5.0",
            "_view_count": null,
            "_view_module_version": "1.2.0",
            "bar_color": null,
            "_model_module": "@jupyter-widgets/controls"
          }
        },
        "d737f4d705f8488fafd89fe43ac73c27": {
          "model_module": "@jupyter-widgets/base",
          "model_name": "LayoutModel",
          "state": {
            "_view_name": "LayoutView",
            "grid_template_rows": null,
            "right": null,
            "justify_content": null,
            "_view_module": "@jupyter-widgets/base",
            "overflow": null,
            "_model_module_version": "1.2.0",
            "_view_count": null,
            "flex_flow": null,
            "width": null,
            "min_width": null,
            "border": null,
            "align_items": null,
            "bottom": null,
            "_model_module": "@jupyter-widgets/base",
            "top": null,
            "grid_column": null,
            "overflow_y": null,
            "overflow_x": null,
            "grid_auto_flow": null,
            "grid_area": null,
            "grid_template_columns": null,
            "flex": null,
            "_model_name": "LayoutModel",
            "justify_items": null,
            "grid_row": null,
            "max_height": null,
            "align_content": null,
            "visibility": null,
            "align_self": null,
            "height": null,
            "min_height": null,
            "padding": null,
            "grid_auto_rows": null,
            "grid_gap": null,
            "max_width": null,
            "order": null,
            "_view_module_version": "1.2.0",
            "grid_template_areas": null,
            "object_position": null,
            "object_fit": null,
            "grid_auto_columns": null,
            "margin": null,
            "display": null,
            "left": null
          }
        },
        "ea3d2ea82f3f45bbb6f4652936d346fa": {
          "model_module": "@jupyter-widgets/controls",
          "model_name": "DescriptionStyleModel",
          "state": {
            "_view_name": "StyleView",
            "_model_name": "DescriptionStyleModel",
            "description_width": "",
            "_view_module": "@jupyter-widgets/base",
            "_model_module_version": "1.5.0",
            "_view_count": null,
            "_view_module_version": "1.2.0",
            "_model_module": "@jupyter-widgets/controls"
          }
        },
        "fb4bda2fe2c040d294e3ecdbadb856c1": {
          "model_module": "@jupyter-widgets/base",
          "model_name": "LayoutModel",
          "state": {
            "_view_name": "LayoutView",
            "grid_template_rows": null,
            "right": null,
            "justify_content": null,
            "_view_module": "@jupyter-widgets/base",
            "overflow": null,
            "_model_module_version": "1.2.0",
            "_view_count": null,
            "flex_flow": null,
            "width": null,
            "min_width": null,
            "border": null,
            "align_items": null,
            "bottom": null,
            "_model_module": "@jupyter-widgets/base",
            "top": null,
            "grid_column": null,
            "overflow_y": null,
            "overflow_x": null,
            "grid_auto_flow": null,
            "grid_area": null,
            "grid_template_columns": null,
            "flex": null,
            "_model_name": "LayoutModel",
            "justify_items": null,
            "grid_row": null,
            "max_height": null,
            "align_content": null,
            "visibility": null,
            "align_self": null,
            "height": null,
            "min_height": null,
            "padding": null,
            "grid_auto_rows": null,
            "grid_gap": null,
            "max_width": null,
            "order": null,
            "_view_module_version": "1.2.0",
            "grid_template_areas": null,
            "object_position": null,
            "object_fit": null,
            "grid_auto_columns": null,
            "margin": null,
            "display": null,
            "left": null
          }
        },
        "80b17917b9a74694830d3df417d405db": {
          "model_module": "@jupyter-widgets/controls",
          "model_name": "HBoxModel",
          "state": {
            "_view_name": "HBoxView",
            "_dom_classes": [],
            "_model_name": "HBoxModel",
            "_view_module": "@jupyter-widgets/controls",
            "_model_module_version": "1.5.0",
            "_view_count": null,
            "_view_module_version": "1.5.0",
            "box_style": "",
            "layout": "IPY_MODEL_3e6aad41274646c794afe2d898c21b73",
            "_model_module": "@jupyter-widgets/controls",
            "children": [
              "IPY_MODEL_aef8343b2cd84d43a8c93d433d9f2bee",
              "IPY_MODEL_e7d6730f31e446c9a3509affe055eaa3"
            ]
          }
        },
        "3e6aad41274646c794afe2d898c21b73": {
          "model_module": "@jupyter-widgets/base",
          "model_name": "LayoutModel",
          "state": {
            "_view_name": "LayoutView",
            "grid_template_rows": null,
            "right": null,
            "justify_content": null,
            "_view_module": "@jupyter-widgets/base",
            "overflow": null,
            "_model_module_version": "1.2.0",
            "_view_count": null,
            "flex_flow": null,
            "width": null,
            "min_width": null,
            "border": null,
            "align_items": null,
            "bottom": null,
            "_model_module": "@jupyter-widgets/base",
            "top": null,
            "grid_column": null,
            "overflow_y": null,
            "overflow_x": null,
            "grid_auto_flow": null,
            "grid_area": null,
            "grid_template_columns": null,
            "flex": null,
            "_model_name": "LayoutModel",
            "justify_items": null,
            "grid_row": null,
            "max_height": null,
            "align_content": null,
            "visibility": null,
            "align_self": null,
            "height": null,
            "min_height": null,
            "padding": null,
            "grid_auto_rows": null,
            "grid_gap": null,
            "max_width": null,
            "order": null,
            "_view_module_version": "1.2.0",
            "grid_template_areas": null,
            "object_position": null,
            "object_fit": null,
            "grid_auto_columns": null,
            "margin": null,
            "display": null,
            "left": null
          }
        },
        "aef8343b2cd84d43a8c93d433d9f2bee": {
          "model_module": "@jupyter-widgets/controls",
          "model_name": "FloatProgressModel",
          "state": {
            "_view_name": "ProgressView",
            "style": "IPY_MODEL_a5f5fadfb4b54633b7842c35d0b99ae4",
            "_dom_classes": [],
            "description": "Epoch 4: 100%",
            "_model_name": "FloatProgressModel",
            "bar_style": "",
            "max": 170,
            "_view_module": "@jupyter-widgets/controls",
            "_model_module_version": "1.5.0",
            "value": 170,
            "_view_count": null,
            "_view_module_version": "1.5.0",
            "orientation": "horizontal",
            "min": 0,
            "description_tooltip": null,
            "_model_module": "@jupyter-widgets/controls",
            "layout": "IPY_MODEL_5c69450be7cb49ff83fe6e511050e659"
          }
        },
        "e7d6730f31e446c9a3509affe055eaa3": {
          "model_module": "@jupyter-widgets/controls",
          "model_name": "HTMLModel",
          "state": {
            "_view_name": "HTMLView",
            "style": "IPY_MODEL_81f816daab0940db80cc89524eabde4e",
            "_dom_classes": [],
            "description": "",
            "_model_name": "HTMLModel",
            "placeholder": "​",
            "_view_module": "@jupyter-widgets/controls",
            "_model_module_version": "1.5.0",
            "value": " 170/170 [07:11&lt;00:00,  1.85s/it, training_loss=0.130]",
            "_view_count": null,
            "_view_module_version": "1.5.0",
            "description_tooltip": null,
            "_model_module": "@jupyter-widgets/controls",
            "layout": "IPY_MODEL_c9915b9da70e4c9da22c0ba1b4d5da5c"
          }
        },
        "a5f5fadfb4b54633b7842c35d0b99ae4": {
          "model_module": "@jupyter-widgets/controls",
          "model_name": "ProgressStyleModel",
          "state": {
            "_view_name": "StyleView",
            "_model_name": "ProgressStyleModel",
            "description_width": "initial",
            "_view_module": "@jupyter-widgets/base",
            "_model_module_version": "1.5.0",
            "_view_count": null,
            "_view_module_version": "1.2.0",
            "bar_color": null,
            "_model_module": "@jupyter-widgets/controls"
          }
        },
        "5c69450be7cb49ff83fe6e511050e659": {
          "model_module": "@jupyter-widgets/base",
          "model_name": "LayoutModel",
          "state": {
            "_view_name": "LayoutView",
            "grid_template_rows": null,
            "right": null,
            "justify_content": null,
            "_view_module": "@jupyter-widgets/base",
            "overflow": null,
            "_model_module_version": "1.2.0",
            "_view_count": null,
            "flex_flow": null,
            "width": null,
            "min_width": null,
            "border": null,
            "align_items": null,
            "bottom": null,
            "_model_module": "@jupyter-widgets/base",
            "top": null,
            "grid_column": null,
            "overflow_y": null,
            "overflow_x": null,
            "grid_auto_flow": null,
            "grid_area": null,
            "grid_template_columns": null,
            "flex": null,
            "_model_name": "LayoutModel",
            "justify_items": null,
            "grid_row": null,
            "max_height": null,
            "align_content": null,
            "visibility": null,
            "align_self": null,
            "height": null,
            "min_height": null,
            "padding": null,
            "grid_auto_rows": null,
            "grid_gap": null,
            "max_width": null,
            "order": null,
            "_view_module_version": "1.2.0",
            "grid_template_areas": null,
            "object_position": null,
            "object_fit": null,
            "grid_auto_columns": null,
            "margin": null,
            "display": null,
            "left": null
          }
        },
        "81f816daab0940db80cc89524eabde4e": {
          "model_module": "@jupyter-widgets/controls",
          "model_name": "DescriptionStyleModel",
          "state": {
            "_view_name": "StyleView",
            "_model_name": "DescriptionStyleModel",
            "description_width": "",
            "_view_module": "@jupyter-widgets/base",
            "_model_module_version": "1.5.0",
            "_view_count": null,
            "_view_module_version": "1.2.0",
            "_model_module": "@jupyter-widgets/controls"
          }
        },
        "c9915b9da70e4c9da22c0ba1b4d5da5c": {
          "model_module": "@jupyter-widgets/base",
          "model_name": "LayoutModel",
          "state": {
            "_view_name": "LayoutView",
            "grid_template_rows": null,
            "right": null,
            "justify_content": null,
            "_view_module": "@jupyter-widgets/base",
            "overflow": null,
            "_model_module_version": "1.2.0",
            "_view_count": null,
            "flex_flow": null,
            "width": null,
            "min_width": null,
            "border": null,
            "align_items": null,
            "bottom": null,
            "_model_module": "@jupyter-widgets/base",
            "top": null,
            "grid_column": null,
            "overflow_y": null,
            "overflow_x": null,
            "grid_auto_flow": null,
            "grid_area": null,
            "grid_template_columns": null,
            "flex": null,
            "_model_name": "LayoutModel",
            "justify_items": null,
            "grid_row": null,
            "max_height": null,
            "align_content": null,
            "visibility": null,
            "align_self": null,
            "height": null,
            "min_height": null,
            "padding": null,
            "grid_auto_rows": null,
            "grid_gap": null,
            "max_width": null,
            "order": null,
            "_view_module_version": "1.2.0",
            "grid_template_areas": null,
            "object_position": null,
            "object_fit": null,
            "grid_auto_columns": null,
            "margin": null,
            "display": null,
            "left": null
          }
        },
        "97bf5f9dd97e4181a82f19b6ea0458b8": {
          "model_module": "@jupyter-widgets/controls",
          "model_name": "HBoxModel",
          "state": {
            "_view_name": "HBoxView",
            "_dom_classes": [],
            "_model_name": "HBoxModel",
            "_view_module": "@jupyter-widgets/controls",
            "_model_module_version": "1.5.0",
            "_view_count": null,
            "_view_module_version": "1.5.0",
            "box_style": "",
            "layout": "IPY_MODEL_2c8c5b9269c4485cace9921409e19a1f",
            "_model_module": "@jupyter-widgets/controls",
            "children": [
              "IPY_MODEL_49aa861cc466403db150feef70e80844",
              "IPY_MODEL_d049b88937864d9781f228da7b5d65a9"
            ]
          }
        },
        "2c8c5b9269c4485cace9921409e19a1f": {
          "model_module": "@jupyter-widgets/base",
          "model_name": "LayoutModel",
          "state": {
            "_view_name": "LayoutView",
            "grid_template_rows": null,
            "right": null,
            "justify_content": null,
            "_view_module": "@jupyter-widgets/base",
            "overflow": null,
            "_model_module_version": "1.2.0",
            "_view_count": null,
            "flex_flow": null,
            "width": null,
            "min_width": null,
            "border": null,
            "align_items": null,
            "bottom": null,
            "_model_module": "@jupyter-widgets/base",
            "top": null,
            "grid_column": null,
            "overflow_y": null,
            "overflow_x": null,
            "grid_auto_flow": null,
            "grid_area": null,
            "grid_template_columns": null,
            "flex": null,
            "_model_name": "LayoutModel",
            "justify_items": null,
            "grid_row": null,
            "max_height": null,
            "align_content": null,
            "visibility": null,
            "align_self": null,
            "height": null,
            "min_height": null,
            "padding": null,
            "grid_auto_rows": null,
            "grid_gap": null,
            "max_width": null,
            "order": null,
            "_view_module_version": "1.2.0",
            "grid_template_areas": null,
            "object_position": null,
            "object_fit": null,
            "grid_auto_columns": null,
            "margin": null,
            "display": null,
            "left": null
          }
        },
        "49aa861cc466403db150feef70e80844": {
          "model_module": "@jupyter-widgets/controls",
          "model_name": "FloatProgressModel",
          "state": {
            "_view_name": "ProgressView",
            "style": "IPY_MODEL_299e167eca024beea325f466147b5bb7",
            "_dom_classes": [],
            "description": "Epoch 5: 100%",
            "_model_name": "FloatProgressModel",
            "bar_style": "",
            "max": 170,
            "_view_module": "@jupyter-widgets/controls",
            "_model_module_version": "1.5.0",
            "value": 170,
            "_view_count": null,
            "_view_module_version": "1.5.0",
            "orientation": "horizontal",
            "min": 0,
            "description_tooltip": null,
            "_model_module": "@jupyter-widgets/controls",
            "layout": "IPY_MODEL_6a3e44ae7fb04036a15b445899943cbf"
          }
        },
        "d049b88937864d9781f228da7b5d65a9": {
          "model_module": "@jupyter-widgets/controls",
          "model_name": "HTMLModel",
          "state": {
            "_view_name": "HTMLView",
            "style": "IPY_MODEL_5e146060afe340298f7762f0c371a218",
            "_dom_classes": [],
            "description": "",
            "_model_name": "HTMLModel",
            "placeholder": "​",
            "_view_module": "@jupyter-widgets/controls",
            "_model_module_version": "1.5.0",
            "value": " 170/170 [07:11&lt;00:00,  1.85s/it, training_loss=0.137]",
            "_view_count": null,
            "_view_module_version": "1.5.0",
            "description_tooltip": null,
            "_model_module": "@jupyter-widgets/controls",
            "layout": "IPY_MODEL_b42469a55c9a4073b7a2fe266af1ee2a"
          }
        },
        "299e167eca024beea325f466147b5bb7": {
          "model_module": "@jupyter-widgets/controls",
          "model_name": "ProgressStyleModel",
          "state": {
            "_view_name": "StyleView",
            "_model_name": "ProgressStyleModel",
            "description_width": "initial",
            "_view_module": "@jupyter-widgets/base",
            "_model_module_version": "1.5.0",
            "_view_count": null,
            "_view_module_version": "1.2.0",
            "bar_color": null,
            "_model_module": "@jupyter-widgets/controls"
          }
        },
        "6a3e44ae7fb04036a15b445899943cbf": {
          "model_module": "@jupyter-widgets/base",
          "model_name": "LayoutModel",
          "state": {
            "_view_name": "LayoutView",
            "grid_template_rows": null,
            "right": null,
            "justify_content": null,
            "_view_module": "@jupyter-widgets/base",
            "overflow": null,
            "_model_module_version": "1.2.0",
            "_view_count": null,
            "flex_flow": null,
            "width": null,
            "min_width": null,
            "border": null,
            "align_items": null,
            "bottom": null,
            "_model_module": "@jupyter-widgets/base",
            "top": null,
            "grid_column": null,
            "overflow_y": null,
            "overflow_x": null,
            "grid_auto_flow": null,
            "grid_area": null,
            "grid_template_columns": null,
            "flex": null,
            "_model_name": "LayoutModel",
            "justify_items": null,
            "grid_row": null,
            "max_height": null,
            "align_content": null,
            "visibility": null,
            "align_self": null,
            "height": null,
            "min_height": null,
            "padding": null,
            "grid_auto_rows": null,
            "grid_gap": null,
            "max_width": null,
            "order": null,
            "_view_module_version": "1.2.0",
            "grid_template_areas": null,
            "object_position": null,
            "object_fit": null,
            "grid_auto_columns": null,
            "margin": null,
            "display": null,
            "left": null
          }
        },
        "5e146060afe340298f7762f0c371a218": {
          "model_module": "@jupyter-widgets/controls",
          "model_name": "DescriptionStyleModel",
          "state": {
            "_view_name": "StyleView",
            "_model_name": "DescriptionStyleModel",
            "description_width": "",
            "_view_module": "@jupyter-widgets/base",
            "_model_module_version": "1.5.0",
            "_view_count": null,
            "_view_module_version": "1.2.0",
            "_model_module": "@jupyter-widgets/controls"
          }
        },
        "b42469a55c9a4073b7a2fe266af1ee2a": {
          "model_module": "@jupyter-widgets/base",
          "model_name": "LayoutModel",
          "state": {
            "_view_name": "LayoutView",
            "grid_template_rows": null,
            "right": null,
            "justify_content": null,
            "_view_module": "@jupyter-widgets/base",
            "overflow": null,
            "_model_module_version": "1.2.0",
            "_view_count": null,
            "flex_flow": null,
            "width": null,
            "min_width": null,
            "border": null,
            "align_items": null,
            "bottom": null,
            "_model_module": "@jupyter-widgets/base",
            "top": null,
            "grid_column": null,
            "overflow_y": null,
            "overflow_x": null,
            "grid_auto_flow": null,
            "grid_area": null,
            "grid_template_columns": null,
            "flex": null,
            "_model_name": "LayoutModel",
            "justify_items": null,
            "grid_row": null,
            "max_height": null,
            "align_content": null,
            "visibility": null,
            "align_self": null,
            "height": null,
            "min_height": null,
            "padding": null,
            "grid_auto_rows": null,
            "grid_gap": null,
            "max_width": null,
            "order": null,
            "_view_module_version": "1.2.0",
            "grid_template_areas": null,
            "object_position": null,
            "object_fit": null,
            "grid_auto_columns": null,
            "margin": null,
            "display": null,
            "left": null
          }
        },
        "41f01359c2554238bd4d1294d68244e8": {
          "model_module": "@jupyter-widgets/controls",
          "model_name": "HBoxModel",
          "state": {
            "_view_name": "HBoxView",
            "_dom_classes": [],
            "_model_name": "HBoxModel",
            "_view_module": "@jupyter-widgets/controls",
            "_model_module_version": "1.5.0",
            "_view_count": null,
            "_view_module_version": "1.5.0",
            "box_style": "",
            "layout": "IPY_MODEL_f05d3fbd98154ef1b5a6167f001a76f6",
            "_model_module": "@jupyter-widgets/controls",
            "children": [
              "IPY_MODEL_7ee48abcc71c44cc99a3acfd195476cf",
              "IPY_MODEL_5a3013dc13fd4aa18d2470ae9f241908"
            ]
          }
        },
        "f05d3fbd98154ef1b5a6167f001a76f6": {
          "model_module": "@jupyter-widgets/base",
          "model_name": "LayoutModel",
          "state": {
            "_view_name": "LayoutView",
            "grid_template_rows": null,
            "right": null,
            "justify_content": null,
            "_view_module": "@jupyter-widgets/base",
            "overflow": null,
            "_model_module_version": "1.2.0",
            "_view_count": null,
            "flex_flow": null,
            "width": null,
            "min_width": null,
            "border": null,
            "align_items": null,
            "bottom": null,
            "_model_module": "@jupyter-widgets/base",
            "top": null,
            "grid_column": null,
            "overflow_y": null,
            "overflow_x": null,
            "grid_auto_flow": null,
            "grid_area": null,
            "grid_template_columns": null,
            "flex": null,
            "_model_name": "LayoutModel",
            "justify_items": null,
            "grid_row": null,
            "max_height": null,
            "align_content": null,
            "visibility": null,
            "align_self": null,
            "height": null,
            "min_height": null,
            "padding": null,
            "grid_auto_rows": null,
            "grid_gap": null,
            "max_width": null,
            "order": null,
            "_view_module_version": "1.2.0",
            "grid_template_areas": null,
            "object_position": null,
            "object_fit": null,
            "grid_auto_columns": null,
            "margin": null,
            "display": null,
            "left": null
          }
        },
        "7ee48abcc71c44cc99a3acfd195476cf": {
          "model_module": "@jupyter-widgets/controls",
          "model_name": "FloatProgressModel",
          "state": {
            "_view_name": "ProgressView",
            "style": "IPY_MODEL_4bf240a37ed94897a875f270af4707c3",
            "_dom_classes": [],
            "description": "Epoch 6: 100%",
            "_model_name": "FloatProgressModel",
            "bar_style": "",
            "max": 170,
            "_view_module": "@jupyter-widgets/controls",
            "_model_module_version": "1.5.0",
            "value": 170,
            "_view_count": null,
            "_view_module_version": "1.5.0",
            "orientation": "horizontal",
            "min": 0,
            "description_tooltip": null,
            "_model_module": "@jupyter-widgets/controls",
            "layout": "IPY_MODEL_8ccc6fe167204a7a86c7b47e809c2547"
          }
        },
        "5a3013dc13fd4aa18d2470ae9f241908": {
          "model_module": "@jupyter-widgets/controls",
          "model_name": "HTMLModel",
          "state": {
            "_view_name": "HTMLView",
            "style": "IPY_MODEL_b15baf7ca84747239a4419606190cef1",
            "_dom_classes": [],
            "description": "",
            "_model_name": "HTMLModel",
            "placeholder": "​",
            "_view_module": "@jupyter-widgets/controls",
            "_model_module_version": "1.5.0",
            "value": " 170/170 [07:11&lt;00:00,  1.85s/it, training_loss=0.074]",
            "_view_count": null,
            "_view_module_version": "1.5.0",
            "description_tooltip": null,
            "_model_module": "@jupyter-widgets/controls",
            "layout": "IPY_MODEL_3bd5cd886ce74cee9edf7b3a1408b073"
          }
        },
        "4bf240a37ed94897a875f270af4707c3": {
          "model_module": "@jupyter-widgets/controls",
          "model_name": "ProgressStyleModel",
          "state": {
            "_view_name": "StyleView",
            "_model_name": "ProgressStyleModel",
            "description_width": "initial",
            "_view_module": "@jupyter-widgets/base",
            "_model_module_version": "1.5.0",
            "_view_count": null,
            "_view_module_version": "1.2.0",
            "bar_color": null,
            "_model_module": "@jupyter-widgets/controls"
          }
        },
        "8ccc6fe167204a7a86c7b47e809c2547": {
          "model_module": "@jupyter-widgets/base",
          "model_name": "LayoutModel",
          "state": {
            "_view_name": "LayoutView",
            "grid_template_rows": null,
            "right": null,
            "justify_content": null,
            "_view_module": "@jupyter-widgets/base",
            "overflow": null,
            "_model_module_version": "1.2.0",
            "_view_count": null,
            "flex_flow": null,
            "width": null,
            "min_width": null,
            "border": null,
            "align_items": null,
            "bottom": null,
            "_model_module": "@jupyter-widgets/base",
            "top": null,
            "grid_column": null,
            "overflow_y": null,
            "overflow_x": null,
            "grid_auto_flow": null,
            "grid_area": null,
            "grid_template_columns": null,
            "flex": null,
            "_model_name": "LayoutModel",
            "justify_items": null,
            "grid_row": null,
            "max_height": null,
            "align_content": null,
            "visibility": null,
            "align_self": null,
            "height": null,
            "min_height": null,
            "padding": null,
            "grid_auto_rows": null,
            "grid_gap": null,
            "max_width": null,
            "order": null,
            "_view_module_version": "1.2.0",
            "grid_template_areas": null,
            "object_position": null,
            "object_fit": null,
            "grid_auto_columns": null,
            "margin": null,
            "display": null,
            "left": null
          }
        },
        "b15baf7ca84747239a4419606190cef1": {
          "model_module": "@jupyter-widgets/controls",
          "model_name": "DescriptionStyleModel",
          "state": {
            "_view_name": "StyleView",
            "_model_name": "DescriptionStyleModel",
            "description_width": "",
            "_view_module": "@jupyter-widgets/base",
            "_model_module_version": "1.5.0",
            "_view_count": null,
            "_view_module_version": "1.2.0",
            "_model_module": "@jupyter-widgets/controls"
          }
        },
        "3bd5cd886ce74cee9edf7b3a1408b073": {
          "model_module": "@jupyter-widgets/base",
          "model_name": "LayoutModel",
          "state": {
            "_view_name": "LayoutView",
            "grid_template_rows": null,
            "right": null,
            "justify_content": null,
            "_view_module": "@jupyter-widgets/base",
            "overflow": null,
            "_model_module_version": "1.2.0",
            "_view_count": null,
            "flex_flow": null,
            "width": null,
            "min_width": null,
            "border": null,
            "align_items": null,
            "bottom": null,
            "_model_module": "@jupyter-widgets/base",
            "top": null,
            "grid_column": null,
            "overflow_y": null,
            "overflow_x": null,
            "grid_auto_flow": null,
            "grid_area": null,
            "grid_template_columns": null,
            "flex": null,
            "_model_name": "LayoutModel",
            "justify_items": null,
            "grid_row": null,
            "max_height": null,
            "align_content": null,
            "visibility": null,
            "align_self": null,
            "height": null,
            "min_height": null,
            "padding": null,
            "grid_auto_rows": null,
            "grid_gap": null,
            "max_width": null,
            "order": null,
            "_view_module_version": "1.2.0",
            "grid_template_areas": null,
            "object_position": null,
            "object_fit": null,
            "grid_auto_columns": null,
            "margin": null,
            "display": null,
            "left": null
          }
        },
        "fa5905722e354c9089c9a540d70e70fb": {
          "model_module": "@jupyter-widgets/controls",
          "model_name": "HBoxModel",
          "state": {
            "_view_name": "HBoxView",
            "_dom_classes": [],
            "_model_name": "HBoxModel",
            "_view_module": "@jupyter-widgets/controls",
            "_model_module_version": "1.5.0",
            "_view_count": null,
            "_view_module_version": "1.5.0",
            "box_style": "",
            "layout": "IPY_MODEL_ef9684f7a768457a9e0dbcc4ac7e39d2",
            "_model_module": "@jupyter-widgets/controls",
            "children": [
              "IPY_MODEL_44170779931d4687b3b87ca255e23293",
              "IPY_MODEL_d263713db15245e88b2122a339fa5345"
            ]
          }
        },
        "ef9684f7a768457a9e0dbcc4ac7e39d2": {
          "model_module": "@jupyter-widgets/base",
          "model_name": "LayoutModel",
          "state": {
            "_view_name": "LayoutView",
            "grid_template_rows": null,
            "right": null,
            "justify_content": null,
            "_view_module": "@jupyter-widgets/base",
            "overflow": null,
            "_model_module_version": "1.2.0",
            "_view_count": null,
            "flex_flow": null,
            "width": null,
            "min_width": null,
            "border": null,
            "align_items": null,
            "bottom": null,
            "_model_module": "@jupyter-widgets/base",
            "top": null,
            "grid_column": null,
            "overflow_y": null,
            "overflow_x": null,
            "grid_auto_flow": null,
            "grid_area": null,
            "grid_template_columns": null,
            "flex": null,
            "_model_name": "LayoutModel",
            "justify_items": null,
            "grid_row": null,
            "max_height": null,
            "align_content": null,
            "visibility": null,
            "align_self": null,
            "height": null,
            "min_height": null,
            "padding": null,
            "grid_auto_rows": null,
            "grid_gap": null,
            "max_width": null,
            "order": null,
            "_view_module_version": "1.2.0",
            "grid_template_areas": null,
            "object_position": null,
            "object_fit": null,
            "grid_auto_columns": null,
            "margin": null,
            "display": null,
            "left": null
          }
        },
        "44170779931d4687b3b87ca255e23293": {
          "model_module": "@jupyter-widgets/controls",
          "model_name": "FloatProgressModel",
          "state": {
            "_view_name": "ProgressView",
            "style": "IPY_MODEL_684d07a9ce1d481fa83ceb95ce3b642e",
            "_dom_classes": [],
            "description": "Epoch 7: 100%",
            "_model_name": "FloatProgressModel",
            "bar_style": "",
            "max": 170,
            "_view_module": "@jupyter-widgets/controls",
            "_model_module_version": "1.5.0",
            "value": 170,
            "_view_count": null,
            "_view_module_version": "1.5.0",
            "orientation": "horizontal",
            "min": 0,
            "description_tooltip": null,
            "_model_module": "@jupyter-widgets/controls",
            "layout": "IPY_MODEL_67165694c3934968ac261d9323c56b4c"
          }
        },
        "d263713db15245e88b2122a339fa5345": {
          "model_module": "@jupyter-widgets/controls",
          "model_name": "HTMLModel",
          "state": {
            "_view_name": "HTMLView",
            "style": "IPY_MODEL_481d7b805f9647099def350b841d6907",
            "_dom_classes": [],
            "description": "",
            "_model_name": "HTMLModel",
            "placeholder": "​",
            "_view_module": "@jupyter-widgets/controls",
            "_model_module_version": "1.5.0",
            "value": " 170/170 [07:11&lt;00:00,  1.84s/it, training_loss=0.123]",
            "_view_count": null,
            "_view_module_version": "1.5.0",
            "description_tooltip": null,
            "_model_module": "@jupyter-widgets/controls",
            "layout": "IPY_MODEL_4b0c4ba68ece48e3aaaabac594222724"
          }
        },
        "684d07a9ce1d481fa83ceb95ce3b642e": {
          "model_module": "@jupyter-widgets/controls",
          "model_name": "ProgressStyleModel",
          "state": {
            "_view_name": "StyleView",
            "_model_name": "ProgressStyleModel",
            "description_width": "initial",
            "_view_module": "@jupyter-widgets/base",
            "_model_module_version": "1.5.0",
            "_view_count": null,
            "_view_module_version": "1.2.0",
            "bar_color": null,
            "_model_module": "@jupyter-widgets/controls"
          }
        },
        "67165694c3934968ac261d9323c56b4c": {
          "model_module": "@jupyter-widgets/base",
          "model_name": "LayoutModel",
          "state": {
            "_view_name": "LayoutView",
            "grid_template_rows": null,
            "right": null,
            "justify_content": null,
            "_view_module": "@jupyter-widgets/base",
            "overflow": null,
            "_model_module_version": "1.2.0",
            "_view_count": null,
            "flex_flow": null,
            "width": null,
            "min_width": null,
            "border": null,
            "align_items": null,
            "bottom": null,
            "_model_module": "@jupyter-widgets/base",
            "top": null,
            "grid_column": null,
            "overflow_y": null,
            "overflow_x": null,
            "grid_auto_flow": null,
            "grid_area": null,
            "grid_template_columns": null,
            "flex": null,
            "_model_name": "LayoutModel",
            "justify_items": null,
            "grid_row": null,
            "max_height": null,
            "align_content": null,
            "visibility": null,
            "align_self": null,
            "height": null,
            "min_height": null,
            "padding": null,
            "grid_auto_rows": null,
            "grid_gap": null,
            "max_width": null,
            "order": null,
            "_view_module_version": "1.2.0",
            "grid_template_areas": null,
            "object_position": null,
            "object_fit": null,
            "grid_auto_columns": null,
            "margin": null,
            "display": null,
            "left": null
          }
        },
        "481d7b805f9647099def350b841d6907": {
          "model_module": "@jupyter-widgets/controls",
          "model_name": "DescriptionStyleModel",
          "state": {
            "_view_name": "StyleView",
            "_model_name": "DescriptionStyleModel",
            "description_width": "",
            "_view_module": "@jupyter-widgets/base",
            "_model_module_version": "1.5.0",
            "_view_count": null,
            "_view_module_version": "1.2.0",
            "_model_module": "@jupyter-widgets/controls"
          }
        },
        "4b0c4ba68ece48e3aaaabac594222724": {
          "model_module": "@jupyter-widgets/base",
          "model_name": "LayoutModel",
          "state": {
            "_view_name": "LayoutView",
            "grid_template_rows": null,
            "right": null,
            "justify_content": null,
            "_view_module": "@jupyter-widgets/base",
            "overflow": null,
            "_model_module_version": "1.2.0",
            "_view_count": null,
            "flex_flow": null,
            "width": null,
            "min_width": null,
            "border": null,
            "align_items": null,
            "bottom": null,
            "_model_module": "@jupyter-widgets/base",
            "top": null,
            "grid_column": null,
            "overflow_y": null,
            "overflow_x": null,
            "grid_auto_flow": null,
            "grid_area": null,
            "grid_template_columns": null,
            "flex": null,
            "_model_name": "LayoutModel",
            "justify_items": null,
            "grid_row": null,
            "max_height": null,
            "align_content": null,
            "visibility": null,
            "align_self": null,
            "height": null,
            "min_height": null,
            "padding": null,
            "grid_auto_rows": null,
            "grid_gap": null,
            "max_width": null,
            "order": null,
            "_view_module_version": "1.2.0",
            "grid_template_areas": null,
            "object_position": null,
            "object_fit": null,
            "grid_auto_columns": null,
            "margin": null,
            "display": null,
            "left": null
          }
        },
        "5be7d2af9bbc4a9781efa10fb4b645a7": {
          "model_module": "@jupyter-widgets/controls",
          "model_name": "HBoxModel",
          "state": {
            "_view_name": "HBoxView",
            "_dom_classes": [],
            "_model_name": "HBoxModel",
            "_view_module": "@jupyter-widgets/controls",
            "_model_module_version": "1.5.0",
            "_view_count": null,
            "_view_module_version": "1.5.0",
            "box_style": "",
            "layout": "IPY_MODEL_4f024c863513441d9937073b21c9544e",
            "_model_module": "@jupyter-widgets/controls",
            "children": [
              "IPY_MODEL_5235644470dd43669add51c205d12e8d",
              "IPY_MODEL_fb90e6188b894a2eb72f6b31e0513bb1"
            ]
          }
        },
        "4f024c863513441d9937073b21c9544e": {
          "model_module": "@jupyter-widgets/base",
          "model_name": "LayoutModel",
          "state": {
            "_view_name": "LayoutView",
            "grid_template_rows": null,
            "right": null,
            "justify_content": null,
            "_view_module": "@jupyter-widgets/base",
            "overflow": null,
            "_model_module_version": "1.2.0",
            "_view_count": null,
            "flex_flow": null,
            "width": null,
            "min_width": null,
            "border": null,
            "align_items": null,
            "bottom": null,
            "_model_module": "@jupyter-widgets/base",
            "top": null,
            "grid_column": null,
            "overflow_y": null,
            "overflow_x": null,
            "grid_auto_flow": null,
            "grid_area": null,
            "grid_template_columns": null,
            "flex": null,
            "_model_name": "LayoutModel",
            "justify_items": null,
            "grid_row": null,
            "max_height": null,
            "align_content": null,
            "visibility": null,
            "align_self": null,
            "height": null,
            "min_height": null,
            "padding": null,
            "grid_auto_rows": null,
            "grid_gap": null,
            "max_width": null,
            "order": null,
            "_view_module_version": "1.2.0",
            "grid_template_areas": null,
            "object_position": null,
            "object_fit": null,
            "grid_auto_columns": null,
            "margin": null,
            "display": null,
            "left": null
          }
        },
        "5235644470dd43669add51c205d12e8d": {
          "model_module": "@jupyter-widgets/controls",
          "model_name": "FloatProgressModel",
          "state": {
            "_view_name": "ProgressView",
            "style": "IPY_MODEL_3d6cd33fc4fb4b11835d331d6b877289",
            "_dom_classes": [],
            "description": "Epoch 8: 100%",
            "_model_name": "FloatProgressModel",
            "bar_style": "",
            "max": 170,
            "_view_module": "@jupyter-widgets/controls",
            "_model_module_version": "1.5.0",
            "value": 170,
            "_view_count": null,
            "_view_module_version": "1.5.0",
            "orientation": "horizontal",
            "min": 0,
            "description_tooltip": null,
            "_model_module": "@jupyter-widgets/controls",
            "layout": "IPY_MODEL_aa5388186e1d4d7c99048d774fea96bb"
          }
        },
        "fb90e6188b894a2eb72f6b31e0513bb1": {
          "model_module": "@jupyter-widgets/controls",
          "model_name": "HTMLModel",
          "state": {
            "_view_name": "HTMLView",
            "style": "IPY_MODEL_da5e40f7c66949b18a24ae63a7bc3152",
            "_dom_classes": [],
            "description": "",
            "_model_name": "HTMLModel",
            "placeholder": "​",
            "_view_module": "@jupyter-widgets/controls",
            "_model_module_version": "1.5.0",
            "value": " 170/170 [07:10&lt;00:00,  1.85s/it, training_loss=0.352]",
            "_view_count": null,
            "_view_module_version": "1.5.0",
            "description_tooltip": null,
            "_model_module": "@jupyter-widgets/controls",
            "layout": "IPY_MODEL_97247e3aa67f4fee85f3d919f0fd07ec"
          }
        },
        "3d6cd33fc4fb4b11835d331d6b877289": {
          "model_module": "@jupyter-widgets/controls",
          "model_name": "ProgressStyleModel",
          "state": {
            "_view_name": "StyleView",
            "_model_name": "ProgressStyleModel",
            "description_width": "initial",
            "_view_module": "@jupyter-widgets/base",
            "_model_module_version": "1.5.0",
            "_view_count": null,
            "_view_module_version": "1.2.0",
            "bar_color": null,
            "_model_module": "@jupyter-widgets/controls"
          }
        },
        "aa5388186e1d4d7c99048d774fea96bb": {
          "model_module": "@jupyter-widgets/base",
          "model_name": "LayoutModel",
          "state": {
            "_view_name": "LayoutView",
            "grid_template_rows": null,
            "right": null,
            "justify_content": null,
            "_view_module": "@jupyter-widgets/base",
            "overflow": null,
            "_model_module_version": "1.2.0",
            "_view_count": null,
            "flex_flow": null,
            "width": null,
            "min_width": null,
            "border": null,
            "align_items": null,
            "bottom": null,
            "_model_module": "@jupyter-widgets/base",
            "top": null,
            "grid_column": null,
            "overflow_y": null,
            "overflow_x": null,
            "grid_auto_flow": null,
            "grid_area": null,
            "grid_template_columns": null,
            "flex": null,
            "_model_name": "LayoutModel",
            "justify_items": null,
            "grid_row": null,
            "max_height": null,
            "align_content": null,
            "visibility": null,
            "align_self": null,
            "height": null,
            "min_height": null,
            "padding": null,
            "grid_auto_rows": null,
            "grid_gap": null,
            "max_width": null,
            "order": null,
            "_view_module_version": "1.2.0",
            "grid_template_areas": null,
            "object_position": null,
            "object_fit": null,
            "grid_auto_columns": null,
            "margin": null,
            "display": null,
            "left": null
          }
        },
        "da5e40f7c66949b18a24ae63a7bc3152": {
          "model_module": "@jupyter-widgets/controls",
          "model_name": "DescriptionStyleModel",
          "state": {
            "_view_name": "StyleView",
            "_model_name": "DescriptionStyleModel",
            "description_width": "",
            "_view_module": "@jupyter-widgets/base",
            "_model_module_version": "1.5.0",
            "_view_count": null,
            "_view_module_version": "1.2.0",
            "_model_module": "@jupyter-widgets/controls"
          }
        },
        "97247e3aa67f4fee85f3d919f0fd07ec": {
          "model_module": "@jupyter-widgets/base",
          "model_name": "LayoutModel",
          "state": {
            "_view_name": "LayoutView",
            "grid_template_rows": null,
            "right": null,
            "justify_content": null,
            "_view_module": "@jupyter-widgets/base",
            "overflow": null,
            "_model_module_version": "1.2.0",
            "_view_count": null,
            "flex_flow": null,
            "width": null,
            "min_width": null,
            "border": null,
            "align_items": null,
            "bottom": null,
            "_model_module": "@jupyter-widgets/base",
            "top": null,
            "grid_column": null,
            "overflow_y": null,
            "overflow_x": null,
            "grid_auto_flow": null,
            "grid_area": null,
            "grid_template_columns": null,
            "flex": null,
            "_model_name": "LayoutModel",
            "justify_items": null,
            "grid_row": null,
            "max_height": null,
            "align_content": null,
            "visibility": null,
            "align_self": null,
            "height": null,
            "min_height": null,
            "padding": null,
            "grid_auto_rows": null,
            "grid_gap": null,
            "max_width": null,
            "order": null,
            "_view_module_version": "1.2.0",
            "grid_template_areas": null,
            "object_position": null,
            "object_fit": null,
            "grid_auto_columns": null,
            "margin": null,
            "display": null,
            "left": null
          }
        },
        "9bd9c35219114b1b8b89e6cfad4f8b8f": {
          "model_module": "@jupyter-widgets/controls",
          "model_name": "HBoxModel",
          "state": {
            "_view_name": "HBoxView",
            "_dom_classes": [],
            "_model_name": "HBoxModel",
            "_view_module": "@jupyter-widgets/controls",
            "_model_module_version": "1.5.0",
            "_view_count": null,
            "_view_module_version": "1.5.0",
            "box_style": "",
            "layout": "IPY_MODEL_10bbe836a0ac4a5a9123aacf26b19c5b",
            "_model_module": "@jupyter-widgets/controls",
            "children": [
              "IPY_MODEL_bf95e9ca26324f8d8a064b210dbb8499",
              "IPY_MODEL_3040509de9674e34ac82351978167dd0"
            ]
          }
        },
        "10bbe836a0ac4a5a9123aacf26b19c5b": {
          "model_module": "@jupyter-widgets/base",
          "model_name": "LayoutModel",
          "state": {
            "_view_name": "LayoutView",
            "grid_template_rows": null,
            "right": null,
            "justify_content": null,
            "_view_module": "@jupyter-widgets/base",
            "overflow": null,
            "_model_module_version": "1.2.0",
            "_view_count": null,
            "flex_flow": null,
            "width": null,
            "min_width": null,
            "border": null,
            "align_items": null,
            "bottom": null,
            "_model_module": "@jupyter-widgets/base",
            "top": null,
            "grid_column": null,
            "overflow_y": null,
            "overflow_x": null,
            "grid_auto_flow": null,
            "grid_area": null,
            "grid_template_columns": null,
            "flex": null,
            "_model_name": "LayoutModel",
            "justify_items": null,
            "grid_row": null,
            "max_height": null,
            "align_content": null,
            "visibility": null,
            "align_self": null,
            "height": null,
            "min_height": null,
            "padding": null,
            "grid_auto_rows": null,
            "grid_gap": null,
            "max_width": null,
            "order": null,
            "_view_module_version": "1.2.0",
            "grid_template_areas": null,
            "object_position": null,
            "object_fit": null,
            "grid_auto_columns": null,
            "margin": null,
            "display": null,
            "left": null
          }
        },
        "bf95e9ca26324f8d8a064b210dbb8499": {
          "model_module": "@jupyter-widgets/controls",
          "model_name": "FloatProgressModel",
          "state": {
            "_view_name": "ProgressView",
            "style": "IPY_MODEL_9bf5000b60a44c4c80807b337b03088e",
            "_dom_classes": [],
            "description": "Epoch 9: 100%",
            "_model_name": "FloatProgressModel",
            "bar_style": "",
            "max": 170,
            "_view_module": "@jupyter-widgets/controls",
            "_model_module_version": "1.5.0",
            "value": 170,
            "_view_count": null,
            "_view_module_version": "1.5.0",
            "orientation": "horizontal",
            "min": 0,
            "description_tooltip": null,
            "_model_module": "@jupyter-widgets/controls",
            "layout": "IPY_MODEL_aec1e30de04c49969b7d6158061e05d6"
          }
        },
        "3040509de9674e34ac82351978167dd0": {
          "model_module": "@jupyter-widgets/controls",
          "model_name": "HTMLModel",
          "state": {
            "_view_name": "HTMLView",
            "style": "IPY_MODEL_6c2afefac0f5466c99e734180980fbca",
            "_dom_classes": [],
            "description": "",
            "_model_name": "HTMLModel",
            "placeholder": "​",
            "_view_module": "@jupyter-widgets/controls",
            "_model_module_version": "1.5.0",
            "value": " 170/170 [07:11&lt;00:00,  1.85s/it, training_loss=0.037]",
            "_view_count": null,
            "_view_module_version": "1.5.0",
            "description_tooltip": null,
            "_model_module": "@jupyter-widgets/controls",
            "layout": "IPY_MODEL_83cfcfd9cd104af48390e05d49472d7e"
          }
        },
        "9bf5000b60a44c4c80807b337b03088e": {
          "model_module": "@jupyter-widgets/controls",
          "model_name": "ProgressStyleModel",
          "state": {
            "_view_name": "StyleView",
            "_model_name": "ProgressStyleModel",
            "description_width": "initial",
            "_view_module": "@jupyter-widgets/base",
            "_model_module_version": "1.5.0",
            "_view_count": null,
            "_view_module_version": "1.2.0",
            "bar_color": null,
            "_model_module": "@jupyter-widgets/controls"
          }
        },
        "aec1e30de04c49969b7d6158061e05d6": {
          "model_module": "@jupyter-widgets/base",
          "model_name": "LayoutModel",
          "state": {
            "_view_name": "LayoutView",
            "grid_template_rows": null,
            "right": null,
            "justify_content": null,
            "_view_module": "@jupyter-widgets/base",
            "overflow": null,
            "_model_module_version": "1.2.0",
            "_view_count": null,
            "flex_flow": null,
            "width": null,
            "min_width": null,
            "border": null,
            "align_items": null,
            "bottom": null,
            "_model_module": "@jupyter-widgets/base",
            "top": null,
            "grid_column": null,
            "overflow_y": null,
            "overflow_x": null,
            "grid_auto_flow": null,
            "grid_area": null,
            "grid_template_columns": null,
            "flex": null,
            "_model_name": "LayoutModel",
            "justify_items": null,
            "grid_row": null,
            "max_height": null,
            "align_content": null,
            "visibility": null,
            "align_self": null,
            "height": null,
            "min_height": null,
            "padding": null,
            "grid_auto_rows": null,
            "grid_gap": null,
            "max_width": null,
            "order": null,
            "_view_module_version": "1.2.0",
            "grid_template_areas": null,
            "object_position": null,
            "object_fit": null,
            "grid_auto_columns": null,
            "margin": null,
            "display": null,
            "left": null
          }
        },
        "6c2afefac0f5466c99e734180980fbca": {
          "model_module": "@jupyter-widgets/controls",
          "model_name": "DescriptionStyleModel",
          "state": {
            "_view_name": "StyleView",
            "_model_name": "DescriptionStyleModel",
            "description_width": "",
            "_view_module": "@jupyter-widgets/base",
            "_model_module_version": "1.5.0",
            "_view_count": null,
            "_view_module_version": "1.2.0",
            "_model_module": "@jupyter-widgets/controls"
          }
        },
        "83cfcfd9cd104af48390e05d49472d7e": {
          "model_module": "@jupyter-widgets/base",
          "model_name": "LayoutModel",
          "state": {
            "_view_name": "LayoutView",
            "grid_template_rows": null,
            "right": null,
            "justify_content": null,
            "_view_module": "@jupyter-widgets/base",
            "overflow": null,
            "_model_module_version": "1.2.0",
            "_view_count": null,
            "flex_flow": null,
            "width": null,
            "min_width": null,
            "border": null,
            "align_items": null,
            "bottom": null,
            "_model_module": "@jupyter-widgets/base",
            "top": null,
            "grid_column": null,
            "overflow_y": null,
            "overflow_x": null,
            "grid_auto_flow": null,
            "grid_area": null,
            "grid_template_columns": null,
            "flex": null,
            "_model_name": "LayoutModel",
            "justify_items": null,
            "grid_row": null,
            "max_height": null,
            "align_content": null,
            "visibility": null,
            "align_self": null,
            "height": null,
            "min_height": null,
            "padding": null,
            "grid_auto_rows": null,
            "grid_gap": null,
            "max_width": null,
            "order": null,
            "_view_module_version": "1.2.0",
            "grid_template_areas": null,
            "object_position": null,
            "object_fit": null,
            "grid_auto_columns": null,
            "margin": null,
            "display": null,
            "left": null
          }
        },
        "9dcad4ccae764a17a2125513ba57b606": {
          "model_module": "@jupyter-widgets/controls",
          "model_name": "HBoxModel",
          "state": {
            "_view_name": "HBoxView",
            "_dom_classes": [],
            "_model_name": "HBoxModel",
            "_view_module": "@jupyter-widgets/controls",
            "_model_module_version": "1.5.0",
            "_view_count": null,
            "_view_module_version": "1.5.0",
            "box_style": "",
            "layout": "IPY_MODEL_e402b2df8fba4ab3a8b963aa9e2bce87",
            "_model_module": "@jupyter-widgets/controls",
            "children": [
              "IPY_MODEL_2d90fd23f5d1420796769709dd80093e",
              "IPY_MODEL_8ad78e7319794c13a912d982f1843592"
            ]
          }
        },
        "e402b2df8fba4ab3a8b963aa9e2bce87": {
          "model_module": "@jupyter-widgets/base",
          "model_name": "LayoutModel",
          "state": {
            "_view_name": "LayoutView",
            "grid_template_rows": null,
            "right": null,
            "justify_content": null,
            "_view_module": "@jupyter-widgets/base",
            "overflow": null,
            "_model_module_version": "1.2.0",
            "_view_count": null,
            "flex_flow": null,
            "width": null,
            "min_width": null,
            "border": null,
            "align_items": null,
            "bottom": null,
            "_model_module": "@jupyter-widgets/base",
            "top": null,
            "grid_column": null,
            "overflow_y": null,
            "overflow_x": null,
            "grid_auto_flow": null,
            "grid_area": null,
            "grid_template_columns": null,
            "flex": null,
            "_model_name": "LayoutModel",
            "justify_items": null,
            "grid_row": null,
            "max_height": null,
            "align_content": null,
            "visibility": null,
            "align_self": null,
            "height": null,
            "min_height": null,
            "padding": null,
            "grid_auto_rows": null,
            "grid_gap": null,
            "max_width": null,
            "order": null,
            "_view_module_version": "1.2.0",
            "grid_template_areas": null,
            "object_position": null,
            "object_fit": null,
            "grid_auto_columns": null,
            "margin": null,
            "display": null,
            "left": null
          }
        },
        "2d90fd23f5d1420796769709dd80093e": {
          "model_module": "@jupyter-widgets/controls",
          "model_name": "FloatProgressModel",
          "state": {
            "_view_name": "ProgressView",
            "style": "IPY_MODEL_0d26d1d71e3a4b46a96bfb8b69e674c6",
            "_dom_classes": [],
            "description": "Epoch 10: 100%",
            "_model_name": "FloatProgressModel",
            "bar_style": "",
            "max": 170,
            "_view_module": "@jupyter-widgets/controls",
            "_model_module_version": "1.5.0",
            "value": 170,
            "_view_count": null,
            "_view_module_version": "1.5.0",
            "orientation": "horizontal",
            "min": 0,
            "description_tooltip": null,
            "_model_module": "@jupyter-widgets/controls",
            "layout": "IPY_MODEL_f2a32024023c4a2887eef1aa4bcd3277"
          }
        },
        "8ad78e7319794c13a912d982f1843592": {
          "model_module": "@jupyter-widgets/controls",
          "model_name": "HTMLModel",
          "state": {
            "_view_name": "HTMLView",
            "style": "IPY_MODEL_bfdd6699116c4e0887e82fb3bd3e190f",
            "_dom_classes": [],
            "description": "",
            "_model_name": "HTMLModel",
            "placeholder": "​",
            "_view_module": "@jupyter-widgets/controls",
            "_model_module_version": "1.5.0",
            "value": " 170/170 [07:11&lt;00:00,  1.85s/it, training_loss=0.013]",
            "_view_count": null,
            "_view_module_version": "1.5.0",
            "description_tooltip": null,
            "_model_module": "@jupyter-widgets/controls",
            "layout": "IPY_MODEL_ee3291b2216441d48aacbb0733625e4b"
          }
        },
        "0d26d1d71e3a4b46a96bfb8b69e674c6": {
          "model_module": "@jupyter-widgets/controls",
          "model_name": "ProgressStyleModel",
          "state": {
            "_view_name": "StyleView",
            "_model_name": "ProgressStyleModel",
            "description_width": "initial",
            "_view_module": "@jupyter-widgets/base",
            "_model_module_version": "1.5.0",
            "_view_count": null,
            "_view_module_version": "1.2.0",
            "bar_color": null,
            "_model_module": "@jupyter-widgets/controls"
          }
        },
        "f2a32024023c4a2887eef1aa4bcd3277": {
          "model_module": "@jupyter-widgets/base",
          "model_name": "LayoutModel",
          "state": {
            "_view_name": "LayoutView",
            "grid_template_rows": null,
            "right": null,
            "justify_content": null,
            "_view_module": "@jupyter-widgets/base",
            "overflow": null,
            "_model_module_version": "1.2.0",
            "_view_count": null,
            "flex_flow": null,
            "width": null,
            "min_width": null,
            "border": null,
            "align_items": null,
            "bottom": null,
            "_model_module": "@jupyter-widgets/base",
            "top": null,
            "grid_column": null,
            "overflow_y": null,
            "overflow_x": null,
            "grid_auto_flow": null,
            "grid_area": null,
            "grid_template_columns": null,
            "flex": null,
            "_model_name": "LayoutModel",
            "justify_items": null,
            "grid_row": null,
            "max_height": null,
            "align_content": null,
            "visibility": null,
            "align_self": null,
            "height": null,
            "min_height": null,
            "padding": null,
            "grid_auto_rows": null,
            "grid_gap": null,
            "max_width": null,
            "order": null,
            "_view_module_version": "1.2.0",
            "grid_template_areas": null,
            "object_position": null,
            "object_fit": null,
            "grid_auto_columns": null,
            "margin": null,
            "display": null,
            "left": null
          }
        },
        "bfdd6699116c4e0887e82fb3bd3e190f": {
          "model_module": "@jupyter-widgets/controls",
          "model_name": "DescriptionStyleModel",
          "state": {
            "_view_name": "StyleView",
            "_model_name": "DescriptionStyleModel",
            "description_width": "",
            "_view_module": "@jupyter-widgets/base",
            "_model_module_version": "1.5.0",
            "_view_count": null,
            "_view_module_version": "1.2.0",
            "_model_module": "@jupyter-widgets/controls"
          }
        },
        "ee3291b2216441d48aacbb0733625e4b": {
          "model_module": "@jupyter-widgets/base",
          "model_name": "LayoutModel",
          "state": {
            "_view_name": "LayoutView",
            "grid_template_rows": null,
            "right": null,
            "justify_content": null,
            "_view_module": "@jupyter-widgets/base",
            "overflow": null,
            "_model_module_version": "1.2.0",
            "_view_count": null,
            "flex_flow": null,
            "width": null,
            "min_width": null,
            "border": null,
            "align_items": null,
            "bottom": null,
            "_model_module": "@jupyter-widgets/base",
            "top": null,
            "grid_column": null,
            "overflow_y": null,
            "overflow_x": null,
            "grid_auto_flow": null,
            "grid_area": null,
            "grid_template_columns": null,
            "flex": null,
            "_model_name": "LayoutModel",
            "justify_items": null,
            "grid_row": null,
            "max_height": null,
            "align_content": null,
            "visibility": null,
            "align_self": null,
            "height": null,
            "min_height": null,
            "padding": null,
            "grid_auto_rows": null,
            "grid_gap": null,
            "max_width": null,
            "order": null,
            "_view_module_version": "1.2.0",
            "grid_template_areas": null,
            "object_position": null,
            "object_fit": null,
            "grid_auto_columns": null,
            "margin": null,
            "display": null,
            "left": null
          }
        }
      }
    }
  },
  "cells": [
    {
      "cell_type": "markdown",
      "metadata": {
        "id": "view-in-github",
        "colab_type": "text"
      },
      "source": [
        "<a href=\"https://colab.research.google.com/github/mathubhalan/BERT-NLP/blob/master/BERT_Sentimentanalysis.ipynb\" target=\"_parent\"><img src=\"https://colab.research.google.com/assets/colab-badge.svg\" alt=\"Open In Colab\"/></a>"
      ]
    },
    {
      "cell_type": "code",
      "metadata": {
        "id": "MygsWbQm6T-t",
        "colab_type": "code",
        "colab": {
          "base_uri": "https://localhost:8080/",
          "height": 615
        },
        "outputId": "e2ca11a7-f459-4b29-a0b1-6bd4e4936c91"
      },
      "source": [
        "!pip install transformers"
      ],
      "execution_count": 20,
      "outputs": [
        {
          "output_type": "stream",
          "text": [
            "Collecting transformers\n",
            "\u001b[?25l  Downloading https://files.pythonhosted.org/packages/ae/05/c8c55b600308dc04e95100dc8ad8a244dd800fe75dfafcf1d6348c6f6209/transformers-3.1.0-py3-none-any.whl (884kB)\n",
            "\r\u001b[K     |▍                               | 10kB 16.1MB/s eta 0:00:01\r\u001b[K     |▊                               | 20kB 1.7MB/s eta 0:00:01\r\u001b[K     |█▏                              | 30kB 2.2MB/s eta 0:00:01\r\u001b[K     |█▌                              | 40kB 2.5MB/s eta 0:00:01\r\u001b[K     |█▉                              | 51kB 2.0MB/s eta 0:00:01\r\u001b[K     |██▎                             | 61kB 2.2MB/s eta 0:00:01\r\u001b[K     |██▋                             | 71kB 2.5MB/s eta 0:00:01\r\u001b[K     |███                             | 81kB 2.8MB/s eta 0:00:01\r\u001b[K     |███▍                            | 92kB 2.9MB/s eta 0:00:01\r\u001b[K     |███▊                            | 102kB 2.8MB/s eta 0:00:01\r\u001b[K     |████                            | 112kB 2.8MB/s eta 0:00:01\r\u001b[K     |████▌                           | 122kB 2.8MB/s eta 0:00:01\r\u001b[K     |████▉                           | 133kB 2.8MB/s eta 0:00:01\r\u001b[K     |█████▏                          | 143kB 2.8MB/s eta 0:00:01\r\u001b[K     |█████▋                          | 153kB 2.8MB/s eta 0:00:01\r\u001b[K     |██████                          | 163kB 2.8MB/s eta 0:00:01\r\u001b[K     |██████▎                         | 174kB 2.8MB/s eta 0:00:01\r\u001b[K     |██████▊                         | 184kB 2.8MB/s eta 0:00:01\r\u001b[K     |███████                         | 194kB 2.8MB/s eta 0:00:01\r\u001b[K     |███████▍                        | 204kB 2.8MB/s eta 0:00:01\r\u001b[K     |███████▉                        | 215kB 2.8MB/s eta 0:00:01\r\u001b[K     |████████▏                       | 225kB 2.8MB/s eta 0:00:01\r\u001b[K     |████████▌                       | 235kB 2.8MB/s eta 0:00:01\r\u001b[K     |█████████                       | 245kB 2.8MB/s eta 0:00:01\r\u001b[K     |█████████▎                      | 256kB 2.8MB/s eta 0:00:01\r\u001b[K     |█████████▋                      | 266kB 2.8MB/s eta 0:00:01\r\u001b[K     |██████████                      | 276kB 2.8MB/s eta 0:00:01\r\u001b[K     |██████████▍                     | 286kB 2.8MB/s eta 0:00:01\r\u001b[K     |██████████▊                     | 296kB 2.8MB/s eta 0:00:01\r\u001b[K     |███████████▏                    | 307kB 2.8MB/s eta 0:00:01\r\u001b[K     |███████████▌                    | 317kB 2.8MB/s eta 0:00:01\r\u001b[K     |███████████▉                    | 327kB 2.8MB/s eta 0:00:01\r\u001b[K     |████████████▎                   | 337kB 2.8MB/s eta 0:00:01\r\u001b[K     |████████████▋                   | 348kB 2.8MB/s eta 0:00:01\r\u001b[K     |█████████████                   | 358kB 2.8MB/s eta 0:00:01\r\u001b[K     |█████████████▍                  | 368kB 2.8MB/s eta 0:00:01\r\u001b[K     |█████████████▊                  | 378kB 2.8MB/s eta 0:00:01\r\u001b[K     |██████████████                  | 389kB 2.8MB/s eta 0:00:01\r\u001b[K     |██████████████▌                 | 399kB 2.8MB/s eta 0:00:01\r\u001b[K     |██████████████▉                 | 409kB 2.8MB/s eta 0:00:01\r\u001b[K     |███████████████▏                | 419kB 2.8MB/s eta 0:00:01\r\u001b[K     |███████████████▋                | 430kB 2.8MB/s eta 0:00:01\r\u001b[K     |████████████████                | 440kB 2.8MB/s eta 0:00:01\r\u001b[K     |████████████████▎               | 450kB 2.8MB/s eta 0:00:01\r\u001b[K     |████████████████▊               | 460kB 2.8MB/s eta 0:00:01\r\u001b[K     |█████████████████               | 471kB 2.8MB/s eta 0:00:01\r\u001b[K     |█████████████████▍              | 481kB 2.8MB/s eta 0:00:01\r\u001b[K     |█████████████████▉              | 491kB 2.8MB/s eta 0:00:01\r\u001b[K     |██████████████████▏             | 501kB 2.8MB/s eta 0:00:01\r\u001b[K     |██████████████████▌             | 512kB 2.8MB/s eta 0:00:01\r\u001b[K     |███████████████████             | 522kB 2.8MB/s eta 0:00:01\r\u001b[K     |███████████████████▎            | 532kB 2.8MB/s eta 0:00:01\r\u001b[K     |███████████████████▋            | 542kB 2.8MB/s eta 0:00:01\r\u001b[K     |████████████████████            | 552kB 2.8MB/s eta 0:00:01\r\u001b[K     |████████████████████▍           | 563kB 2.8MB/s eta 0:00:01\r\u001b[K     |████████████████████▊           | 573kB 2.8MB/s eta 0:00:01\r\u001b[K     |█████████████████████▏          | 583kB 2.8MB/s eta 0:00:01\r\u001b[K     |█████████████████████▌          | 593kB 2.8MB/s eta 0:00:01\r\u001b[K     |█████████████████████▉          | 604kB 2.8MB/s eta 0:00:01\r\u001b[K     |██████████████████████▎         | 614kB 2.8MB/s eta 0:00:01\r\u001b[K     |██████████████████████▋         | 624kB 2.8MB/s eta 0:00:01\r\u001b[K     |███████████████████████         | 634kB 2.8MB/s eta 0:00:01\r\u001b[K     |███████████████████████▍        | 645kB 2.8MB/s eta 0:00:01\r\u001b[K     |███████████████████████▊        | 655kB 2.8MB/s eta 0:00:01\r\u001b[K     |████████████████████████        | 665kB 2.8MB/s eta 0:00:01\r\u001b[K     |████████████████████████▌       | 675kB 2.8MB/s eta 0:00:01\r\u001b[K     |████████████████████████▉       | 686kB 2.8MB/s eta 0:00:01\r\u001b[K     |█████████████████████████▏      | 696kB 2.8MB/s eta 0:00:01\r\u001b[K     |█████████████████████████▋      | 706kB 2.8MB/s eta 0:00:01\r\u001b[K     |██████████████████████████      | 716kB 2.8MB/s eta 0:00:01\r\u001b[K     |██████████████████████████▎     | 727kB 2.8MB/s eta 0:00:01\r\u001b[K     |██████████████████████████▊     | 737kB 2.8MB/s eta 0:00:01\r\u001b[K     |███████████████████████████     | 747kB 2.8MB/s eta 0:00:01\r\u001b[K     |███████████████████████████▍    | 757kB 2.8MB/s eta 0:00:01\r\u001b[K     |███████████████████████████▉    | 768kB 2.8MB/s eta 0:00:01\r\u001b[K     |████████████████████████████▏   | 778kB 2.8MB/s eta 0:00:01\r\u001b[K     |████████████████████████████▌   | 788kB 2.8MB/s eta 0:00:01\r\u001b[K     |█████████████████████████████   | 798kB 2.8MB/s eta 0:00:01\r\u001b[K     |█████████████████████████████▎  | 808kB 2.8MB/s eta 0:00:01\r\u001b[K     |█████████████████████████████▋  | 819kB 2.8MB/s eta 0:00:01\r\u001b[K     |██████████████████████████████  | 829kB 2.8MB/s eta 0:00:01\r\u001b[K     |██████████████████████████████▍ | 839kB 2.8MB/s eta 0:00:01\r\u001b[K     |██████████████████████████████▊ | 849kB 2.8MB/s eta 0:00:01\r\u001b[K     |███████████████████████████████▏| 860kB 2.8MB/s eta 0:00:01\r\u001b[K     |███████████████████████████████▌| 870kB 2.8MB/s eta 0:00:01\r\u001b[K     |███████████████████████████████▉| 880kB 2.8MB/s eta 0:00:01\r\u001b[K     |████████████████████████████████| 890kB 2.8MB/s \n",
            "\u001b[?25hRequirement already satisfied: tqdm>=4.27 in /usr/local/lib/python3.6/dist-packages (from transformers) (4.41.1)\n",
            "Requirement already satisfied: dataclasses; python_version < \"3.7\" in /usr/local/lib/python3.6/dist-packages (from transformers) (0.7)\n",
            "Requirement already satisfied: filelock in /usr/local/lib/python3.6/dist-packages (from transformers) (3.0.12)\n",
            "Requirement already satisfied: requests in /usr/local/lib/python3.6/dist-packages (from transformers) (2.23.0)\n",
            "Requirement already satisfied: packaging in /usr/local/lib/python3.6/dist-packages (from transformers) (20.4)\n",
            "Collecting sentencepiece!=0.1.92\n",
            "\u001b[?25l  Downloading https://files.pythonhosted.org/packages/d4/a4/d0a884c4300004a78cca907a6ff9a5e9fe4f090f5d95ab341c53d28cbc58/sentencepiece-0.1.91-cp36-cp36m-manylinux1_x86_64.whl (1.1MB)\n",
            "\u001b[K     |████████████████████████████████| 1.1MB 16.0MB/s \n",
            "\u001b[?25hCollecting sacremoses\n",
            "\u001b[?25l  Downloading https://files.pythonhosted.org/packages/7d/34/09d19aff26edcc8eb2a01bed8e98f13a1537005d31e95233fd48216eed10/sacremoses-0.0.43.tar.gz (883kB)\n",
            "\u001b[K     |████████████████████████████████| 890kB 22.7MB/s \n",
            "\u001b[?25hRequirement already satisfied: regex!=2019.12.17 in /usr/local/lib/python3.6/dist-packages (from transformers) (2019.12.20)\n",
            "Requirement already satisfied: numpy in /usr/local/lib/python3.6/dist-packages (from transformers) (1.18.5)\n",
            "Collecting tokenizers==0.8.1.rc2\n",
            "\u001b[?25l  Downloading https://files.pythonhosted.org/packages/80/83/8b9fccb9e48eeb575ee19179e2bdde0ee9a1904f97de5f02d19016b8804f/tokenizers-0.8.1rc2-cp36-cp36m-manylinux1_x86_64.whl (3.0MB)\n",
            "\u001b[K     |████████████████████████████████| 3.0MB 25.1MB/s \n",
            "\u001b[?25hRequirement already satisfied: chardet<4,>=3.0.2 in /usr/local/lib/python3.6/dist-packages (from requests->transformers) (3.0.4)\n",
            "Requirement already satisfied: certifi>=2017.4.17 in /usr/local/lib/python3.6/dist-packages (from requests->transformers) (2020.6.20)\n",
            "Requirement already satisfied: urllib3!=1.25.0,!=1.25.1,<1.26,>=1.21.1 in /usr/local/lib/python3.6/dist-packages (from requests->transformers) (1.24.3)\n",
            "Requirement already satisfied: idna<3,>=2.5 in /usr/local/lib/python3.6/dist-packages (from requests->transformers) (2.10)\n",
            "Requirement already satisfied: pyparsing>=2.0.2 in /usr/local/lib/python3.6/dist-packages (from packaging->transformers) (2.4.7)\n",
            "Requirement already satisfied: six in /usr/local/lib/python3.6/dist-packages (from packaging->transformers) (1.15.0)\n",
            "Requirement already satisfied: click in /usr/local/lib/python3.6/dist-packages (from sacremoses->transformers) (7.1.2)\n",
            "Requirement already satisfied: joblib in /usr/local/lib/python3.6/dist-packages (from sacremoses->transformers) (0.16.0)\n",
            "Building wheels for collected packages: sacremoses\n",
            "  Building wheel for sacremoses (setup.py) ... \u001b[?25l\u001b[?25hdone\n",
            "  Created wheel for sacremoses: filename=sacremoses-0.0.43-cp36-none-any.whl size=893257 sha256=55a35a99f5ab84b2a0f8c1fb851854f4e573519b9381d06638867cd7c806ec6b\n",
            "  Stored in directory: /root/.cache/pip/wheels/29/3c/fd/7ce5c3f0666dab31a50123635e6fb5e19ceb42ce38d4e58f45\n",
            "Successfully built sacremoses\n",
            "Installing collected packages: sentencepiece, sacremoses, tokenizers, transformers\n",
            "Successfully installed sacremoses-0.0.43 sentencepiece-0.1.91 tokenizers-0.8.1rc2 transformers-3.1.0\n"
          ],
          "name": "stdout"
        }
      ]
    },
    {
      "cell_type": "markdown",
      "metadata": {
        "id": "VF2f8KjA73g_",
        "colab_type": "text"
      },
      "source": [
        "# Exploratory Data Analysis and Preprocessing\n"
      ]
    },
    {
      "cell_type": "code",
      "metadata": {
        "id": "DnJnMKZz6cZ3",
        "colab_type": "code",
        "colab": {}
      },
      "source": [
        "import torch\n",
        "import pandas as pd\n",
        "from tqdm.notebook import tqdm"
      ],
      "execution_count": 1,
      "outputs": []
    },
    {
      "cell_type": "code",
      "metadata": {
        "id": "NX-OIQeS78zd",
        "colab_type": "code",
        "colab": {}
      },
      "source": [
        "df= pd.read_csv(\"Train.csv\")\n",
        "df.set_index('Text_ID', inplace=True)"
      ],
      "execution_count": 4,
      "outputs": []
    },
    {
      "cell_type": "code",
      "metadata": {
        "id": "KhPTaBh98R_W",
        "colab_type": "code",
        "colab": {
          "base_uri": "https://localhost:8080/",
          "height": 235
        },
        "outputId": "70fa3516-cf37-418d-d2cb-3e85672cb0e8"
      },
      "source": [
        "df.head()"
      ],
      "execution_count": 5,
      "outputs": [
        {
          "output_type": "execute_result",
          "data": {
            "text/html": [
              "<div>\n",
              "<style scoped>\n",
              "    .dataframe tbody tr th:only-of-type {\n",
              "        vertical-align: middle;\n",
              "    }\n",
              "\n",
              "    .dataframe tbody tr th {\n",
              "        vertical-align: top;\n",
              "    }\n",
              "\n",
              "    .dataframe thead th {\n",
              "        text-align: right;\n",
              "    }\n",
              "</style>\n",
              "<table border=\"1\" class=\"dataframe\">\n",
              "  <thead>\n",
              "    <tr style=\"text-align: right;\">\n",
              "      <th></th>\n",
              "      <th>Product_Description</th>\n",
              "      <th>Product_Type</th>\n",
              "      <th>Sentiment</th>\n",
              "    </tr>\n",
              "    <tr>\n",
              "      <th>Text_ID</th>\n",
              "      <th></th>\n",
              "      <th></th>\n",
              "      <th></th>\n",
              "    </tr>\n",
              "  </thead>\n",
              "  <tbody>\n",
              "    <tr>\n",
              "      <th>3057</th>\n",
              "      <td>The Web DesignerÛªs Guide to iOS (and Android...</td>\n",
              "      <td>9</td>\n",
              "      <td>2</td>\n",
              "    </tr>\n",
              "    <tr>\n",
              "      <th>6254</th>\n",
              "      <td>RT @mention Line for iPad 2 is longer today th...</td>\n",
              "      <td>9</td>\n",
              "      <td>2</td>\n",
              "    </tr>\n",
              "    <tr>\n",
              "      <th>8212</th>\n",
              "      <td>Crazy that Apple is opening a temporary store ...</td>\n",
              "      <td>9</td>\n",
              "      <td>2</td>\n",
              "    </tr>\n",
              "    <tr>\n",
              "      <th>4422</th>\n",
              "      <td>The lesson from Google One Pass: In this digit...</td>\n",
              "      <td>9</td>\n",
              "      <td>2</td>\n",
              "    </tr>\n",
              "    <tr>\n",
              "      <th>5526</th>\n",
              "      <td>RT @mention At the panel: &amp;quot;Your mom has a...</td>\n",
              "      <td>9</td>\n",
              "      <td>2</td>\n",
              "    </tr>\n",
              "  </tbody>\n",
              "</table>\n",
              "</div>"
            ],
            "text/plain": [
              "                                       Product_Description  ...  Sentiment\n",
              "Text_ID                                                     ...           \n",
              "3057     The Web DesignerÛªs Guide to iOS (and Android...  ...          2\n",
              "6254     RT @mention Line for iPad 2 is longer today th...  ...          2\n",
              "8212     Crazy that Apple is opening a temporary store ...  ...          2\n",
              "4422     The lesson from Google One Pass: In this digit...  ...          2\n",
              "5526     RT @mention At the panel: &quot;Your mom has a...  ...          2\n",
              "\n",
              "[5 rows x 3 columns]"
            ]
          },
          "metadata": {
            "tags": []
          },
          "execution_count": 5
        }
      ]
    },
    {
      "cell_type": "code",
      "metadata": {
        "id": "CK7HAROe8btX",
        "colab_type": "code",
        "colab": {
          "base_uri": "https://localhost:8080/",
          "height": 102
        },
        "outputId": "c32a7d2c-4531-4561-dbcc-a364aa30ecf3"
      },
      "source": [
        "df.Sentiment.value_counts()"
      ],
      "execution_count": 6,
      "outputs": [
        {
          "output_type": "execute_result",
          "data": {
            "text/plain": [
              "2    3765\n",
              "3    2089\n",
              "1     399\n",
              "0     111\n",
              "Name: Sentiment, dtype: int64"
            ]
          },
          "metadata": {
            "tags": []
          },
          "execution_count": 6
        }
      ]
    },
    {
      "cell_type": "markdown",
      "metadata": {
        "id": "hhkFg6V08wA0",
        "colab_type": "text"
      },
      "source": [
        "Class - Represents various sentiments\n",
        "0. Cannot Say\n",
        "1. Negative\n",
        "2. Positive\n",
        "3. No Sentiment"
      ]
    },
    {
      "cell_type": "markdown",
      "metadata": {
        "id": "70KlqBWT9Q1T",
        "colab_type": "text"
      },
      "source": [
        "# Training/Validation Split"
      ]
    },
    {
      "cell_type": "code",
      "metadata": {
        "id": "3o3jdsm3843y",
        "colab_type": "code",
        "colab": {}
      },
      "source": [
        "from sklearn.model_selection import train_test_split"
      ],
      "execution_count": 7,
      "outputs": []
    },
    {
      "cell_type": "code",
      "metadata": {
        "id": "vM6t15vt9Uuk",
        "colab_type": "code",
        "colab": {}
      },
      "source": [
        "X_train, X_val, y_train, y_val = train_test_split(df.index.values, \n",
        "                                                  df.Sentiment.values, \n",
        "                                                  test_size=0.15, \n",
        "                                                  random_state=17, \n",
        "                                                  stratify=df.Sentiment.values)"
      ],
      "execution_count": 11,
      "outputs": []
    },
    {
      "cell_type": "code",
      "metadata": {
        "id": "Lv61CaGZ-Ejt",
        "colab_type": "code",
        "colab": {
          "base_uri": "https://localhost:8080/",
          "height": 34
        },
        "outputId": "2e1ad36a-4324-47ce-b0a8-4890ecd9aee1"
      },
      "source": [
        "y_train"
      ],
      "execution_count": 14,
      "outputs": [
        {
          "output_type": "execute_result",
          "data": {
            "text/plain": [
              "array([3, 2, 2, ..., 2, 3, 0])"
            ]
          },
          "metadata": {
            "tags": []
          },
          "execution_count": 14
        }
      ]
    },
    {
      "cell_type": "markdown",
      "metadata": {
        "id": "YIYMbrfa9r3C",
        "colab_type": "text"
      },
      "source": [
        "Check to validate if we have equal data in all classes\n"
      ]
    },
    {
      "cell_type": "code",
      "metadata": {
        "id": "r3Bf4PHY9kEO",
        "colab_type": "code",
        "colab": {}
      },
      "source": [
        "df['data_type'] = ['not_set']*df.shape[0]"
      ],
      "execution_count": 12,
      "outputs": []
    },
    {
      "cell_type": "code",
      "metadata": {
        "id": "syiWISoP-C4m",
        "colab_type": "code",
        "colab": {}
      },
      "source": [
        "df.loc[X_train, 'data_type'] = 'train'\n",
        "df.loc[X_val, 'data_type'] = 'val'"
      ],
      "execution_count": 15,
      "outputs": []
    },
    {
      "cell_type": "code",
      "metadata": {
        "id": "nhO9kZ-S-aWe",
        "colab_type": "code",
        "colab": {
          "base_uri": "https://localhost:8080/",
          "height": 235
        },
        "outputId": "fceeb173-64a3-4d44-a95f-45b77d9f0098"
      },
      "source": [
        "df.head()"
      ],
      "execution_count": 17,
      "outputs": [
        {
          "output_type": "execute_result",
          "data": {
            "text/html": [
              "<div>\n",
              "<style scoped>\n",
              "    .dataframe tbody tr th:only-of-type {\n",
              "        vertical-align: middle;\n",
              "    }\n",
              "\n",
              "    .dataframe tbody tr th {\n",
              "        vertical-align: top;\n",
              "    }\n",
              "\n",
              "    .dataframe thead th {\n",
              "        text-align: right;\n",
              "    }\n",
              "</style>\n",
              "<table border=\"1\" class=\"dataframe\">\n",
              "  <thead>\n",
              "    <tr style=\"text-align: right;\">\n",
              "      <th></th>\n",
              "      <th>Product_Description</th>\n",
              "      <th>Product_Type</th>\n",
              "      <th>Sentiment</th>\n",
              "      <th>data_type</th>\n",
              "    </tr>\n",
              "    <tr>\n",
              "      <th>Text_ID</th>\n",
              "      <th></th>\n",
              "      <th></th>\n",
              "      <th></th>\n",
              "      <th></th>\n",
              "    </tr>\n",
              "  </thead>\n",
              "  <tbody>\n",
              "    <tr>\n",
              "      <th>3057</th>\n",
              "      <td>The Web DesignerÛªs Guide to iOS (and Android...</td>\n",
              "      <td>9</td>\n",
              "      <td>2</td>\n",
              "      <td>train</td>\n",
              "    </tr>\n",
              "    <tr>\n",
              "      <th>6254</th>\n",
              "      <td>RT @mention Line for iPad 2 is longer today th...</td>\n",
              "      <td>9</td>\n",
              "      <td>2</td>\n",
              "      <td>train</td>\n",
              "    </tr>\n",
              "    <tr>\n",
              "      <th>8212</th>\n",
              "      <td>Crazy that Apple is opening a temporary store ...</td>\n",
              "      <td>9</td>\n",
              "      <td>2</td>\n",
              "      <td>train</td>\n",
              "    </tr>\n",
              "    <tr>\n",
              "      <th>4422</th>\n",
              "      <td>The lesson from Google One Pass: In this digit...</td>\n",
              "      <td>9</td>\n",
              "      <td>2</td>\n",
              "      <td>train</td>\n",
              "    </tr>\n",
              "    <tr>\n",
              "      <th>5526</th>\n",
              "      <td>RT @mention At the panel: &amp;quot;Your mom has a...</td>\n",
              "      <td>9</td>\n",
              "      <td>2</td>\n",
              "      <td>val</td>\n",
              "    </tr>\n",
              "  </tbody>\n",
              "</table>\n",
              "</div>"
            ],
            "text/plain": [
              "                                       Product_Description  ...  data_type\n",
              "Text_ID                                                     ...           \n",
              "3057     The Web DesignerÛªs Guide to iOS (and Android...  ...      train\n",
              "6254     RT @mention Line for iPad 2 is longer today th...  ...      train\n",
              "8212     Crazy that Apple is opening a temporary store ...  ...      train\n",
              "4422     The lesson from Google One Pass: In this digit...  ...      train\n",
              "5526     RT @mention At the panel: &quot;Your mom has a...  ...        val\n",
              "\n",
              "[5 rows x 4 columns]"
            ]
          },
          "metadata": {
            "tags": []
          },
          "execution_count": 17
        }
      ]
    },
    {
      "cell_type": "code",
      "metadata": {
        "id": "jdvxDbyZ-YVM",
        "colab_type": "code",
        "colab": {
          "base_uri": "https://localhost:8080/",
          "height": 34
        },
        "outputId": "4e6cfec1-2574-4a9c-dd43-96959193d237"
      },
      "source": [
        "df.columns"
      ],
      "execution_count": 16,
      "outputs": [
        {
          "output_type": "execute_result",
          "data": {
            "text/plain": [
              "Index(['Product_Description', 'Product_Type', 'Sentiment', 'data_type'], dtype='object')"
            ]
          },
          "metadata": {
            "tags": []
          },
          "execution_count": 16
        }
      ]
    },
    {
      "cell_type": "code",
      "metadata": {
        "id": "OXPxYFZW-V3w",
        "colab_type": "code",
        "colab": {
          "base_uri": "https://localhost:8080/",
          "height": 328
        },
        "outputId": "298860f1-3da5-456c-8f04-99d5d21ab52b"
      },
      "source": [
        "df.groupby(['Sentiment', 'data_type']).count()"
      ],
      "execution_count": 18,
      "outputs": [
        {
          "output_type": "execute_result",
          "data": {
            "text/html": [
              "<div>\n",
              "<style scoped>\n",
              "    .dataframe tbody tr th:only-of-type {\n",
              "        vertical-align: middle;\n",
              "    }\n",
              "\n",
              "    .dataframe tbody tr th {\n",
              "        vertical-align: top;\n",
              "    }\n",
              "\n",
              "    .dataframe thead th {\n",
              "        text-align: right;\n",
              "    }\n",
              "</style>\n",
              "<table border=\"1\" class=\"dataframe\">\n",
              "  <thead>\n",
              "    <tr style=\"text-align: right;\">\n",
              "      <th></th>\n",
              "      <th></th>\n",
              "      <th>Product_Description</th>\n",
              "      <th>Product_Type</th>\n",
              "    </tr>\n",
              "    <tr>\n",
              "      <th>Sentiment</th>\n",
              "      <th>data_type</th>\n",
              "      <th></th>\n",
              "      <th></th>\n",
              "    </tr>\n",
              "  </thead>\n",
              "  <tbody>\n",
              "    <tr>\n",
              "      <th rowspan=\"2\" valign=\"top\">0</th>\n",
              "      <th>train</th>\n",
              "      <td>94</td>\n",
              "      <td>94</td>\n",
              "    </tr>\n",
              "    <tr>\n",
              "      <th>val</th>\n",
              "      <td>17</td>\n",
              "      <td>17</td>\n",
              "    </tr>\n",
              "    <tr>\n",
              "      <th rowspan=\"2\" valign=\"top\">1</th>\n",
              "      <th>train</th>\n",
              "      <td>339</td>\n",
              "      <td>339</td>\n",
              "    </tr>\n",
              "    <tr>\n",
              "      <th>val</th>\n",
              "      <td>60</td>\n",
              "      <td>60</td>\n",
              "    </tr>\n",
              "    <tr>\n",
              "      <th rowspan=\"2\" valign=\"top\">2</th>\n",
              "      <th>train</th>\n",
              "      <td>3200</td>\n",
              "      <td>3200</td>\n",
              "    </tr>\n",
              "    <tr>\n",
              "      <th>val</th>\n",
              "      <td>565</td>\n",
              "      <td>565</td>\n",
              "    </tr>\n",
              "    <tr>\n",
              "      <th rowspan=\"2\" valign=\"top\">3</th>\n",
              "      <th>train</th>\n",
              "      <td>1776</td>\n",
              "      <td>1776</td>\n",
              "    </tr>\n",
              "    <tr>\n",
              "      <th>val</th>\n",
              "      <td>313</td>\n",
              "      <td>313</td>\n",
              "    </tr>\n",
              "  </tbody>\n",
              "</table>\n",
              "</div>"
            ],
            "text/plain": [
              "                     Product_Description  Product_Type\n",
              "Sentiment data_type                                   \n",
              "0         train                       94            94\n",
              "          val                         17            17\n",
              "1         train                      339           339\n",
              "          val                         60            60\n",
              "2         train                     3200          3200\n",
              "          val                        565           565\n",
              "3         train                     1776          1776\n",
              "          val                        313           313"
            ]
          },
          "metadata": {
            "tags": []
          },
          "execution_count": 18
        }
      ]
    },
    {
      "cell_type": "code",
      "metadata": {
        "id": "A5or3B8g_Etm",
        "colab_type": "code",
        "colab": {
          "base_uri": "https://localhost:8080/",
          "height": 258
        },
        "outputId": "4098b791-36a8-4906-f712-ecdb31bbe15e"
      },
      "source": [
        "df[df.data_type=='train'][['Product_Description','Product_Type']].values"
      ],
      "execution_count": 27,
      "outputs": [
        {
          "output_type": "execute_result",
          "data": {
            "text/plain": [
              "array([['The Web Designer\\x89Ûªs Guide to iOS (and Android) Apps, today @mention 10 a.m! {link} #sxsw',\n",
              "        9],\n",
              "       ['RT @mention Line for iPad 2 is longer today than yesterday. #SXSW  // are you getting in line again today just for fun?',\n",
              "        9],\n",
              "       ['Crazy that Apple is opening a temporary store in Austin tomorrow to handle the rabid #sxsw eye pad too seekers.',\n",
              "        9],\n",
              "       ...,\n",
              "       ['SXSW iPhone app is awesome, but iPad app crashes every time. #sxsw',\n",
              "        7],\n",
              "       ['RT @mention RT @mention Download 20+ free tracks from @mention Music Sampler @mention including @glove! {link} #SXSW',\n",
              "        9],\n",
              "       ['#Google launching a &quot;major&quot; new social network at #sxsw ... Wonder what that can be...',\n",
              "        9]], dtype=object)"
            ]
          },
          "metadata": {
            "tags": []
          },
          "execution_count": 27
        }
      ]
    },
    {
      "cell_type": "markdown",
      "metadata": {
        "id": "WKO-HQua-uhO",
        "colab_type": "text"
      },
      "source": [
        "# Loading Tokenizer and Encoding our Data"
      ]
    },
    {
      "cell_type": "code",
      "metadata": {
        "id": "inArV_j8-q0p",
        "colab_type": "code",
        "colab": {}
      },
      "source": [
        "from transformers import BertTokenizer\n",
        "from torch.utils.data import TensorDataset"
      ],
      "execution_count": 21,
      "outputs": []
    },
    {
      "cell_type": "code",
      "metadata": {
        "id": "KtPWC5MV-8lZ",
        "colab_type": "code",
        "colab": {
          "base_uri": "https://localhost:8080/",
          "height": 66,
          "referenced_widgets": [
            "08d849f2581b442b9384cab43faa31fd",
            "6b0221c3178d43a79e95451e0cd9fb87",
            "d9015eaa5d284e91b23800b04a5048af",
            "a4fb4fab382f4f9e8d6eb2b8e1c10c1d",
            "42f46ee955a74a5186085c739640b9fc",
            "ba6b06d9d0274e2f978a90cb5af91cbd",
            "32240fca837a47c5a2fd954dacfb6538",
            "04297a7247494ce39411221599bd88c1"
          ]
        },
        "outputId": "56d54dc5-3d66-45a4-a486-272c3ebf3020"
      },
      "source": [
        "tokenizer = BertTokenizer.from_pretrained('bert-base-uncased', \n",
        "                                          do_lower_case=True)"
      ],
      "execution_count": 29,
      "outputs": [
        {
          "output_type": "display_data",
          "data": {
            "application/vnd.jupyter.widget-view+json": {
              "model_id": "08d849f2581b442b9384cab43faa31fd",
              "version_minor": 0,
              "version_major": 2
            },
            "text/plain": [
              "HBox(children=(FloatProgress(value=0.0, description='Downloading', max=231508.0, style=ProgressStyle(descripti…"
            ]
          },
          "metadata": {
            "tags": []
          }
        },
        {
          "output_type": "stream",
          "text": [
            "\n"
          ],
          "name": "stdout"
        }
      ]
    },
    {
      "cell_type": "code",
      "metadata": {
        "id": "CIU7HZQ9-yS1",
        "colab_type": "code",
        "colab": {
          "base_uri": "https://localhost:8080/",
          "height": 88
        },
        "outputId": "29a8bdae-ac80-4b00-a6b0-cc5a98846c9e"
      },
      "source": [
        "encoded_data_train = tokenizer.batch_encode_plus(\n",
        "    df[df.data_type=='train'].Product_Description.values, \n",
        "    add_special_tokens=True, \n",
        "    return_attention_mask=True, \n",
        "    pad_to_max_length=True, \n",
        "    max_length=256, \n",
        "    return_tensors='pt'\n",
        ")\n"
      ],
      "execution_count": 30,
      "outputs": [
        {
          "output_type": "stream",
          "text": [
            "Truncation was not explicitely activated but `max_length` is provided a specific value, please use `truncation=True` to explicitely truncate examples to max length. Defaulting to 'longest_first' truncation strategy. If you encode pairs of sequences (GLUE-style) with the tokenizer you can select this strategy more precisely by providing a specific strategy to `truncation`.\n",
            "/usr/local/lib/python3.6/dist-packages/transformers/tokenization_utils_base.py:1770: FutureWarning: The `pad_to_max_length` argument is deprecated and will be removed in a future version, use `padding=True` or `padding='longest'` to pad to the longest sequence in the batch, or use `padding='max_length'` to pad to a max length. In this case, you can give a specific length with `max_length` (e.g. `max_length=45`) or leave max_length to None to pad to the maximal input size of the model (e.g. 512 for Bert).\n",
            "  FutureWarning,\n"
          ],
          "name": "stderr"
        }
      ]
    },
    {
      "cell_type": "code",
      "metadata": {
        "id": "amWxzQiD_vKm",
        "colab_type": "code",
        "colab": {
          "base_uri": "https://localhost:8080/",
          "height": 88
        },
        "outputId": "c206ce65-ce7e-498a-9f74-910ff7e4340f"
      },
      "source": [
        "encoded_data_val = tokenizer.batch_encode_plus(\n",
        "    df[df.data_type=='val'].Product_Description.values, \n",
        "    add_special_tokens=True, \n",
        "    return_attention_mask=True, \n",
        "    pad_to_max_length=True, \n",
        "    max_length=256, \n",
        "    return_tensors='pt'\n",
        ")"
      ],
      "execution_count": 31,
      "outputs": [
        {
          "output_type": "stream",
          "text": [
            "Truncation was not explicitely activated but `max_length` is provided a specific value, please use `truncation=True` to explicitely truncate examples to max length. Defaulting to 'longest_first' truncation strategy. If you encode pairs of sequences (GLUE-style) with the tokenizer you can select this strategy more precisely by providing a specific strategy to `truncation`.\n",
            "/usr/local/lib/python3.6/dist-packages/transformers/tokenization_utils_base.py:1770: FutureWarning: The `pad_to_max_length` argument is deprecated and will be removed in a future version, use `padding=True` or `padding='longest'` to pad to the longest sequence in the batch, or use `padding='max_length'` to pad to a max length. In this case, you can give a specific length with `max_length` (e.g. `max_length=45`) or leave max_length to None to pad to the maximal input size of the model (e.g. 512 for Bert).\n",
            "  FutureWarning,\n"
          ],
          "name": "stderr"
        }
      ]
    },
    {
      "cell_type": "code",
      "metadata": {
        "id": "1sh9QBkC_4_F",
        "colab_type": "code",
        "colab": {}
      },
      "source": [
        "input_ids_train = encoded_data_train['input_ids']\n",
        "attention_masks_train = encoded_data_train['attention_mask']\n",
        "labels_train = torch.tensor(df[df.data_type=='train'].Sentiment.values)\n",
        "\n",
        "input_ids_val = encoded_data_val['input_ids']\n",
        "attention_masks_val = encoded_data_val['attention_mask']\n",
        "labels_val = torch.tensor(df[df.data_type=='val'].Sentiment.values)"
      ],
      "execution_count": 179,
      "outputs": []
    },
    {
      "cell_type": "code",
      "metadata": {
        "id": "owyHo49RAXg9",
        "colab_type": "code",
        "colab": {}
      },
      "source": [
        "dataset_train = TensorDataset(input_ids_train, attention_masks_train, labels_train)\n",
        "dataset_val = TensorDataset(input_ids_val, attention_masks_val, labels_val)"
      ],
      "execution_count": 180,
      "outputs": []
    },
    {
      "cell_type": "code",
      "metadata": {
        "id": "Px7ON-S6AbWt",
        "colab_type": "code",
        "colab": {
          "base_uri": "https://localhost:8080/",
          "height": 51
        },
        "outputId": "898f6231-f413-4a6a-d65e-82433937c8a3"
      },
      "source": [
        "print (f\"shape of train is :{len(dataset_train)}\")\n",
        "print (f\"shape of val is :{len(dataset_val)}\")"
      ],
      "execution_count": 37,
      "outputs": [
        {
          "output_type": "stream",
          "text": [
            "shape of train is :5409\n",
            "shape of val is :955\n"
          ],
          "name": "stdout"
        }
      ]
    },
    {
      "cell_type": "markdown",
      "metadata": {
        "id": "p_0k2DxvBEZj",
        "colab_type": "text"
      },
      "source": [
        "# Setting up BERT Pretrained Model"
      ]
    },
    {
      "cell_type": "code",
      "metadata": {
        "id": "5qr3ms5yAlTW",
        "colab_type": "code",
        "colab": {}
      },
      "source": [
        "from transformers import BertForSequenceClassification"
      ],
      "execution_count": 38,
      "outputs": []
    },
    {
      "cell_type": "code",
      "metadata": {
        "id": "zjlF2OL9BHZR",
        "colab_type": "code",
        "colab": {
          "base_uri": "https://localhost:8080/",
          "height": 220,
          "referenced_widgets": [
            "ce6ac61df70a477493e9d9062a6ecff7",
            "c527a0d67b3a4903b2be47940eaf9929",
            "f65d30c1601441cebb6ab04364af802d",
            "879eece1b86f4e54848f24bf6e97e794",
            "f1ee951b6617402dbb576c84663134b6",
            "3327f16c8bdd4a9c8b8533fd899a721f",
            "429c790a44524b0dbd133926413a658c",
            "9e7a7757d98b458597b8b5ea8f960c47",
            "982dce2f2eef4d92b45d0b147068a7d8",
            "599f863bb49c42d0b26a8e6a1556702d",
            "d774d0bb48304adbbffa27e5d30a55f9",
            "df747b12b284419ca46458060fc419a8",
            "ea410f9a61df45f0a8e1c193732b17d3",
            "a22ecd51b7144ca7b92b8a582a3d8d25",
            "0922ea9452674970973a10febb18e343",
            "de67a8fdd8174444929b5cff9051fb72"
          ]
        },
        "outputId": "95f02d61-e2fc-44f0-b612-4d53dcc5340b"
      },
      "source": [
        "model = BertForSequenceClassification.from_pretrained(\"bert-base-uncased\",\n",
        "                                                      num_labels=4,\n",
        "                                                      output_attentions=False,\n",
        "                                                      output_hidden_states=False)"
      ],
      "execution_count": 40,
      "outputs": [
        {
          "output_type": "display_data",
          "data": {
            "application/vnd.jupyter.widget-view+json": {
              "model_id": "ce6ac61df70a477493e9d9062a6ecff7",
              "version_minor": 0,
              "version_major": 2
            },
            "text/plain": [
              "HBox(children=(FloatProgress(value=0.0, description='Downloading', max=433.0, style=ProgressStyle(description_…"
            ]
          },
          "metadata": {
            "tags": []
          }
        },
        {
          "output_type": "stream",
          "text": [
            "\n"
          ],
          "name": "stdout"
        },
        {
          "output_type": "display_data",
          "data": {
            "application/vnd.jupyter.widget-view+json": {
              "model_id": "982dce2f2eef4d92b45d0b147068a7d8",
              "version_minor": 0,
              "version_major": 2
            },
            "text/plain": [
              "HBox(children=(FloatProgress(value=0.0, description='Downloading', max=440473133.0, style=ProgressStyle(descri…"
            ]
          },
          "metadata": {
            "tags": []
          }
        },
        {
          "output_type": "stream",
          "text": [
            "\n"
          ],
          "name": "stdout"
        },
        {
          "output_type": "stream",
          "text": [
            "Some weights of the model checkpoint at bert-base-uncased were not used when initializing BertForSequenceClassification: ['cls.predictions.bias', 'cls.predictions.transform.dense.weight', 'cls.predictions.transform.dense.bias', 'cls.predictions.decoder.weight', 'cls.seq_relationship.weight', 'cls.seq_relationship.bias', 'cls.predictions.transform.LayerNorm.weight', 'cls.predictions.transform.LayerNorm.bias']\n",
            "- This IS expected if you are initializing BertForSequenceClassification from the checkpoint of a model trained on another task or with another architecture (e.g. initializing a BertForSequenceClassification model from a BertForPretraining model).\n",
            "- This IS NOT expected if you are initializing BertForSequenceClassification from the checkpoint of a model that you expect to be exactly identical (initializing a BertForSequenceClassification model from a BertForSequenceClassification model).\n",
            "Some weights of BertForSequenceClassification were not initialized from the model checkpoint at bert-base-uncased and are newly initialized: ['classifier.weight', 'classifier.bias']\n",
            "You should probably TRAIN this model on a down-stream task to be able to use it for predictions and inference.\n"
          ],
          "name": "stderr"
        }
      ]
    },
    {
      "cell_type": "markdown",
      "metadata": {
        "id": "h0c6L7B9CI2O",
        "colab_type": "text"
      },
      "source": [
        "# Creating Data Loaders"
      ]
    },
    {
      "cell_type": "code",
      "metadata": {
        "id": "w5r0fD2QB2Jf",
        "colab_type": "code",
        "colab": {}
      },
      "source": [
        "from torch.utils.data import DataLoader, RandomSampler, SequentialSampler"
      ],
      "execution_count": 41,
      "outputs": []
    },
    {
      "cell_type": "code",
      "metadata": {
        "id": "faTDCW23CM2E",
        "colab_type": "code",
        "colab": {}
      },
      "source": [
        "batch_size = 32\n",
        "\n",
        "dataloader_train = DataLoader(dataset_train, \n",
        "                              sampler=RandomSampler(dataset_train), \n",
        "                              batch_size=batch_size)\n",
        "\n",
        "dataloader_validation = DataLoader(dataset_val, \n",
        "                                   sampler=SequentialSampler(dataset_val), \n",
        "                                   batch_size=batch_size)"
      ],
      "execution_count": 181,
      "outputs": []
    },
    {
      "cell_type": "markdown",
      "metadata": {
        "id": "BCJXjacACUD6",
        "colab_type": "text"
      },
      "source": [
        "# Setting Up Optimiser and Scheduler"
      ]
    },
    {
      "cell_type": "code",
      "metadata": {
        "id": "taX6zphWCRKr",
        "colab_type": "code",
        "colab": {}
      },
      "source": [
        "from transformers import AdamW, get_linear_schedule_with_warmup"
      ],
      "execution_count": 43,
      "outputs": []
    },
    {
      "cell_type": "code",
      "metadata": {
        "id": "yaqJ2UlLCYOh",
        "colab_type": "code",
        "colab": {}
      },
      "source": [
        "optimizer = AdamW(model.parameters(),\n",
        "                  lr=1e-5, \n",
        "                  eps=1e-8)"
      ],
      "execution_count": 44,
      "outputs": []
    },
    {
      "cell_type": "code",
      "metadata": {
        "id": "QUI87rfqCa5U",
        "colab_type": "code",
        "colab": {}
      },
      "source": [
        "epochs = 10\n",
        "\n",
        "scheduler = get_linear_schedule_with_warmup(optimizer, \n",
        "                                            num_warmup_steps=0,\n",
        "                                            num_training_steps=len(dataloader_train)*epochs)"
      ],
      "execution_count": 45,
      "outputs": []
    },
    {
      "cell_type": "markdown",
      "metadata": {
        "id": "rMqZMZlPCgpW",
        "colab_type": "text"
      },
      "source": [
        "# Defining our Performance Metrics"
      ]
    },
    {
      "cell_type": "code",
      "metadata": {
        "id": "ggMV4bF5CeZg",
        "colab_type": "code",
        "colab": {}
      },
      "source": [
        "import numpy as np\n",
        "from sklearn.metrics import f1_score"
      ],
      "execution_count": 46,
      "outputs": []
    },
    {
      "cell_type": "code",
      "metadata": {
        "id": "jnMts3DUCx_S",
        "colab_type": "code",
        "colab": {
          "base_uri": "https://localhost:8080/",
          "height": 34
        },
        "outputId": "65117a4b-675f-4560-f856-4fcf5cec6571"
      },
      "source": [
        "label_dict ={'Cannot Say':0,'Negative':1,'Postive':2,'No Sentiment':3}\n",
        "label_dict"
      ],
      "execution_count": 48,
      "outputs": [
        {
          "output_type": "execute_result",
          "data": {
            "text/plain": [
              "{'Cannot Say': 0, 'Negative': 1, 'No Sentiment': 3, 'Postive': 2}"
            ]
          },
          "metadata": {
            "tags": []
          },
          "execution_count": 48
        }
      ]
    },
    {
      "cell_type": "code",
      "metadata": {
        "id": "EMHPAWyxCo4u",
        "colab_type": "code",
        "colab": {}
      },
      "source": [
        "def f1_score_func(preds, labels):\n",
        "    preds_flat = np.argmax(preds, axis=1).flatten()\n",
        "    labels_flat = labels.flatten()\n",
        "    return f1_score(labels_flat, preds_flat, average='weighted')"
      ],
      "execution_count": 47,
      "outputs": []
    },
    {
      "cell_type": "code",
      "metadata": {
        "id": "WXzZQgM6Cs4y",
        "colab_type": "code",
        "colab": {}
      },
      "source": [
        "def accuracy_per_class(preds, labels):\n",
        "    label_dict_inverse = {v: k for k, v in label_dict.items()}\n",
        "    \n",
        "    preds_flat = np.argmax(preds, axis=1).flatten()\n",
        "    labels_flat = labels.flatten()\n",
        "\n",
        "    for label in np.unique(labels_flat):\n",
        "        y_preds = preds_flat[labels_flat==label]\n",
        "        y_true = labels_flat[labels_flat==label]\n",
        "        print(f'Class: {label_dict_inverse[label]}')\n",
        "        print(f'Accuracy: {len(y_preds[y_preds==label])}/{len(y_true)}\\n')"
      ],
      "execution_count": 49,
      "outputs": []
    },
    {
      "cell_type": "markdown",
      "metadata": {
        "id": "36gq-neODWAv",
        "colab_type": "text"
      },
      "source": [
        "# Creating our Training Loop"
      ]
    },
    {
      "cell_type": "code",
      "metadata": {
        "id": "Kg87yJ0UDRv1",
        "colab_type": "code",
        "colab": {}
      },
      "source": [
        "import random\n",
        "\n",
        "seed_val = 17\n",
        "random.seed(seed_val)\n",
        "np.random.seed(seed_val)\n",
        "torch.manual_seed(seed_val)\n",
        "torch.cuda.manual_seed_all(seed_val)"
      ],
      "execution_count": 51,
      "outputs": []
    },
    {
      "cell_type": "code",
      "metadata": {
        "id": "g-v8RZ47DcJ7",
        "colab_type": "code",
        "colab": {
          "base_uri": "https://localhost:8080/",
          "height": 34
        },
        "outputId": "8e2869e6-c0a0-43c9-960d-f6b5939464fb"
      },
      "source": [
        "device = torch.device('cuda' if torch.cuda.is_available() else 'cpu')\n",
        "model.to(device)\n",
        "\n",
        "print(device)"
      ],
      "execution_count": 52,
      "outputs": [
        {
          "output_type": "stream",
          "text": [
            "cuda\n"
          ],
          "name": "stdout"
        }
      ]
    },
    {
      "cell_type": "code",
      "metadata": {
        "id": "uT6v2hrHDjO6",
        "colab_type": "code",
        "colab": {}
      },
      "source": [
        "def evaluate(dataloader_val):\n",
        "\n",
        "    model.eval()\n",
        "    \n",
        "    loss_val_total = 0\n",
        "    predictions, true_vals = [], []\n",
        "    \n",
        "    for batch in dataloader_val:\n",
        "        \n",
        "        batch = tuple(b.to(device) for b in batch)\n",
        "        \n",
        "        inputs = {'input_ids':      batch[0],\n",
        "                  'attention_mask': batch[1],\n",
        "                  'labels':         batch[2],\n",
        "                 }\n",
        "\n",
        "        with torch.no_grad():        \n",
        "            outputs = model(**inputs)\n",
        "            \n",
        "        loss = outputs[0]\n",
        "        logits = outputs[1]\n",
        "        loss_val_total += loss.item()\n",
        "\n",
        "        logits = logits.detach().cpu().numpy()\n",
        "        label_ids = inputs['labels'].cpu().numpy()\n",
        "        predictions.append(logits)\n",
        "        true_vals.append(label_ids)\n",
        "    \n",
        "    loss_val_avg = loss_val_total/len(dataloader_val) \n",
        "    \n",
        "    predictions = np.concatenate(predictions, axis=0)\n",
        "    true_vals = np.concatenate(true_vals, axis=0)\n",
        "            \n",
        "    return loss_val_avg, predictions, true_vals"
      ],
      "execution_count": 53,
      "outputs": []
    },
    {
      "cell_type": "code",
      "metadata": {
        "id": "67hvF0V0DxyA",
        "colab_type": "code",
        "colab": {
          "base_uri": "https://localhost:8080/",
          "height": 916,
          "referenced_widgets": [
            "fd6cdc3851db40e3ae619b8a8465fb40",
            "c3fa6e68e7244dba819fd07ef844c8c0",
            "f06844b0063e41969b4da4cd56363234",
            "5015ac31c7c54327b186eb217e550e18",
            "706b30db16c64f5d959f155e6766bee5",
            "1c9c3cee02454fec8242c29b7bc8498d",
            "35713387b03a4f3dbcb5ecbe893844ba",
            "9abe5d7120f84b46a753f632beb861fd",
            "bffa0413483b4abca65148d355c590b5",
            "e0c1890506174a5e9f4165cd89cc9fef",
            "625c080687c54733922a13a3b41bc92f",
            "4bb15ee0f49246b6abad175f5deff478",
            "a060778ea45f417d96b6b740d37b2c8e",
            "cb0f95b78f4e4e93bf13b5a8f38153af",
            "4db9bdca8eff44a3b0fec433ac587e4a",
            "0589a73463f54dd6afb3812eab358cc9",
            "4e7c5f3236474708b9c54d0a73d8e002",
            "827c2329de4544aba396cb7715e3fa2d",
            "1be88eba37a74a55839e547803c4b9ff",
            "bd90b83984594ff4981d07c01e6a9bdb",
            "5b005ac677da41ce81bdf0e8c988812b",
            "65c9883fd15e447088e9ee20c8aa972f",
            "28060f96c85f4e6bb97abfa1b11494cf",
            "4a66c02a0f5940db863a7c761b720081",
            "3691404f51fe4b61a58e93b3fafeb608",
            "d024cc0f38e245868fa37230d668a953",
            "67f896a5ccf44f9ca03cdbbf891bdf17",
            "0bcff7386e0e4d7781b69d0f31671bd8",
            "2bc70b67c86c40c88cd6efa7126fadb6",
            "d737f4d705f8488fafd89fe43ac73c27",
            "ea3d2ea82f3f45bbb6f4652936d346fa",
            "fb4bda2fe2c040d294e3ecdbadb856c1",
            "80b17917b9a74694830d3df417d405db",
            "3e6aad41274646c794afe2d898c21b73",
            "aef8343b2cd84d43a8c93d433d9f2bee",
            "e7d6730f31e446c9a3509affe055eaa3",
            "a5f5fadfb4b54633b7842c35d0b99ae4",
            "5c69450be7cb49ff83fe6e511050e659",
            "81f816daab0940db80cc89524eabde4e",
            "c9915b9da70e4c9da22c0ba1b4d5da5c",
            "97bf5f9dd97e4181a82f19b6ea0458b8",
            "2c8c5b9269c4485cace9921409e19a1f",
            "49aa861cc466403db150feef70e80844",
            "d049b88937864d9781f228da7b5d65a9",
            "299e167eca024beea325f466147b5bb7",
            "6a3e44ae7fb04036a15b445899943cbf",
            "5e146060afe340298f7762f0c371a218",
            "b42469a55c9a4073b7a2fe266af1ee2a",
            "41f01359c2554238bd4d1294d68244e8",
            "f05d3fbd98154ef1b5a6167f001a76f6",
            "7ee48abcc71c44cc99a3acfd195476cf",
            "5a3013dc13fd4aa18d2470ae9f241908",
            "4bf240a37ed94897a875f270af4707c3",
            "8ccc6fe167204a7a86c7b47e809c2547",
            "b15baf7ca84747239a4419606190cef1",
            "3bd5cd886ce74cee9edf7b3a1408b073",
            "fa5905722e354c9089c9a540d70e70fb",
            "ef9684f7a768457a9e0dbcc4ac7e39d2",
            "44170779931d4687b3b87ca255e23293",
            "d263713db15245e88b2122a339fa5345",
            "684d07a9ce1d481fa83ceb95ce3b642e",
            "67165694c3934968ac261d9323c56b4c",
            "481d7b805f9647099def350b841d6907",
            "4b0c4ba68ece48e3aaaabac594222724",
            "5be7d2af9bbc4a9781efa10fb4b645a7",
            "4f024c863513441d9937073b21c9544e",
            "5235644470dd43669add51c205d12e8d",
            "fb90e6188b894a2eb72f6b31e0513bb1",
            "3d6cd33fc4fb4b11835d331d6b877289",
            "aa5388186e1d4d7c99048d774fea96bb",
            "da5e40f7c66949b18a24ae63a7bc3152",
            "97247e3aa67f4fee85f3d919f0fd07ec",
            "9bd9c35219114b1b8b89e6cfad4f8b8f",
            "10bbe836a0ac4a5a9123aacf26b19c5b",
            "bf95e9ca26324f8d8a064b210dbb8499",
            "3040509de9674e34ac82351978167dd0",
            "9bf5000b60a44c4c80807b337b03088e",
            "aec1e30de04c49969b7d6158061e05d6",
            "6c2afefac0f5466c99e734180980fbca",
            "83cfcfd9cd104af48390e05d49472d7e",
            "9dcad4ccae764a17a2125513ba57b606",
            "e402b2df8fba4ab3a8b963aa9e2bce87",
            "2d90fd23f5d1420796769709dd80093e",
            "8ad78e7319794c13a912d982f1843592",
            "0d26d1d71e3a4b46a96bfb8b69e674c6",
            "f2a32024023c4a2887eef1aa4bcd3277",
            "bfdd6699116c4e0887e82fb3bd3e190f",
            "ee3291b2216441d48aacbb0733625e4b"
          ]
        },
        "outputId": "7555980c-4481-4a79-fc30-aa77ef4e4f3d"
      },
      "source": [
        "for epoch in tqdm(range(1, epochs+1)):\n",
        "    \n",
        "    model.train()\n",
        "    \n",
        "    loss_train_total = 0\n",
        "\n",
        "    progress_bar = tqdm(dataloader_train, desc='Epoch {:1d}'.format(epoch), leave=False, disable=False)\n",
        "    for batch in progress_bar:\n",
        "\n",
        "        model.zero_grad()\n",
        "        \n",
        "        batch = tuple(b.to(device) for b in batch)\n",
        "        \n",
        "        inputs = {'input_ids':      batch[0],\n",
        "                  'attention_mask': batch[1],\n",
        "                  'labels':         batch[2],\n",
        "                 }       \n",
        "\n",
        "        outputs = model(**inputs)\n",
        "        \n",
        "        loss = outputs[0]\n",
        "        loss_train_total += loss.item()\n",
        "        loss.backward()\n",
        "\n",
        "        torch.nn.utils.clip_grad_norm_(model.parameters(), 1.0)\n",
        "\n",
        "        optimizer.step()\n",
        "        scheduler.step()\n",
        "        \n",
        "        progress_bar.set_postfix({'training_loss': '{:.3f}'.format(loss.item()/len(batch))})\n",
        "         \n",
        "        \n",
        "    torch.save(model.state_dict(), f'finetuned_BERT_epoch_{epoch}.model')\n",
        "        \n",
        "    tqdm.write(f'\\nEpoch {epoch}')\n",
        "    \n",
        "    loss_train_avg = loss_train_total/len(dataloader_train)            \n",
        "    tqdm.write(f'Training loss: {loss_train_avg}')\n",
        "    \n",
        "    val_loss, predictions, true_vals = evaluate(dataloader_validation)\n",
        "    val_f1 = f1_score_func(predictions, true_vals)\n",
        "    tqdm.write(f'Validation loss: {val_loss}')\n",
        "    tqdm.write(f'F1 Score (Weighted): {val_f1}')"
      ],
      "execution_count": 54,
      "outputs": [
        {
          "output_type": "display_data",
          "data": {
            "application/vnd.jupyter.widget-view+json": {
              "model_id": "fd6cdc3851db40e3ae619b8a8465fb40",
              "version_minor": 0,
              "version_major": 2
            },
            "text/plain": [
              "HBox(children=(FloatProgress(value=0.0, max=10.0), HTML(value='')))"
            ]
          },
          "metadata": {
            "tags": []
          }
        },
        {
          "output_type": "display_data",
          "data": {
            "application/vnd.jupyter.widget-view+json": {
              "model_id": "bffa0413483b4abca65148d355c590b5",
              "version_minor": 0,
              "version_major": 2
            },
            "text/plain": [
              "HBox(children=(FloatProgress(value=0.0, description='Epoch 1', max=170.0, style=ProgressStyle(description_widt…"
            ]
          },
          "metadata": {
            "tags": []
          }
        },
        {
          "output_type": "stream",
          "text": [
            "\r\n",
            "Epoch 1\n",
            "Training loss: 0.9126953619367936\n",
            "Validation loss: 0.7693215231100718\n",
            "F1 Score (Weighted): 0.6450803313550091\n"
          ],
          "name": "stdout"
        },
        {
          "output_type": "display_data",
          "data": {
            "application/vnd.jupyter.widget-view+json": {
              "model_id": "4e7c5f3236474708b9c54d0a73d8e002",
              "version_minor": 0,
              "version_major": 2
            },
            "text/plain": [
              "HBox(children=(FloatProgress(value=0.0, description='Epoch 2', max=170.0, style=ProgressStyle(description_widt…"
            ]
          },
          "metadata": {
            "tags": []
          }
        },
        {
          "output_type": "stream",
          "text": [
            "\r\n",
            "Epoch 2\n",
            "Training loss: 0.7335628567373051\n",
            "Validation loss: 0.7089532206455866\n",
            "F1 Score (Weighted): 0.6777720180395003\n"
          ],
          "name": "stdout"
        },
        {
          "output_type": "display_data",
          "data": {
            "application/vnd.jupyter.widget-view+json": {
              "model_id": "3691404f51fe4b61a58e93b3fafeb608",
              "version_minor": 0,
              "version_major": 2
            },
            "text/plain": [
              "HBox(children=(FloatProgress(value=0.0, description='Epoch 3', max=170.0, style=ProgressStyle(description_widt…"
            ]
          },
          "metadata": {
            "tags": []
          }
        },
        {
          "output_type": "stream",
          "text": [
            "\r\n",
            "Epoch 3\n",
            "Training loss: 0.6451701930340599\n",
            "Validation loss: 0.7013080259164174\n",
            "F1 Score (Weighted): 0.6845341987651123\n"
          ],
          "name": "stdout"
        },
        {
          "output_type": "display_data",
          "data": {
            "application/vnd.jupyter.widget-view+json": {
              "model_id": "80b17917b9a74694830d3df417d405db",
              "version_minor": 0,
              "version_major": 2
            },
            "text/plain": [
              "HBox(children=(FloatProgress(value=0.0, description='Epoch 4', max=170.0, style=ProgressStyle(description_widt…"
            ]
          },
          "metadata": {
            "tags": []
          }
        },
        {
          "output_type": "stream",
          "text": [
            "\r\n",
            "Epoch 4\n",
            "Training loss: 0.5432991111979765\n",
            "Validation loss: 0.6962456574042638\n",
            "F1 Score (Weighted): 0.6934673594171611\n"
          ],
          "name": "stdout"
        },
        {
          "output_type": "display_data",
          "data": {
            "application/vnd.jupyter.widget-view+json": {
              "model_id": "97bf5f9dd97e4181a82f19b6ea0458b8",
              "version_minor": 0,
              "version_major": 2
            },
            "text/plain": [
              "HBox(children=(FloatProgress(value=0.0, description='Epoch 5', max=170.0, style=ProgressStyle(description_widt…"
            ]
          },
          "metadata": {
            "tags": []
          }
        },
        {
          "output_type": "stream",
          "text": [
            "\r\n",
            "Epoch 5\n",
            "Training loss: 0.47098755415748145\n",
            "Validation loss: 0.7617089341084162\n",
            "F1 Score (Weighted): 0.7072692078726689\n"
          ],
          "name": "stdout"
        },
        {
          "output_type": "display_data",
          "data": {
            "application/vnd.jupyter.widget-view+json": {
              "model_id": "41f01359c2554238bd4d1294d68244e8",
              "version_minor": 0,
              "version_major": 2
            },
            "text/plain": [
              "HBox(children=(FloatProgress(value=0.0, description='Epoch 6', max=170.0, style=ProgressStyle(description_widt…"
            ]
          },
          "metadata": {
            "tags": []
          }
        },
        {
          "output_type": "stream",
          "text": [
            "\r\n",
            "Epoch 6\n",
            "Training loss: 0.4171408704975072\n",
            "Validation loss: 0.764098396897316\n",
            "F1 Score (Weighted): 0.7093056819730302\n"
          ],
          "name": "stdout"
        },
        {
          "output_type": "display_data",
          "data": {
            "application/vnd.jupyter.widget-view+json": {
              "model_id": "fa5905722e354c9089c9a540d70e70fb",
              "version_minor": 0,
              "version_major": 2
            },
            "text/plain": [
              "HBox(children=(FloatProgress(value=0.0, description='Epoch 7', max=170.0, style=ProgressStyle(description_widt…"
            ]
          },
          "metadata": {
            "tags": []
          }
        },
        {
          "output_type": "stream",
          "text": [
            "\r\n",
            "Epoch 7\n",
            "Training loss: 0.37025460618383743\n",
            "Validation loss: 0.7992221822341283\n",
            "F1 Score (Weighted): 0.7053686908421115\n"
          ],
          "name": "stdout"
        },
        {
          "output_type": "display_data",
          "data": {
            "application/vnd.jupyter.widget-view+json": {
              "model_id": "5be7d2af9bbc4a9781efa10fb4b645a7",
              "version_minor": 0,
              "version_major": 2
            },
            "text/plain": [
              "HBox(children=(FloatProgress(value=0.0, description='Epoch 8', max=170.0, style=ProgressStyle(description_widt…"
            ]
          },
          "metadata": {
            "tags": []
          }
        },
        {
          "output_type": "stream",
          "text": [
            "\r\n",
            "Epoch 8\n",
            "Training loss: 0.34176409893176135\n",
            "Validation loss: 0.8283120135466258\n",
            "F1 Score (Weighted): 0.6971402216672844\n"
          ],
          "name": "stdout"
        },
        {
          "output_type": "display_data",
          "data": {
            "application/vnd.jupyter.widget-view+json": {
              "model_id": "9bd9c35219114b1b8b89e6cfad4f8b8f",
              "version_minor": 0,
              "version_major": 2
            },
            "text/plain": [
              "HBox(children=(FloatProgress(value=0.0, description='Epoch 9', max=170.0, style=ProgressStyle(description_widt…"
            ]
          },
          "metadata": {
            "tags": []
          }
        },
        {
          "output_type": "stream",
          "text": [
            "\r\n",
            "Epoch 9\n",
            "Training loss: 0.3051821860758697\n",
            "Validation loss: 0.8656876226266225\n",
            "F1 Score (Weighted): 0.7010128603007236\n"
          ],
          "name": "stdout"
        },
        {
          "output_type": "display_data",
          "data": {
            "application/vnd.jupyter.widget-view+json": {
              "model_id": "9dcad4ccae764a17a2125513ba57b606",
              "version_minor": 0,
              "version_major": 2
            },
            "text/plain": [
              "HBox(children=(FloatProgress(value=0.0, description='Epoch 10', max=170.0, style=ProgressStyle(description_wid…"
            ]
          },
          "metadata": {
            "tags": []
          }
        },
        {
          "output_type": "stream",
          "text": [
            "\r\n",
            "Epoch 10\n",
            "Training loss: 0.2961352830643163\n",
            "Validation loss: 0.8643942276636759\n",
            "F1 Score (Weighted): 0.7045835792030342\n",
            "\n"
          ],
          "name": "stdout"
        }
      ]
    },
    {
      "cell_type": "code",
      "metadata": {
        "id": "JnhhGRniEFkV",
        "colab_type": "code",
        "colab": {}
      },
      "source": [
        "_, predictions, true_vals = evaluate(dataloader_validation)\n"
      ],
      "execution_count": 55,
      "outputs": []
    },
    {
      "cell_type": "code",
      "metadata": {
        "id": "O50GBwM_Xm7K",
        "colab_type": "code",
        "colab": {
          "base_uri": "https://localhost:8080/",
          "height": 153
        },
        "outputId": "4584b74b-f989-4e85-f386-21954a568ba7"
      },
      "source": [
        "predictions"
      ],
      "execution_count": 57,
      "outputs": [
        {
          "output_type": "execute_result",
          "data": {
            "text/plain": [
              "array([[-1.61608   , -1.8265791 ,  3.5225694 , -0.646289  ],\n",
              "       [-1.7421474 , -2.3777046 ,  3.785414  , -0.6429743 ],\n",
              "       [-1.5066649 , -1.8749869 , -0.0077248 ,  3.7427683 ],\n",
              "       ...,\n",
              "       [-1.7219838 , -1.8906404 ,  3.097601  , -0.4756199 ],\n",
              "       [-2.2620668 , -2.6661584 ,  2.0910578 ,  1.7683979 ],\n",
              "       [-1.6994187 , -1.9174868 ,  3.4385614 , -0.95996207]],\n",
              "      dtype=float32)"
            ]
          },
          "metadata": {
            "tags": []
          },
          "execution_count": 57
        }
      ]
    },
    {
      "cell_type": "code",
      "metadata": {
        "id": "nfPkPx4cXdUj",
        "colab_type": "code",
        "colab": {
          "base_uri": "https://localhost:8080/",
          "height": 221
        },
        "outputId": "045d5cfe-9f09-4004-a310-dd71e359c491"
      },
      "source": [
        "accuracy_per_class(predictions, true_vals)"
      ],
      "execution_count": 56,
      "outputs": [
        {
          "output_type": "stream",
          "text": [
            "Class: Cannot Say\n",
            "Accuracy: 0/17\n",
            "\n",
            "Class: Negative\n",
            "Accuracy: 21/60\n",
            "\n",
            "Class: Postive\n",
            "Accuracy: 446/565\n",
            "\n",
            "Class: No Sentiment\n",
            "Accuracy: 214/313\n",
            "\n"
          ],
          "name": "stdout"
        }
      ]
    },
    {
      "cell_type": "markdown",
      "metadata": {
        "id": "7zFz06CKaFgT",
        "colab_type": "text"
      },
      "source": [
        "# Inference"
      ]
    },
    {
      "cell_type": "code",
      "metadata": {
        "id": "QCDzDZfdaH1i",
        "colab_type": "code",
        "colab": {
          "base_uri": "https://localhost:8080/",
          "height": 1000
        },
        "outputId": "2c6ce92a-247f-470a-fb78-7644d6efa30e"
      },
      "source": [
        "model.eval()"
      ],
      "execution_count": 64,
      "outputs": [
        {
          "output_type": "execute_result",
          "data": {
            "text/plain": [
              "BertForSequenceClassification(\n",
              "  (bert): BertModel(\n",
              "    (embeddings): BertEmbeddings(\n",
              "      (word_embeddings): Embedding(30522, 768, padding_idx=0)\n",
              "      (position_embeddings): Embedding(512, 768)\n",
              "      (token_type_embeddings): Embedding(2, 768)\n",
              "      (LayerNorm): LayerNorm((768,), eps=1e-12, elementwise_affine=True)\n",
              "      (dropout): Dropout(p=0.1, inplace=False)\n",
              "    )\n",
              "    (encoder): BertEncoder(\n",
              "      (layer): ModuleList(\n",
              "        (0): BertLayer(\n",
              "          (attention): BertAttention(\n",
              "            (self): BertSelfAttention(\n",
              "              (query): Linear(in_features=768, out_features=768, bias=True)\n",
              "              (key): Linear(in_features=768, out_features=768, bias=True)\n",
              "              (value): Linear(in_features=768, out_features=768, bias=True)\n",
              "              (dropout): Dropout(p=0.1, inplace=False)\n",
              "            )\n",
              "            (output): BertSelfOutput(\n",
              "              (dense): Linear(in_features=768, out_features=768, bias=True)\n",
              "              (LayerNorm): LayerNorm((768,), eps=1e-12, elementwise_affine=True)\n",
              "              (dropout): Dropout(p=0.1, inplace=False)\n",
              "            )\n",
              "          )\n",
              "          (intermediate): BertIntermediate(\n",
              "            (dense): Linear(in_features=768, out_features=3072, bias=True)\n",
              "          )\n",
              "          (output): BertOutput(\n",
              "            (dense): Linear(in_features=3072, out_features=768, bias=True)\n",
              "            (LayerNorm): LayerNorm((768,), eps=1e-12, elementwise_affine=True)\n",
              "            (dropout): Dropout(p=0.1, inplace=False)\n",
              "          )\n",
              "        )\n",
              "        (1): BertLayer(\n",
              "          (attention): BertAttention(\n",
              "            (self): BertSelfAttention(\n",
              "              (query): Linear(in_features=768, out_features=768, bias=True)\n",
              "              (key): Linear(in_features=768, out_features=768, bias=True)\n",
              "              (value): Linear(in_features=768, out_features=768, bias=True)\n",
              "              (dropout): Dropout(p=0.1, inplace=False)\n",
              "            )\n",
              "            (output): BertSelfOutput(\n",
              "              (dense): Linear(in_features=768, out_features=768, bias=True)\n",
              "              (LayerNorm): LayerNorm((768,), eps=1e-12, elementwise_affine=True)\n",
              "              (dropout): Dropout(p=0.1, inplace=False)\n",
              "            )\n",
              "          )\n",
              "          (intermediate): BertIntermediate(\n",
              "            (dense): Linear(in_features=768, out_features=3072, bias=True)\n",
              "          )\n",
              "          (output): BertOutput(\n",
              "            (dense): Linear(in_features=3072, out_features=768, bias=True)\n",
              "            (LayerNorm): LayerNorm((768,), eps=1e-12, elementwise_affine=True)\n",
              "            (dropout): Dropout(p=0.1, inplace=False)\n",
              "          )\n",
              "        )\n",
              "        (2): BertLayer(\n",
              "          (attention): BertAttention(\n",
              "            (self): BertSelfAttention(\n",
              "              (query): Linear(in_features=768, out_features=768, bias=True)\n",
              "              (key): Linear(in_features=768, out_features=768, bias=True)\n",
              "              (value): Linear(in_features=768, out_features=768, bias=True)\n",
              "              (dropout): Dropout(p=0.1, inplace=False)\n",
              "            )\n",
              "            (output): BertSelfOutput(\n",
              "              (dense): Linear(in_features=768, out_features=768, bias=True)\n",
              "              (LayerNorm): LayerNorm((768,), eps=1e-12, elementwise_affine=True)\n",
              "              (dropout): Dropout(p=0.1, inplace=False)\n",
              "            )\n",
              "          )\n",
              "          (intermediate): BertIntermediate(\n",
              "            (dense): Linear(in_features=768, out_features=3072, bias=True)\n",
              "          )\n",
              "          (output): BertOutput(\n",
              "            (dense): Linear(in_features=3072, out_features=768, bias=True)\n",
              "            (LayerNorm): LayerNorm((768,), eps=1e-12, elementwise_affine=True)\n",
              "            (dropout): Dropout(p=0.1, inplace=False)\n",
              "          )\n",
              "        )\n",
              "        (3): BertLayer(\n",
              "          (attention): BertAttention(\n",
              "            (self): BertSelfAttention(\n",
              "              (query): Linear(in_features=768, out_features=768, bias=True)\n",
              "              (key): Linear(in_features=768, out_features=768, bias=True)\n",
              "              (value): Linear(in_features=768, out_features=768, bias=True)\n",
              "              (dropout): Dropout(p=0.1, inplace=False)\n",
              "            )\n",
              "            (output): BertSelfOutput(\n",
              "              (dense): Linear(in_features=768, out_features=768, bias=True)\n",
              "              (LayerNorm): LayerNorm((768,), eps=1e-12, elementwise_affine=True)\n",
              "              (dropout): Dropout(p=0.1, inplace=False)\n",
              "            )\n",
              "          )\n",
              "          (intermediate): BertIntermediate(\n",
              "            (dense): Linear(in_features=768, out_features=3072, bias=True)\n",
              "          )\n",
              "          (output): BertOutput(\n",
              "            (dense): Linear(in_features=3072, out_features=768, bias=True)\n",
              "            (LayerNorm): LayerNorm((768,), eps=1e-12, elementwise_affine=True)\n",
              "            (dropout): Dropout(p=0.1, inplace=False)\n",
              "          )\n",
              "        )\n",
              "        (4): BertLayer(\n",
              "          (attention): BertAttention(\n",
              "            (self): BertSelfAttention(\n",
              "              (query): Linear(in_features=768, out_features=768, bias=True)\n",
              "              (key): Linear(in_features=768, out_features=768, bias=True)\n",
              "              (value): Linear(in_features=768, out_features=768, bias=True)\n",
              "              (dropout): Dropout(p=0.1, inplace=False)\n",
              "            )\n",
              "            (output): BertSelfOutput(\n",
              "              (dense): Linear(in_features=768, out_features=768, bias=True)\n",
              "              (LayerNorm): LayerNorm((768,), eps=1e-12, elementwise_affine=True)\n",
              "              (dropout): Dropout(p=0.1, inplace=False)\n",
              "            )\n",
              "          )\n",
              "          (intermediate): BertIntermediate(\n",
              "            (dense): Linear(in_features=768, out_features=3072, bias=True)\n",
              "          )\n",
              "          (output): BertOutput(\n",
              "            (dense): Linear(in_features=3072, out_features=768, bias=True)\n",
              "            (LayerNorm): LayerNorm((768,), eps=1e-12, elementwise_affine=True)\n",
              "            (dropout): Dropout(p=0.1, inplace=False)\n",
              "          )\n",
              "        )\n",
              "        (5): BertLayer(\n",
              "          (attention): BertAttention(\n",
              "            (self): BertSelfAttention(\n",
              "              (query): Linear(in_features=768, out_features=768, bias=True)\n",
              "              (key): Linear(in_features=768, out_features=768, bias=True)\n",
              "              (value): Linear(in_features=768, out_features=768, bias=True)\n",
              "              (dropout): Dropout(p=0.1, inplace=False)\n",
              "            )\n",
              "            (output): BertSelfOutput(\n",
              "              (dense): Linear(in_features=768, out_features=768, bias=True)\n",
              "              (LayerNorm): LayerNorm((768,), eps=1e-12, elementwise_affine=True)\n",
              "              (dropout): Dropout(p=0.1, inplace=False)\n",
              "            )\n",
              "          )\n",
              "          (intermediate): BertIntermediate(\n",
              "            (dense): Linear(in_features=768, out_features=3072, bias=True)\n",
              "          )\n",
              "          (output): BertOutput(\n",
              "            (dense): Linear(in_features=3072, out_features=768, bias=True)\n",
              "            (LayerNorm): LayerNorm((768,), eps=1e-12, elementwise_affine=True)\n",
              "            (dropout): Dropout(p=0.1, inplace=False)\n",
              "          )\n",
              "        )\n",
              "        (6): BertLayer(\n",
              "          (attention): BertAttention(\n",
              "            (self): BertSelfAttention(\n",
              "              (query): Linear(in_features=768, out_features=768, bias=True)\n",
              "              (key): Linear(in_features=768, out_features=768, bias=True)\n",
              "              (value): Linear(in_features=768, out_features=768, bias=True)\n",
              "              (dropout): Dropout(p=0.1, inplace=False)\n",
              "            )\n",
              "            (output): BertSelfOutput(\n",
              "              (dense): Linear(in_features=768, out_features=768, bias=True)\n",
              "              (LayerNorm): LayerNorm((768,), eps=1e-12, elementwise_affine=True)\n",
              "              (dropout): Dropout(p=0.1, inplace=False)\n",
              "            )\n",
              "          )\n",
              "          (intermediate): BertIntermediate(\n",
              "            (dense): Linear(in_features=768, out_features=3072, bias=True)\n",
              "          )\n",
              "          (output): BertOutput(\n",
              "            (dense): Linear(in_features=3072, out_features=768, bias=True)\n",
              "            (LayerNorm): LayerNorm((768,), eps=1e-12, elementwise_affine=True)\n",
              "            (dropout): Dropout(p=0.1, inplace=False)\n",
              "          )\n",
              "        )\n",
              "        (7): BertLayer(\n",
              "          (attention): BertAttention(\n",
              "            (self): BertSelfAttention(\n",
              "              (query): Linear(in_features=768, out_features=768, bias=True)\n",
              "              (key): Linear(in_features=768, out_features=768, bias=True)\n",
              "              (value): Linear(in_features=768, out_features=768, bias=True)\n",
              "              (dropout): Dropout(p=0.1, inplace=False)\n",
              "            )\n",
              "            (output): BertSelfOutput(\n",
              "              (dense): Linear(in_features=768, out_features=768, bias=True)\n",
              "              (LayerNorm): LayerNorm((768,), eps=1e-12, elementwise_affine=True)\n",
              "              (dropout): Dropout(p=0.1, inplace=False)\n",
              "            )\n",
              "          )\n",
              "          (intermediate): BertIntermediate(\n",
              "            (dense): Linear(in_features=768, out_features=3072, bias=True)\n",
              "          )\n",
              "          (output): BertOutput(\n",
              "            (dense): Linear(in_features=3072, out_features=768, bias=True)\n",
              "            (LayerNorm): LayerNorm((768,), eps=1e-12, elementwise_affine=True)\n",
              "            (dropout): Dropout(p=0.1, inplace=False)\n",
              "          )\n",
              "        )\n",
              "        (8): BertLayer(\n",
              "          (attention): BertAttention(\n",
              "            (self): BertSelfAttention(\n",
              "              (query): Linear(in_features=768, out_features=768, bias=True)\n",
              "              (key): Linear(in_features=768, out_features=768, bias=True)\n",
              "              (value): Linear(in_features=768, out_features=768, bias=True)\n",
              "              (dropout): Dropout(p=0.1, inplace=False)\n",
              "            )\n",
              "            (output): BertSelfOutput(\n",
              "              (dense): Linear(in_features=768, out_features=768, bias=True)\n",
              "              (LayerNorm): LayerNorm((768,), eps=1e-12, elementwise_affine=True)\n",
              "              (dropout): Dropout(p=0.1, inplace=False)\n",
              "            )\n",
              "          )\n",
              "          (intermediate): BertIntermediate(\n",
              "            (dense): Linear(in_features=768, out_features=3072, bias=True)\n",
              "          )\n",
              "          (output): BertOutput(\n",
              "            (dense): Linear(in_features=3072, out_features=768, bias=True)\n",
              "            (LayerNorm): LayerNorm((768,), eps=1e-12, elementwise_affine=True)\n",
              "            (dropout): Dropout(p=0.1, inplace=False)\n",
              "          )\n",
              "        )\n",
              "        (9): BertLayer(\n",
              "          (attention): BertAttention(\n",
              "            (self): BertSelfAttention(\n",
              "              (query): Linear(in_features=768, out_features=768, bias=True)\n",
              "              (key): Linear(in_features=768, out_features=768, bias=True)\n",
              "              (value): Linear(in_features=768, out_features=768, bias=True)\n",
              "              (dropout): Dropout(p=0.1, inplace=False)\n",
              "            )\n",
              "            (output): BertSelfOutput(\n",
              "              (dense): Linear(in_features=768, out_features=768, bias=True)\n",
              "              (LayerNorm): LayerNorm((768,), eps=1e-12, elementwise_affine=True)\n",
              "              (dropout): Dropout(p=0.1, inplace=False)\n",
              "            )\n",
              "          )\n",
              "          (intermediate): BertIntermediate(\n",
              "            (dense): Linear(in_features=768, out_features=3072, bias=True)\n",
              "          )\n",
              "          (output): BertOutput(\n",
              "            (dense): Linear(in_features=3072, out_features=768, bias=True)\n",
              "            (LayerNorm): LayerNorm((768,), eps=1e-12, elementwise_affine=True)\n",
              "            (dropout): Dropout(p=0.1, inplace=False)\n",
              "          )\n",
              "        )\n",
              "        (10): BertLayer(\n",
              "          (attention): BertAttention(\n",
              "            (self): BertSelfAttention(\n",
              "              (query): Linear(in_features=768, out_features=768, bias=True)\n",
              "              (key): Linear(in_features=768, out_features=768, bias=True)\n",
              "              (value): Linear(in_features=768, out_features=768, bias=True)\n",
              "              (dropout): Dropout(p=0.1, inplace=False)\n",
              "            )\n",
              "            (output): BertSelfOutput(\n",
              "              (dense): Linear(in_features=768, out_features=768, bias=True)\n",
              "              (LayerNorm): LayerNorm((768,), eps=1e-12, elementwise_affine=True)\n",
              "              (dropout): Dropout(p=0.1, inplace=False)\n",
              "            )\n",
              "          )\n",
              "          (intermediate): BertIntermediate(\n",
              "            (dense): Linear(in_features=768, out_features=3072, bias=True)\n",
              "          )\n",
              "          (output): BertOutput(\n",
              "            (dense): Linear(in_features=3072, out_features=768, bias=True)\n",
              "            (LayerNorm): LayerNorm((768,), eps=1e-12, elementwise_affine=True)\n",
              "            (dropout): Dropout(p=0.1, inplace=False)\n",
              "          )\n",
              "        )\n",
              "        (11): BertLayer(\n",
              "          (attention): BertAttention(\n",
              "            (self): BertSelfAttention(\n",
              "              (query): Linear(in_features=768, out_features=768, bias=True)\n",
              "              (key): Linear(in_features=768, out_features=768, bias=True)\n",
              "              (value): Linear(in_features=768, out_features=768, bias=True)\n",
              "              (dropout): Dropout(p=0.1, inplace=False)\n",
              "            )\n",
              "            (output): BertSelfOutput(\n",
              "              (dense): Linear(in_features=768, out_features=768, bias=True)\n",
              "              (LayerNorm): LayerNorm((768,), eps=1e-12, elementwise_affine=True)\n",
              "              (dropout): Dropout(p=0.1, inplace=False)\n",
              "            )\n",
              "          )\n",
              "          (intermediate): BertIntermediate(\n",
              "            (dense): Linear(in_features=768, out_features=3072, bias=True)\n",
              "          )\n",
              "          (output): BertOutput(\n",
              "            (dense): Linear(in_features=3072, out_features=768, bias=True)\n",
              "            (LayerNorm): LayerNorm((768,), eps=1e-12, elementwise_affine=True)\n",
              "            (dropout): Dropout(p=0.1, inplace=False)\n",
              "          )\n",
              "        )\n",
              "      )\n",
              "    )\n",
              "    (pooler): BertPooler(\n",
              "      (dense): Linear(in_features=768, out_features=768, bias=True)\n",
              "      (activation): Tanh()\n",
              "    )\n",
              "  )\n",
              "  (dropout): Dropout(p=0.1, inplace=False)\n",
              "  (classifier): Linear(in_features=768, out_features=4, bias=True)\n",
              ")"
            ]
          },
          "metadata": {
            "tags": []
          },
          "execution_count": 64
        }
      ]
    },
    {
      "cell_type": "markdown",
      "metadata": {
        "id": "FQzQ5coCdd-J",
        "colab_type": "text"
      },
      "source": [
        "# Inference"
      ]
    },
    {
      "cell_type": "code",
      "metadata": {
        "id": "m7McyPbAd2T4",
        "colab_type": "code",
        "colab": {}
      },
      "source": [
        "df_infer = pd.read_csv(\"Test.csv\")\n",
        "df_infer.set_index(\"Text_ID\", inplace=True)"
      ],
      "execution_count": 68,
      "outputs": []
    },
    {
      "cell_type": "code",
      "metadata": {
        "id": "wGjWj11cd9IG",
        "colab_type": "code",
        "colab": {
          "base_uri": "https://localhost:8080/",
          "height": 235
        },
        "outputId": "bd35425b-7767-4d6b-f580-8cb2badaf41b"
      },
      "source": [
        "df_infer.head()"
      ],
      "execution_count": 69,
      "outputs": [
        {
          "output_type": "execute_result",
          "data": {
            "text/html": [
              "<div>\n",
              "<style scoped>\n",
              "    .dataframe tbody tr th:only-of-type {\n",
              "        vertical-align: middle;\n",
              "    }\n",
              "\n",
              "    .dataframe tbody tr th {\n",
              "        vertical-align: top;\n",
              "    }\n",
              "\n",
              "    .dataframe thead th {\n",
              "        text-align: right;\n",
              "    }\n",
              "</style>\n",
              "<table border=\"1\" class=\"dataframe\">\n",
              "  <thead>\n",
              "    <tr style=\"text-align: right;\">\n",
              "      <th></th>\n",
              "      <th>Product_Description</th>\n",
              "      <th>Product_Type</th>\n",
              "    </tr>\n",
              "    <tr>\n",
              "      <th>Text_ID</th>\n",
              "      <th></th>\n",
              "      <th></th>\n",
              "    </tr>\n",
              "  </thead>\n",
              "  <tbody>\n",
              "    <tr>\n",
              "      <th>5786</th>\n",
              "      <td>RT @mention Going to #SXSW? The new iPhone gui...</td>\n",
              "      <td>7</td>\n",
              "    </tr>\n",
              "    <tr>\n",
              "      <th>5363</th>\n",
              "      <td>RT @mention 95% of iPhone and Droid apps have ...</td>\n",
              "      <td>9</td>\n",
              "    </tr>\n",
              "    <tr>\n",
              "      <th>6716</th>\n",
              "      <td>RT @mention Thank you to @mention for letting ...</td>\n",
              "      <td>9</td>\n",
              "    </tr>\n",
              "    <tr>\n",
              "      <th>4339</th>\n",
              "      <td>#Thanks @mention we're lovin' the @mention app...</td>\n",
              "      <td>7</td>\n",
              "    </tr>\n",
              "    <tr>\n",
              "      <th>66</th>\n",
              "      <td>At #sxsw? @mention / @mention wanna buy you a ...</td>\n",
              "      <td>9</td>\n",
              "    </tr>\n",
              "  </tbody>\n",
              "</table>\n",
              "</div>"
            ],
            "text/plain": [
              "                                       Product_Description  Product_Type\n",
              "Text_ID                                                                 \n",
              "5786     RT @mention Going to #SXSW? The new iPhone gui...             7\n",
              "5363     RT @mention 95% of iPhone and Droid apps have ...             9\n",
              "6716     RT @mention Thank you to @mention for letting ...             9\n",
              "4339     #Thanks @mention we're lovin' the @mention app...             7\n",
              "66       At #sxsw? @mention / @mention wanna buy you a ...             9"
            ]
          },
          "metadata": {
            "tags": []
          },
          "execution_count": 69
        }
      ]
    },
    {
      "cell_type": "code",
      "metadata": {
        "id": "ARsK6e0z5UzJ",
        "colab_type": "code",
        "colab": {
          "base_uri": "https://localhost:8080/",
          "height": 34
        },
        "outputId": "3987ec24-7008-4c98-e177-e38227620547"
      },
      "source": [
        "df_infer.shape"
      ],
      "execution_count": 194,
      "outputs": [
        {
          "output_type": "execute_result",
          "data": {
            "text/plain": [
              "(2728, 2)"
            ]
          },
          "metadata": {
            "tags": []
          },
          "execution_count": 194
        }
      ]
    },
    {
      "cell_type": "code",
      "metadata": {
        "id": "mbtoqV7pnyV7",
        "colab_type": "code",
        "colab": {
          "base_uri": "https://localhost:8080/",
          "height": 238
        },
        "outputId": "31c21d30-e676-4016-dd1b-eb5dc87972a5"
      },
      "source": [
        "df_infer.Product_Description"
      ],
      "execution_count": 91,
      "outputs": [
        {
          "output_type": "execute_result",
          "data": {
            "text/plain": [
              "Text_ID\n",
              "5786    RT @mention Going to #SXSW? The new iPhone gui...\n",
              "5363    RT @mention 95% of iPhone and Droid apps have ...\n",
              "6716    RT @mention Thank you to @mention for letting ...\n",
              "4339    #Thanks @mention we're lovin' the @mention app...\n",
              "66      At #sxsw? @mention / @mention wanna buy you a ...\n",
              "                              ...                        \n",
              "5705    RT @mention eww and LOL. RT @mention Just saw ...\n",
              "7556    Free 22 track #sxsw sampler album on iTunes. #...\n",
              "7302    Setting up for the Google #gsdm  #sxsw party. ...\n",
              "5286    RT @mention #SXSW Come see Bitbop in Austin #g...\n",
              "7047    So many Google products. isn't it time to  tra...\n",
              "Name: Product_Description, Length: 2728, dtype: object"
            ]
          },
          "metadata": {
            "tags": []
          },
          "execution_count": 91
        }
      ]
    },
    {
      "cell_type": "code",
      "metadata": {
        "id": "2rOZevBWdhB5",
        "colab_type": "code",
        "colab": {
          "base_uri": "https://localhost:8080/",
          "height": 88
        },
        "outputId": "7a2d5bc0-fd06-4686-e102-d2b8ecd84f54"
      },
      "source": [
        "encoded_data_infer = tokenizer.batch_encode_plus(\n",
        "    df_infer.Product_Description.values, \n",
        "    add_special_tokens=True, \n",
        "    return_attention_mask=True, \n",
        "    pad_to_max_length=True, \n",
        "    max_length=256, \n",
        "    return_tensors='pt'\n",
        ")"
      ],
      "execution_count": 195,
      "outputs": [
        {
          "output_type": "stream",
          "text": [
            "Truncation was not explicitely activated but `max_length` is provided a specific value, please use `truncation=True` to explicitely truncate examples to max length. Defaulting to 'longest_first' truncation strategy. If you encode pairs of sequences (GLUE-style) with the tokenizer you can select this strategy more precisely by providing a specific strategy to `truncation`.\n",
            "/usr/local/lib/python3.6/dist-packages/transformers/tokenization_utils_base.py:1770: FutureWarning: The `pad_to_max_length` argument is deprecated and will be removed in a future version, use `padding=True` or `padding='longest'` to pad to the longest sequence in the batch, or use `padding='max_length'` to pad to a max length. In this case, you can give a specific length with `max_length` (e.g. `max_length=45`) or leave max_length to None to pad to the maximal input size of the model (e.g. 512 for Bert).\n",
            "  FutureWarning,\n"
          ],
          "name": "stderr"
        }
      ]
    },
    {
      "cell_type": "code",
      "metadata": {
        "id": "L-xI0uz_eYYY",
        "colab_type": "code",
        "colab": {}
      },
      "source": [
        "input_ids_inf = encoded_data_infer['input_ids']\n",
        "attention_masks_inf = encoded_data_infer['attention_mask']\n",
        "#labels_val = torch.tensor(df[df.data_type=='val'].Sentiment.values)"
      ],
      "execution_count": 196,
      "outputs": []
    },
    {
      "cell_type": "code",
      "metadata": {
        "id": "4GvjiOJDfBle",
        "colab_type": "code",
        "colab": {}
      },
      "source": [
        "dataset_inf = TensorDataset(input_ids_inf, attention_masks_inf)"
      ],
      "execution_count": 197,
      "outputs": []
    },
    {
      "cell_type": "code",
      "metadata": {
        "id": "8mgHucTRfEX1",
        "colab_type": "code",
        "colab": {}
      },
      "source": [
        "dataloader_inf = DataLoader(dataset_inf, \n",
        "                                   sampler=SequentialSampler(dataset_inf), \n",
        "                                   batch_size=batch_size)"
      ],
      "execution_count": 198,
      "outputs": []
    },
    {
      "cell_type": "code",
      "metadata": {
        "id": "I4qXvXwG26vs",
        "colab_type": "code",
        "colab": {}
      },
      "source": [
        "# to check the infere -\n",
        "'''\n",
        "for batch in dataloader_validation:\n",
        "        \n",
        "        batch = tuple(b.to(device) for b in batch)\n",
        "        \n",
        "        inputs = {'input_ids':      batch[0],\n",
        "                  'attention_mask': batch[1],\n",
        "                  'labels':         batch[2],\n",
        "                 }\n",
        "\n",
        "        with torch.no_grad():        \n",
        "            outputs = model(**inputs)\n",
        "'''\n",
        "            "
      ],
      "execution_count": 182,
      "outputs": []
    },
    {
      "cell_type": "code",
      "metadata": {
        "id": "RDItrDrc3YrA",
        "colab_type": "code",
        "colab": {
          "base_uri": "https://localhost:8080/",
          "height": 476
        },
        "outputId": "f6bdc09d-c579-4c37-dca7-3acd44c5206d"
      },
      "source": [
        "outputs"
      ],
      "execution_count": 183,
      "outputs": [
        {
          "output_type": "execute_result",
          "data": {
            "text/plain": [
              "(tensor(1.2956, device='cuda:0'), tensor([[-1.7272, -2.4389,  1.4464,  3.1177],\n",
              "         [-1.7102, -1.6756,  3.0056, -0.6153],\n",
              "         [-1.2166, -1.6393, -0.1042,  3.6617],\n",
              "         [-0.8531, -0.2940,  2.1861, -1.6407],\n",
              "         [-1.4026, -1.2600,  2.5940, -1.4467],\n",
              "         [-1.2078, -1.4049,  2.4812, -0.5820],\n",
              "         [-1.2861, -0.5599, -0.0201,  2.6236],\n",
              "         [-2.1996, -1.7122,  1.3483,  1.3861],\n",
              "         [-0.7546, -1.1481, -0.9170,  3.7375],\n",
              "         [-1.8484, -2.4207,  3.7079, -0.4236],\n",
              "         [-1.2453, -2.0495,  2.3225,  2.1280],\n",
              "         [-1.8706, -2.5760,  3.4178,  1.5196],\n",
              "         [-0.5785,  1.3717,  0.6026, -1.8252],\n",
              "         [-1.0261, -0.7825,  2.8912, -2.2829],\n",
              "         [-1.9756, -2.5297,  3.2120,  1.1635],\n",
              "         [-2.1066, -2.6180,  2.4288,  1.1728],\n",
              "         [-1.3901, -1.1649,  2.9694, -1.8766],\n",
              "         [-0.5405, -1.2300, -1.1709,  3.7606],\n",
              "         [-0.8982, -0.1106, -0.5827,  2.0463],\n",
              "         [-0.9395, -1.5990, -0.4378,  3.7011],\n",
              "         [-1.3397, -1.4029,  3.2552, -1.3428],\n",
              "         [-0.8264, -0.4234, -0.8889,  2.8999],\n",
              "         [-0.2099,  2.1066, -0.9682, -1.0488],\n",
              "         [-2.1097, -2.4947,  2.5112,  1.4760],\n",
              "         [-1.7220, -1.8906,  3.0976, -0.4756],\n",
              "         [-2.2621, -2.6662,  2.0911,  1.7684],\n",
              "         [-1.6994, -1.9175,  3.4386, -0.9600]], device='cuda:0'))"
            ]
          },
          "metadata": {
            "tags": []
          },
          "execution_count": 183
        }
      ]
    },
    {
      "cell_type": "code",
      "metadata": {
        "id": "30csOfEF29Bf",
        "colab_type": "code",
        "colab": {}
      },
      "source": [
        ""
      ],
      "execution_count": null,
      "outputs": []
    },
    {
      "cell_type": "code",
      "metadata": {
        "id": "dqdPj6mmb8S-",
        "colab_type": "code",
        "colab": {}
      },
      "source": [
        "def infer(dataloader_inf):\n",
        "\n",
        "    model.eval()\n",
        "    \n",
        "    loss_val_total = 0\n",
        "    predictions = []\n",
        "    \n",
        "    for batch in dataloader_inf:\n",
        "        \n",
        "        batch = tuple(b.to(device) for b in batch)\n",
        "        \n",
        "        inputs = {'input_ids':      batch[0],\n",
        "                  'attention_mask': batch[1],      \n",
        "                  'labels' :None,           \n",
        "                 }\n",
        "\n",
        "        with torch.no_grad():        \n",
        "            outputs = model(**inputs)\n",
        "            \n",
        "        #loss = outputs[0]\n",
        "        logits = outputs[0]\n",
        "        #loss_val_total += loss.item()\n",
        "\n",
        "        logits = logits.detach().cpu().numpy()\n",
        "        #label_ids = inputs['labels'].cpu().numpy()\n",
        "        predictions.append(logits)\n",
        "        #true_vals.append(label_ids)\n",
        "    \n",
        "    #loss_val_avg = loss_val_total/len(dataloader_val) \n",
        "    \n",
        "    predictions = np.concatenate(predictions, axis=0)\n",
        "    #true_vals = np.concatenate(true_vals, axis=0)\n",
        "            \n",
        "    return predictions"
      ],
      "execution_count": 186,
      "outputs": []
    },
    {
      "cell_type": "code",
      "metadata": {
        "id": "Est8YP5Up0Pb",
        "colab_type": "code",
        "colab": {}
      },
      "source": [
        "prds = infer(dataloader_inf)"
      ],
      "execution_count": 199,
      "outputs": []
    },
    {
      "cell_type": "code",
      "metadata": {
        "id": "SN_Ivnza4P0T",
        "colab_type": "code",
        "colab": {
          "base_uri": "https://localhost:8080/",
          "height": 153
        },
        "outputId": "b21f0aa0-d130-4008-b4ae-ce94b49e6ffb"
      },
      "source": [
        "prds"
      ],
      "execution_count": 200,
      "outputs": [
        {
          "output_type": "execute_result",
          "data": {
            "text/plain": [
              "array([[-1.8178201 , -2.3899753 ,  1.4717472 ,  3.1546328 ],\n",
              "       [-0.39357972,  2.0907583 , -0.30460644, -1.6036015 ],\n",
              "       [-2.2310119 , -1.8959662 ,  1.8798711 ,  2.6908827 ],\n",
              "       ...,\n",
              "       [-2.0794573 , -2.7258637 ,  2.8214118 ,  0.6853338 ],\n",
              "       [-1.476132  , -1.8144056 ,  3.6256964 , -1.4940987 ],\n",
              "       [-1.5218972 , -1.3372592 ,  3.4206662 , -1.3072776 ]],\n",
              "      dtype=float32)"
            ]
          },
          "metadata": {
            "tags": []
          },
          "execution_count": 200
        }
      ]
    },
    {
      "cell_type": "code",
      "metadata": {
        "id": "9hHrGFuJ8oQe",
        "colab_type": "code",
        "colab": {}
      },
      "source": [
        "from scipy.special import softmax\n",
        "\n",
        "probabilities = softmax(prds, axis=1)"
      ],
      "execution_count": 212,
      "outputs": []
    },
    {
      "cell_type": "code",
      "metadata": {
        "id": "CKV1dyII8reD",
        "colab_type": "code",
        "colab": {
          "base_uri": "https://localhost:8080/",
          "height": 136
        },
        "outputId": "4bd612b4-6d17-40e2-8f68-715c1777af20"
      },
      "source": [
        "probabilities"
      ],
      "execution_count": 213,
      "outputs": [
        {
          "output_type": "execute_result",
          "data": {
            "text/plain": [
              "array([[0.00578784, 0.00326612, 0.15529487, 0.8356512 ],\n",
              "       [0.06951965, 0.83376163, 0.07598855, 0.02073012],\n",
              "       [0.00498353, 0.00696699, 0.30399808, 0.6840513 ],\n",
              "       ...,\n",
              "       [0.00658734, 0.00345128, 0.8853825 , 0.10457888],\n",
              "       [0.0059874 , 0.00426902, 0.9838629 , 0.00588079],\n",
              "       [0.00696519, 0.00837761, 0.9760246 , 0.00863259]], dtype=float32)"
            ]
          },
          "metadata": {
            "tags": []
          },
          "execution_count": 213
        }
      ]
    },
    {
      "cell_type": "code",
      "metadata": {
        "id": "XgKXqnU1AfEL",
        "colab_type": "code",
        "colab": {}
      },
      "source": [
        "def get_pred(x):\n",
        "    if x >= 0.5:\n",
        "        return 1\n",
        "    return 0\n",
        "\n",
        "predictions_prob = [[get_pred(probabilities) for probabilities in row] for row in probabilities]"
      ],
      "execution_count": 220,
      "outputs": []
    },
    {
      "cell_type": "code",
      "metadata": {
        "id": "GkeKQkyhAq2E",
        "colab_type": "code",
        "colab": {
          "base_uri": "https://localhost:8080/",
          "height": 1000
        },
        "outputId": "957d4b02-4429-44fd-b74b-0f8d8ac12c35"
      },
      "source": [
        "predictions_prob"
      ],
      "execution_count": 221,
      "outputs": [
        {
          "output_type": "execute_result",
          "data": {
            "text/plain": [
              "[[0, 0, 0, 1],\n",
              " [0, 1, 0, 0],\n",
              " [0, 0, 0, 1],\n",
              " [0, 0, 0, 1],\n",
              " [0, 0, 1, 0],\n",
              " [0, 0, 0, 1],\n",
              " [0, 0, 1, 0],\n",
              " [0, 0, 1, 0],\n",
              " [0, 0, 1, 0],\n",
              " [0, 0, 1, 0],\n",
              " [0, 0, 0, 0],\n",
              " [0, 0, 0, 1],\n",
              " [0, 1, 0, 0],\n",
              " [0, 0, 0, 1],\n",
              " [0, 0, 0, 1],\n",
              " [0, 0, 1, 0],\n",
              " [0, 0, 1, 0],\n",
              " [0, 1, 0, 0],\n",
              " [0, 1, 0, 0],\n",
              " [0, 0, 1, 0],\n",
              " [0, 0, 1, 0],\n",
              " [0, 0, 1, 0],\n",
              " [0, 0, 0, 1],\n",
              " [0, 0, 0, 1],\n",
              " [0, 0, 0, 1],\n",
              " [0, 0, 1, 0],\n",
              " [0, 0, 1, 0],\n",
              " [0, 0, 1, 0],\n",
              " [0, 0, 0, 1],\n",
              " [0, 0, 0, 1],\n",
              " [0, 0, 1, 0],\n",
              " [0, 0, 1, 0],\n",
              " [0, 0, 0, 1],\n",
              " [0, 0, 0, 1],\n",
              " [0, 0, 1, 0],\n",
              " [0, 0, 0, 1],\n",
              " [0, 0, 0, 1],\n",
              " [0, 1, 0, 0],\n",
              " [0, 0, 0, 1],\n",
              " [0, 0, 0, 1],\n",
              " [0, 0, 0, 0],\n",
              " [0, 0, 0, 1],\n",
              " [0, 0, 1, 0],\n",
              " [0, 0, 1, 0],\n",
              " [0, 0, 1, 0],\n",
              " [0, 0, 1, 0],\n",
              " [0, 0, 0, 1],\n",
              " [0, 0, 1, 0],\n",
              " [0, 0, 0, 1],\n",
              " [0, 0, 1, 0],\n",
              " [0, 0, 1, 0],\n",
              " [0, 0, 1, 0],\n",
              " [0, 0, 1, 0],\n",
              " [0, 0, 0, 1],\n",
              " [0, 0, 1, 0],\n",
              " [0, 0, 0, 0],\n",
              " [0, 0, 1, 0],\n",
              " [0, 0, 1, 0],\n",
              " [0, 0, 1, 0],\n",
              " [0, 0, 1, 0],\n",
              " [0, 0, 1, 0],\n",
              " [0, 0, 1, 0],\n",
              " [0, 0, 0, 1],\n",
              " [0, 0, 1, 0],\n",
              " [0, 0, 0, 1],\n",
              " [0, 0, 1, 0],\n",
              " [0, 0, 1, 0],\n",
              " [0, 1, 0, 0],\n",
              " [0, 0, 1, 0],\n",
              " [0, 0, 1, 0],\n",
              " [0, 0, 0, 1],\n",
              " [0, 0, 0, 1],\n",
              " [0, 0, 1, 0],\n",
              " [0, 0, 1, 0],\n",
              " [0, 0, 1, 0],\n",
              " [0, 0, 1, 0],\n",
              " [0, 0, 0, 1],\n",
              " [0, 0, 1, 0],\n",
              " [0, 0, 1, 0],\n",
              " [0, 0, 1, 0],\n",
              " [0, 0, 1, 0],\n",
              " [0, 0, 1, 0],\n",
              " [0, 1, 0, 0],\n",
              " [0, 0, 1, 0],\n",
              " [0, 0, 1, 0],\n",
              " [0, 0, 0, 1],\n",
              " [0, 0, 1, 0],\n",
              " [0, 0, 1, 0],\n",
              " [0, 0, 1, 0],\n",
              " [0, 0, 1, 0],\n",
              " [0, 0, 1, 0],\n",
              " [0, 0, 1, 0],\n",
              " [0, 0, 1, 0],\n",
              " [0, 1, 0, 0],\n",
              " [0, 0, 0, 1],\n",
              " [0, 0, 1, 0],\n",
              " [0, 0, 0, 1],\n",
              " [0, 1, 0, 0],\n",
              " [0, 0, 1, 0],\n",
              " [0, 0, 0, 1],\n",
              " [0, 0, 0, 1],\n",
              " [0, 0, 1, 0],\n",
              " [0, 0, 1, 0],\n",
              " [0, 0, 0, 1],\n",
              " [0, 0, 0, 1],\n",
              " [0, 0, 1, 0],\n",
              " [0, 0, 0, 1],\n",
              " [0, 0, 0, 1],\n",
              " [0, 0, 0, 1],\n",
              " [0, 0, 0, 1],\n",
              " [0, 0, 0, 1],\n",
              " [0, 0, 0, 1],\n",
              " [0, 0, 1, 0],\n",
              " [0, 0, 1, 0],\n",
              " [0, 0, 0, 0],\n",
              " [0, 0, 0, 1],\n",
              " [0, 0, 1, 0],\n",
              " [0, 0, 1, 0],\n",
              " [0, 0, 0, 1],\n",
              " [0, 0, 1, 0],\n",
              " [0, 0, 1, 0],\n",
              " [0, 0, 1, 0],\n",
              " [0, 0, 1, 0],\n",
              " [0, 0, 0, 1],\n",
              " [0, 0, 1, 0],\n",
              " [0, 0, 0, 1],\n",
              " [0, 0, 0, 1],\n",
              " [0, 1, 0, 0],\n",
              " [0, 1, 0, 0],\n",
              " [0, 0, 1, 0],\n",
              " [0, 0, 1, 0],\n",
              " [0, 0, 0, 1],\n",
              " [0, 0, 1, 0],\n",
              " [0, 1, 0, 0],\n",
              " [0, 0, 1, 0],\n",
              " [0, 1, 0, 0],\n",
              " [0, 0, 0, 1],\n",
              " [0, 0, 1, 0],\n",
              " [0, 0, 0, 1],\n",
              " [0, 0, 0, 1],\n",
              " [0, 0, 1, 0],\n",
              " [0, 0, 0, 1],\n",
              " [0, 0, 1, 0],\n",
              " [0, 0, 1, 0],\n",
              " [0, 0, 1, 0],\n",
              " [0, 0, 1, 0],\n",
              " [0, 0, 0, 1],\n",
              " [0, 0, 1, 0],\n",
              " [0, 0, 0, 1],\n",
              " [0, 0, 1, 0],\n",
              " [0, 0, 1, 0],\n",
              " [0, 0, 1, 0],\n",
              " [0, 0, 0, 1],\n",
              " [0, 0, 1, 0],\n",
              " [0, 0, 1, 0],\n",
              " [0, 1, 0, 0],\n",
              " [0, 1, 0, 0],\n",
              " [0, 0, 1, 0],\n",
              " [0, 0, 1, 0],\n",
              " [0, 0, 0, 1],\n",
              " [0, 0, 0, 1],\n",
              " [0, 0, 0, 1],\n",
              " [0, 0, 0, 1],\n",
              " [0, 0, 0, 1],\n",
              " [0, 0, 1, 0],\n",
              " [0, 0, 1, 0],\n",
              " [0, 0, 0, 1],\n",
              " [0, 0, 1, 0],\n",
              " [0, 0, 1, 0],\n",
              " [0, 0, 1, 0],\n",
              " [0, 0, 1, 0],\n",
              " [0, 0, 1, 0],\n",
              " [0, 0, 1, 0],\n",
              " [0, 0, 0, 1],\n",
              " [0, 0, 1, 0],\n",
              " [0, 0, 0, 1],\n",
              " [0, 1, 0, 0],\n",
              " [0, 0, 1, 0],\n",
              " [0, 0, 0, 1],\n",
              " [0, 0, 1, 0],\n",
              " [0, 0, 0, 1],\n",
              " [0, 0, 1, 0],\n",
              " [0, 0, 0, 0],\n",
              " [0, 0, 1, 0],\n",
              " [0, 0, 1, 0],\n",
              " [0, 0, 0, 1],\n",
              " [0, 0, 1, 0],\n",
              " [0, 0, 1, 0],\n",
              " [0, 0, 1, 0],\n",
              " [0, 0, 0, 1],\n",
              " [0, 0, 1, 0],\n",
              " [0, 1, 0, 0],\n",
              " [0, 0, 1, 0],\n",
              " [0, 0, 1, 0],\n",
              " [0, 0, 1, 0],\n",
              " [0, 0, 0, 1],\n",
              " [0, 0, 0, 1],\n",
              " [0, 0, 0, 1],\n",
              " [0, 0, 0, 1],\n",
              " [0, 0, 1, 0],\n",
              " [0, 0, 0, 1],\n",
              " [0, 0, 1, 0],\n",
              " [0, 1, 0, 0],\n",
              " [0, 0, 1, 0],\n",
              " [0, 0, 1, 0],\n",
              " [0, 1, 0, 0],\n",
              " [0, 0, 0, 1],\n",
              " [0, 0, 0, 1],\n",
              " [0, 0, 1, 0],\n",
              " [0, 1, 0, 0],\n",
              " [0, 0, 1, 0],\n",
              " [0, 1, 0, 0],\n",
              " [0, 0, 1, 0],\n",
              " [0, 0, 0, 1],\n",
              " [0, 0, 1, 0],\n",
              " [0, 0, 0, 1],\n",
              " [0, 0, 1, 0],\n",
              " [0, 0, 0, 1],\n",
              " [0, 0, 0, 1],\n",
              " [0, 0, 0, 1],\n",
              " [0, 0, 1, 0],\n",
              " [0, 0, 1, 0],\n",
              " [0, 0, 1, 0],\n",
              " [0, 0, 1, 0],\n",
              " [0, 0, 0, 1],\n",
              " [0, 0, 1, 0],\n",
              " [0, 0, 0, 0],\n",
              " [0, 0, 1, 0],\n",
              " [0, 0, 0, 1],\n",
              " [0, 0, 0, 1],\n",
              " [0, 0, 0, 1],\n",
              " [0, 0, 1, 0],\n",
              " [0, 0, 0, 1],\n",
              " [0, 0, 1, 0],\n",
              " [0, 0, 0, 1],\n",
              " [0, 0, 0, 1],\n",
              " [0, 0, 0, 1],\n",
              " [0, 0, 0, 1],\n",
              " [0, 0, 0, 1],\n",
              " [0, 0, 1, 0],\n",
              " [0, 0, 0, 1],\n",
              " [0, 0, 1, 0],\n",
              " [0, 0, 0, 1],\n",
              " [0, 0, 0, 1],\n",
              " [0, 0, 1, 0],\n",
              " [0, 0, 1, 0],\n",
              " [0, 0, 1, 0],\n",
              " [0, 0, 0, 1],\n",
              " [0, 0, 1, 0],\n",
              " [0, 0, 0, 1],\n",
              " [0, 0, 1, 0],\n",
              " [0, 1, 0, 0],\n",
              " [0, 0, 1, 0],\n",
              " [0, 0, 0, 1],\n",
              " [0, 0, 1, 0],\n",
              " [0, 0, 1, 0],\n",
              " [0, 0, 1, 0],\n",
              " [0, 0, 1, 0],\n",
              " [0, 0, 0, 1],\n",
              " [0, 0, 0, 1],\n",
              " [0, 0, 1, 0],\n",
              " [0, 0, 0, 1],\n",
              " [0, 0, 0, 1],\n",
              " [0, 0, 0, 1],\n",
              " [0, 0, 1, 0],\n",
              " [0, 0, 0, 1],\n",
              " [0, 0, 0, 1],\n",
              " [0, 0, 1, 0],\n",
              " [0, 0, 1, 0],\n",
              " [0, 0, 0, 1],\n",
              " [0, 0, 0, 1],\n",
              " [0, 1, 0, 0],\n",
              " [0, 0, 1, 0],\n",
              " [0, 0, 1, 0],\n",
              " [0, 0, 1, 0],\n",
              " [0, 0, 1, 0],\n",
              " [0, 0, 0, 1],\n",
              " [0, 0, 0, 1],\n",
              " [0, 0, 1, 0],\n",
              " [0, 0, 1, 0],\n",
              " [0, 0, 1, 0],\n",
              " [0, 0, 1, 0],\n",
              " [0, 0, 1, 0],\n",
              " [0, 0, 1, 0],\n",
              " [0, 0, 1, 0],\n",
              " [0, 0, 1, 0],\n",
              " [0, 0, 0, 1],\n",
              " [0, 0, 0, 1],\n",
              " [0, 0, 1, 0],\n",
              " [0, 0, 1, 0],\n",
              " [0, 0, 0, 1],\n",
              " [0, 0, 1, 0],\n",
              " [0, 0, 1, 0],\n",
              " [0, 0, 1, 0],\n",
              " [0, 0, 1, 0],\n",
              " [0, 0, 0, 1],\n",
              " [0, 0, 0, 1],\n",
              " [0, 0, 1, 0],\n",
              " [0, 1, 0, 0],\n",
              " [0, 0, 1, 0],\n",
              " [0, 0, 0, 1],\n",
              " [0, 0, 0, 1],\n",
              " [0, 0, 0, 1],\n",
              " [0, 0, 1, 0],\n",
              " [0, 0, 0, 0],\n",
              " [0, 0, 1, 0],\n",
              " [0, 0, 1, 0],\n",
              " [0, 1, 0, 0],\n",
              " [0, 0, 0, 0],\n",
              " [0, 0, 0, 1],\n",
              " [0, 0, 1, 0],\n",
              " [0, 0, 0, 1],\n",
              " [0, 0, 0, 1],\n",
              " [0, 0, 1, 0],\n",
              " [0, 0, 0, 1],\n",
              " [0, 0, 1, 0],\n",
              " [0, 0, 0, 1],\n",
              " [0, 0, 1, 0],\n",
              " [0, 0, 1, 0],\n",
              " [0, 0, 1, 0],\n",
              " [0, 0, 0, 1],\n",
              " [0, 0, 1, 0],\n",
              " [0, 1, 0, 0],\n",
              " [0, 0, 1, 0],\n",
              " [0, 0, 1, 0],\n",
              " [0, 0, 1, 0],\n",
              " [0, 0, 0, 1],\n",
              " [0, 0, 0, 1],\n",
              " [0, 0, 1, 0],\n",
              " [0, 0, 1, 0],\n",
              " [0, 0, 1, 0],\n",
              " [0, 0, 1, 0],\n",
              " [0, 0, 1, 0],\n",
              " [0, 0, 1, 0],\n",
              " [0, 0, 1, 0],\n",
              " [0, 0, 1, 0],\n",
              " [0, 0, 1, 0],\n",
              " [0, 0, 0, 1],\n",
              " [0, 0, 1, 0],\n",
              " [0, 0, 0, 1],\n",
              " [0, 0, 0, 1],\n",
              " [0, 0, 1, 0],\n",
              " [0, 0, 1, 0],\n",
              " [0, 0, 0, 1],\n",
              " [0, 0, 1, 0],\n",
              " [0, 0, 1, 0],\n",
              " [0, 0, 0, 1],\n",
              " [0, 0, 1, 0],\n",
              " [0, 0, 1, 0],\n",
              " [0, 0, 0, 1],\n",
              " [0, 0, 1, 0],\n",
              " [0, 0, 1, 0],\n",
              " [0, 0, 1, 0],\n",
              " [0, 0, 0, 1],\n",
              " [0, 0, 0, 1],\n",
              " [0, 0, 1, 0],\n",
              " [0, 0, 1, 0],\n",
              " [0, 0, 0, 1],\n",
              " [0, 0, 1, 0],\n",
              " [0, 0, 0, 1],\n",
              " [0, 0, 1, 0],\n",
              " [0, 0, 1, 0],\n",
              " [0, 0, 1, 0],\n",
              " [0, 0, 1, 0],\n",
              " [0, 0, 0, 1],\n",
              " [0, 0, 1, 0],\n",
              " [0, 0, 1, 0],\n",
              " [0, 0, 1, 0],\n",
              " [0, 0, 1, 0],\n",
              " [0, 0, 0, 1],\n",
              " [0, 0, 1, 0],\n",
              " [0, 0, 0, 1],\n",
              " [0, 0, 1, 0],\n",
              " [0, 0, 1, 0],\n",
              " [0, 0, 1, 0],\n",
              " [0, 0, 1, 0],\n",
              " [0, 0, 1, 0],\n",
              " [0, 0, 1, 0],\n",
              " [0, 0, 0, 1],\n",
              " [0, 1, 0, 0],\n",
              " [0, 0, 0, 1],\n",
              " [0, 0, 0, 1],\n",
              " [0, 0, 1, 0],\n",
              " [0, 0, 1, 0],\n",
              " [0, 0, 1, 0],\n",
              " [0, 0, 1, 0],\n",
              " [0, 0, 1, 0],\n",
              " [0, 0, 0, 1],\n",
              " [0, 0, 1, 0],\n",
              " [0, 0, 0, 0],\n",
              " [0, 0, 1, 0],\n",
              " [0, 0, 0, 1],\n",
              " [0, 0, 0, 1],\n",
              " [0, 0, 1, 0],\n",
              " [0, 0, 0, 1],\n",
              " [0, 0, 1, 0],\n",
              " [0, 0, 1, 0],\n",
              " [0, 0, 1, 0],\n",
              " [0, 0, 0, 1],\n",
              " [0, 0, 1, 0],\n",
              " [0, 0, 1, 0],\n",
              " [0, 0, 1, 0],\n",
              " [0, 0, 0, 1],\n",
              " [0, 0, 1, 0],\n",
              " [0, 0, 1, 0],\n",
              " [0, 0, 1, 0],\n",
              " [0, 0, 1, 0],\n",
              " [0, 0, 1, 0],\n",
              " [0, 0, 0, 1],\n",
              " [0, 0, 1, 0],\n",
              " [0, 0, 1, 0],\n",
              " [0, 0, 0, 1],\n",
              " [0, 0, 1, 0],\n",
              " [0, 0, 1, 0],\n",
              " [0, 0, 0, 1],\n",
              " [0, 0, 1, 0],\n",
              " [0, 0, 0, 1],\n",
              " [0, 1, 0, 0],\n",
              " [0, 0, 1, 0],\n",
              " [0, 0, 0, 1],\n",
              " [0, 0, 1, 0],\n",
              " [0, 0, 1, 0],\n",
              " [0, 0, 0, 1],\n",
              " [0, 0, 1, 0],\n",
              " [0, 1, 0, 0],\n",
              " [0, 0, 0, 1],\n",
              " [0, 0, 0, 1],\n",
              " [0, 0, 1, 0],\n",
              " [0, 0, 1, 0],\n",
              " [0, 0, 1, 0],\n",
              " [0, 0, 0, 1],\n",
              " [0, 0, 0, 1],\n",
              " [0, 0, 0, 1],\n",
              " [0, 0, 1, 0],\n",
              " [0, 0, 1, 0],\n",
              " [0, 0, 1, 0],\n",
              " [0, 0, 1, 0],\n",
              " [0, 0, 1, 0],\n",
              " [0, 0, 0, 1],\n",
              " [0, 0, 1, 0],\n",
              " [0, 0, 0, 1],\n",
              " [0, 0, 1, 0],\n",
              " [0, 0, 1, 0],\n",
              " [0, 0, 0, 1],\n",
              " [0, 0, 0, 1],\n",
              " [0, 0, 0, 1],\n",
              " [0, 0, 1, 0],\n",
              " [0, 0, 1, 0],\n",
              " [0, 0, 1, 0],\n",
              " [0, 0, 1, 0],\n",
              " [0, 0, 0, 1],\n",
              " [0, 0, 0, 1],\n",
              " [0, 0, 0, 1],\n",
              " [0, 0, 1, 0],\n",
              " [0, 0, 0, 1],\n",
              " [0, 0, 0, 1],\n",
              " [0, 0, 1, 0],\n",
              " [0, 0, 1, 0],\n",
              " [0, 0, 0, 1],\n",
              " [0, 0, 1, 0],\n",
              " [0, 0, 1, 0],\n",
              " [0, 0, 1, 0],\n",
              " [0, 0, 0, 1],\n",
              " [0, 0, 0, 1],\n",
              " [0, 0, 1, 0],\n",
              " [0, 0, 1, 0],\n",
              " [0, 0, 1, 0],\n",
              " [0, 0, 1, 0],\n",
              " [0, 0, 0, 0],\n",
              " [0, 0, 1, 0],\n",
              " [0, 0, 1, 0],\n",
              " [0, 0, 1, 0],\n",
              " [0, 0, 1, 0],\n",
              " [0, 1, 0, 0],\n",
              " [0, 0, 0, 0],\n",
              " [0, 0, 1, 0],\n",
              " [0, 0, 1, 0],\n",
              " [0, 0, 1, 0],\n",
              " [0, 0, 1, 0],\n",
              " [0, 0, 1, 0],\n",
              " [0, 0, 1, 0],\n",
              " [0, 0, 0, 1],\n",
              " [0, 0, 1, 0],\n",
              " [0, 0, 1, 0],\n",
              " [0, 0, 0, 1],\n",
              " [0, 0, 0, 1],\n",
              " [0, 0, 1, 0],\n",
              " [0, 0, 0, 1],\n",
              " [0, 0, 1, 0],\n",
              " [0, 0, 1, 0],\n",
              " [0, 0, 0, 1],\n",
              " [0, 0, 1, 0],\n",
              " [0, 0, 1, 0],\n",
              " [0, 0, 0, 1],\n",
              " [0, 1, 0, 0],\n",
              " [0, 0, 1, 0],\n",
              " [0, 0, 1, 0],\n",
              " [0, 0, 1, 0],\n",
              " [0, 0, 1, 0],\n",
              " [0, 0, 1, 0],\n",
              " [0, 0, 0, 1],\n",
              " [0, 0, 1, 0],\n",
              " [0, 0, 1, 0],\n",
              " [0, 0, 1, 0],\n",
              " [0, 0, 1, 0],\n",
              " [0, 0, 1, 0],\n",
              " [0, 0, 0, 1],\n",
              " [0, 0, 1, 0],\n",
              " [0, 0, 1, 0],\n",
              " [0, 0, 1, 0],\n",
              " [0, 0, 0, 0],\n",
              " [0, 0, 0, 1],\n",
              " [0, 0, 0, 1],\n",
              " [0, 0, 1, 0],\n",
              " [0, 0, 0, 1],\n",
              " [0, 0, 1, 0],\n",
              " [0, 0, 1, 0],\n",
              " [0, 0, 1, 0],\n",
              " [0, 0, 0, 1],\n",
              " [0, 0, 0, 1],\n",
              " [0, 0, 1, 0],\n",
              " [0, 0, 0, 1],\n",
              " [0, 0, 0, 1],\n",
              " [0, 0, 1, 0],\n",
              " [0, 0, 1, 0],\n",
              " [0, 0, 1, 0],\n",
              " [0, 1, 0, 0],\n",
              " [0, 0, 0, 1],\n",
              " [0, 0, 1, 0],\n",
              " [0, 0, 0, 1],\n",
              " [0, 0, 1, 0],\n",
              " [0, 0, 0, 1],\n",
              " [0, 0, 1, 0],\n",
              " [0, 0, 0, 1],\n",
              " [0, 1, 0, 0],\n",
              " [0, 0, 1, 0],\n",
              " [0, 0, 0, 1],\n",
              " [0, 0, 1, 0],\n",
              " [0, 0, 0, 1],\n",
              " [0, 0, 0, 1],\n",
              " [0, 0, 0, 1],\n",
              " [0, 0, 1, 0],\n",
              " [0, 0, 1, 0],\n",
              " [0, 0, 1, 0],\n",
              " [0, 0, 0, 1],\n",
              " [0, 0, 0, 0],\n",
              " [0, 0, 0, 1],\n",
              " [0, 0, 1, 0],\n",
              " [0, 0, 0, 1],\n",
              " [0, 0, 1, 0],\n",
              " [0, 0, 0, 1],\n",
              " [0, 0, 1, 0],\n",
              " [0, 0, 1, 0],\n",
              " [0, 0, 1, 0],\n",
              " [0, 0, 1, 0],\n",
              " [0, 1, 0, 0],\n",
              " [0, 0, 0, 1],\n",
              " [0, 0, 1, 0],\n",
              " [0, 0, 0, 1],\n",
              " [0, 0, 0, 1],\n",
              " [0, 0, 0, 1],\n",
              " [0, 0, 0, 1],\n",
              " [0, 0, 1, 0],\n",
              " [0, 0, 0, 1],\n",
              " [0, 0, 1, 0],\n",
              " [0, 0, 1, 0],\n",
              " [0, 0, 1, 0],\n",
              " [0, 0, 0, 1],\n",
              " [0, 0, 1, 0],\n",
              " [0, 0, 1, 0],\n",
              " [0, 0, 1, 0],\n",
              " [0, 0, 0, 1],\n",
              " [0, 0, 1, 0],\n",
              " [0, 0, 0, 1],\n",
              " [0, 0, 1, 0],\n",
              " [0, 0, 0, 1],\n",
              " [0, 0, 1, 0],\n",
              " [0, 0, 1, 0],\n",
              " [0, 1, 0, 0],\n",
              " [0, 0, 1, 0],\n",
              " [0, 0, 1, 0],\n",
              " [0, 0, 1, 0],\n",
              " [0, 0, 0, 1],\n",
              " [0, 0, 1, 0],\n",
              " [0, 0, 1, 0],\n",
              " [0, 0, 1, 0],\n",
              " [0, 0, 1, 0],\n",
              " [0, 0, 1, 0],\n",
              " [0, 0, 0, 1],\n",
              " [0, 0, 1, 0],\n",
              " [0, 1, 0, 0],\n",
              " [0, 0, 1, 0],\n",
              " [0, 1, 0, 0],\n",
              " [0, 0, 1, 0],\n",
              " [0, 0, 1, 0],\n",
              " [0, 0, 0, 1],\n",
              " [0, 0, 1, 0],\n",
              " [0, 0, 1, 0],\n",
              " [0, 0, 1, 0],\n",
              " [0, 1, 0, 0],\n",
              " [0, 1, 0, 0],\n",
              " [0, 0, 0, 1],\n",
              " [0, 0, 1, 0],\n",
              " [0, 0, 1, 0],\n",
              " [0, 0, 1, 0],\n",
              " [0, 0, 0, 1],\n",
              " [0, 0, 1, 0],\n",
              " [0, 0, 1, 0],\n",
              " [0, 0, 0, 1],\n",
              " [0, 0, 1, 0],\n",
              " [0, 0, 0, 1],\n",
              " [0, 0, 1, 0],\n",
              " [0, 0, 0, 1],\n",
              " [0, 0, 1, 0],\n",
              " [0, 0, 1, 0],\n",
              " [0, 0, 0, 1],\n",
              " [0, 0, 1, 0],\n",
              " [0, 0, 1, 0],\n",
              " [0, 0, 0, 1],\n",
              " [0, 0, 1, 0],\n",
              " [0, 0, 1, 0],\n",
              " [0, 0, 0, 1],\n",
              " [0, 0, 1, 0],\n",
              " [0, 0, 1, 0],\n",
              " [0, 0, 1, 0],\n",
              " [0, 0, 1, 0],\n",
              " [0, 0, 0, 1],\n",
              " [0, 0, 1, 0],\n",
              " [0, 0, 1, 0],\n",
              " [0, 0, 1, 0],\n",
              " [0, 0, 0, 1],\n",
              " [0, 0, 1, 0],\n",
              " [0, 0, 0, 1],\n",
              " [0, 0, 1, 0],\n",
              " [0, 0, 1, 0],\n",
              " [0, 0, 0, 1],\n",
              " [0, 0, 1, 0],\n",
              " [0, 0, 1, 0],\n",
              " [0, 0, 1, 0],\n",
              " [0, 0, 1, 0],\n",
              " [0, 0, 1, 0],\n",
              " [0, 0, 1, 0],\n",
              " [0, 0, 1, 0],\n",
              " [0, 0, 0, 1],\n",
              " [0, 0, 1, 0],\n",
              " [0, 0, 1, 0],\n",
              " [0, 0, 0, 1],\n",
              " [0, 0, 0, 0],\n",
              " [0, 0, 1, 0],\n",
              " [0, 0, 1, 0],\n",
              " [0, 1, 0, 0],\n",
              " [0, 0, 0, 1],\n",
              " [0, 0, 1, 0],\n",
              " [0, 0, 1, 0],\n",
              " [0, 0, 0, 1],\n",
              " [0, 0, 1, 0],\n",
              " [0, 1, 0, 0],\n",
              " [0, 0, 0, 1],\n",
              " [0, 0, 0, 1],\n",
              " [0, 0, 0, 1],\n",
              " [0, 0, 1, 0],\n",
              " [0, 0, 1, 0],\n",
              " [0, 0, 0, 1],\n",
              " [0, 0, 1, 0],\n",
              " [0, 0, 1, 0],\n",
              " [0, 0, 1, 0],\n",
              " [0, 0, 1, 0],\n",
              " [0, 0, 0, 1],\n",
              " [0, 0, 1, 0],\n",
              " [0, 0, 0, 1],\n",
              " [0, 0, 1, 0],\n",
              " [0, 1, 0, 0],\n",
              " [0, 0, 1, 0],\n",
              " [0, 0, 1, 0],\n",
              " [0, 0, 0, 1],\n",
              " [0, 0, 1, 0],\n",
              " [0, 0, 0, 1],\n",
              " [0, 0, 1, 0],\n",
              " [0, 1, 0, 0],\n",
              " [0, 0, 0, 1],\n",
              " [0, 0, 1, 0],\n",
              " [0, 0, 1, 0],\n",
              " [0, 0, 1, 0],\n",
              " [0, 0, 1, 0],\n",
              " [0, 0, 1, 0],\n",
              " [0, 0, 0, 1],\n",
              " [0, 0, 1, 0],\n",
              " [0, 0, 1, 0],\n",
              " [0, 1, 0, 0],\n",
              " [0, 0, 0, 1],\n",
              " [0, 0, 1, 0],\n",
              " [0, 0, 1, 0],\n",
              " [0, 0, 0, 1],\n",
              " [0, 0, 1, 0],\n",
              " [0, 0, 0, 1],\n",
              " [0, 0, 1, 0],\n",
              " [0, 0, 1, 0],\n",
              " [0, 0, 0, 1],\n",
              " [0, 0, 0, 1],\n",
              " [0, 0, 1, 0],\n",
              " [0, 0, 1, 0],\n",
              " [0, 0, 1, 0],\n",
              " [0, 0, 1, 0],\n",
              " [0, 0, 1, 0],\n",
              " [0, 0, 1, 0],\n",
              " [0, 0, 1, 0],\n",
              " [0, 0, 1, 0],\n",
              " [0, 0, 1, 0],\n",
              " [0, 1, 0, 0],\n",
              " [0, 0, 0, 1],\n",
              " [0, 0, 1, 0],\n",
              " [0, 0, 0, 1],\n",
              " [0, 1, 0, 0],\n",
              " [0, 0, 0, 1],\n",
              " [0, 1, 0, 0],\n",
              " [0, 0, 0, 1],\n",
              " [0, 0, 1, 0],\n",
              " [0, 0, 0, 1],\n",
              " [0, 0, 0, 1],\n",
              " [0, 0, 0, 0],\n",
              " [0, 0, 0, 0],\n",
              " [0, 0, 1, 0],\n",
              " [0, 0, 1, 0],\n",
              " [0, 0, 0, 0],\n",
              " [0, 0, 1, 0],\n",
              " [0, 0, 1, 0],\n",
              " [0, 0, 0, 1],\n",
              " [0, 0, 0, 1],\n",
              " [0, 0, 0, 1],\n",
              " [0, 0, 1, 0],\n",
              " [0, 0, 0, 1],\n",
              " [0, 0, 1, 0],\n",
              " [0, 0, 1, 0],\n",
              " [0, 0, 1, 0],\n",
              " [0, 0, 1, 0],\n",
              " [0, 0, 1, 0],\n",
              " [0, 0, 0, 1],\n",
              " [0, 0, 0, 1],\n",
              " [0, 0, 1, 0],\n",
              " [0, 1, 0, 0],\n",
              " [0, 0, 0, 1],\n",
              " [0, 0, 0, 1],\n",
              " [0, 0, 1, 0],\n",
              " [0, 0, 0, 1],\n",
              " [0, 0, 1, 0],\n",
              " [0, 0, 0, 1],\n",
              " [0, 0, 1, 0],\n",
              " [0, 0, 1, 0],\n",
              " [0, 0, 0, 1],\n",
              " [0, 0, 1, 0],\n",
              " [0, 0, 0, 1],\n",
              " [0, 0, 0, 0],\n",
              " [0, 0, 0, 1],\n",
              " [0, 0, 0, 1],\n",
              " [0, 0, 1, 0],\n",
              " [0, 0, 1, 0],\n",
              " [0, 0, 1, 0],\n",
              " [0, 0, 1, 0],\n",
              " [0, 0, 0, 1],\n",
              " [0, 0, 0, 1],\n",
              " [0, 0, 1, 0],\n",
              " [0, 0, 1, 0],\n",
              " [0, 0, 0, 1],\n",
              " [0, 0, 1, 0],\n",
              " [0, 0, 1, 0],\n",
              " [0, 0, 0, 1],\n",
              " [0, 0, 1, 0],\n",
              " [0, 0, 1, 0],\n",
              " [0, 0, 1, 0],\n",
              " [0, 0, 1, 0],\n",
              " [0, 0, 1, 0],\n",
              " [0, 0, 1, 0],\n",
              " [0, 0, 1, 0],\n",
              " [0, 0, 0, 1],\n",
              " [0, 0, 0, 1],\n",
              " [0, 0, 1, 0],\n",
              " [0, 0, 1, 0],\n",
              " [0, 0, 0, 1],\n",
              " [0, 0, 1, 0],\n",
              " [0, 0, 1, 0],\n",
              " [0, 0, 1, 0],\n",
              " [0, 0, 0, 0],\n",
              " [0, 0, 1, 0],\n",
              " [0, 0, 1, 0],\n",
              " [0, 0, 0, 1],\n",
              " [0, 0, 0, 1],\n",
              " [0, 0, 1, 0],\n",
              " [0, 0, 0, 1],\n",
              " [0, 0, 1, 0],\n",
              " [0, 0, 1, 0],\n",
              " [0, 0, 1, 0],\n",
              " [0, 0, 1, 0],\n",
              " [0, 1, 0, 0],\n",
              " [0, 0, 1, 0],\n",
              " [0, 0, 1, 0],\n",
              " [0, 0, 0, 1],\n",
              " [0, 0, 0, 1],\n",
              " [0, 1, 0, 0],\n",
              " [0, 0, 1, 0],\n",
              " [0, 0, 0, 1],\n",
              " [0, 1, 0, 0],\n",
              " [0, 1, 0, 0],\n",
              " [0, 0, 1, 0],\n",
              " [0, 0, 1, 0],\n",
              " [0, 0, 0, 1],\n",
              " [0, 0, 0, 1],\n",
              " [0, 0, 1, 0],\n",
              " [0, 0, 0, 1],\n",
              " [0, 1, 0, 0],\n",
              " [0, 0, 0, 1],\n",
              " [0, 0, 1, 0],\n",
              " [0, 0, 0, 1],\n",
              " [0, 0, 1, 0],\n",
              " [0, 0, 1, 0],\n",
              " [0, 0, 0, 1],\n",
              " [0, 0, 0, 1],\n",
              " [0, 0, 1, 0],\n",
              " [0, 0, 0, 1],\n",
              " [0, 0, 1, 0],\n",
              " [0, 0, 0, 1],\n",
              " [0, 0, 0, 1],\n",
              " [0, 0, 1, 0],\n",
              " [0, 0, 1, 0],\n",
              " [0, 0, 1, 0],\n",
              " [0, 0, 0, 0],\n",
              " [0, 0, 1, 0],\n",
              " [0, 0, 0, 1],\n",
              " [0, 0, 1, 0],\n",
              " [0, 0, 0, 1],\n",
              " [0, 0, 0, 1],\n",
              " [0, 0, 1, 0],\n",
              " [0, 0, 1, 0],\n",
              " [0, 0, 0, 1],\n",
              " [0, 0, 1, 0],\n",
              " [0, 0, 0, 1],\n",
              " [0, 0, 1, 0],\n",
              " [0, 0, 0, 0],\n",
              " [0, 0, 0, 1],\n",
              " [0, 0, 1, 0],\n",
              " [0, 0, 0, 0],\n",
              " [0, 0, 1, 0],\n",
              " [0, 0, 1, 0],\n",
              " [0, 0, 0, 1],\n",
              " [0, 0, 0, 1],\n",
              " [0, 0, 1, 0],\n",
              " [0, 0, 0, 1],\n",
              " [0, 0, 1, 0],\n",
              " [0, 1, 0, 0],\n",
              " [0, 0, 1, 0],\n",
              " [0, 0, 0, 1],\n",
              " [0, 1, 0, 0],\n",
              " [0, 0, 1, 0],\n",
              " [0, 0, 1, 0],\n",
              " [0, 0, 0, 1],\n",
              " [0, 0, 1, 0],\n",
              " [0, 1, 0, 0],\n",
              " [0, 0, 1, 0],\n",
              " [0, 0, 0, 1],\n",
              " [0, 0, 0, 1],\n",
              " [0, 0, 0, 1],\n",
              " [0, 0, 1, 0],\n",
              " [0, 0, 0, 1],\n",
              " [0, 0, 1, 0],\n",
              " [0, 0, 0, 1],\n",
              " [0, 0, 1, 0],\n",
              " [0, 1, 0, 0],\n",
              " [0, 0, 1, 0],\n",
              " [0, 0, 1, 0],\n",
              " [0, 0, 0, 1],\n",
              " [0, 0, 1, 0],\n",
              " [0, 0, 1, 0],\n",
              " [0, 0, 0, 0],\n",
              " [0, 0, 0, 1],\n",
              " [0, 0, 0, 1],\n",
              " [0, 0, 1, 0],\n",
              " [0, 0, 1, 0],\n",
              " [0, 0, 1, 0],\n",
              " [0, 0, 1, 0],\n",
              " [0, 0, 1, 0],\n",
              " [0, 1, 0, 0],\n",
              " [0, 0, 1, 0],\n",
              " [0, 0, 0, 1],\n",
              " [0, 0, 0, 1],\n",
              " [0, 0, 1, 0],\n",
              " [0, 0, 1, 0],\n",
              " [0, 0, 0, 1],\n",
              " [0, 0, 0, 1],\n",
              " [0, 0, 0, 1],\n",
              " [0, 0, 0, 1],\n",
              " [0, 0, 0, 1],\n",
              " [0, 0, 0, 1],\n",
              " [0, 0, 0, 1],\n",
              " [0, 0, 1, 0],\n",
              " [0, 0, 1, 0],\n",
              " [0, 1, 0, 0],\n",
              " [0, 0, 0, 1],\n",
              " [0, 0, 0, 1],\n",
              " [0, 0, 0, 1],\n",
              " [0, 0, 1, 0],\n",
              " [0, 0, 1, 0],\n",
              " [0, 0, 1, 0],\n",
              " [0, 0, 1, 0],\n",
              " [0, 0, 1, 0],\n",
              " [0, 0, 1, 0],\n",
              " [0, 0, 0, 1],\n",
              " [0, 0, 1, 0],\n",
              " [0, 0, 1, 0],\n",
              " [0, 0, 1, 0],\n",
              " [0, 0, 0, 1],\n",
              " [0, 0, 1, 0],\n",
              " [0, 0, 1, 0],\n",
              " [0, 0, 1, 0],\n",
              " [0, 0, 1, 0],\n",
              " [0, 0, 0, 1],\n",
              " [0, 0, 1, 0],\n",
              " [0, 0, 1, 0],\n",
              " [0, 0, 1, 0],\n",
              " [0, 0, 0, 1],\n",
              " [0, 1, 0, 0],\n",
              " [0, 0, 0, 1],\n",
              " [0, 0, 0, 1],\n",
              " [0, 0, 1, 0],\n",
              " [0, 0, 0, 1],\n",
              " [0, 1, 0, 0],\n",
              " [0, 0, 0, 1],\n",
              " [0, 0, 1, 0],\n",
              " [0, 0, 1, 0],\n",
              " [0, 0, 1, 0],\n",
              " [0, 0, 1, 0],\n",
              " [0, 0, 1, 0],\n",
              " [0, 0, 1, 0],\n",
              " [0, 0, 1, 0],\n",
              " [0, 0, 1, 0],\n",
              " [0, 0, 0, 1],\n",
              " [0, 0, 0, 1],\n",
              " [0, 0, 0, 1],\n",
              " [0, 1, 0, 0],\n",
              " [0, 0, 0, 1],\n",
              " [0, 0, 1, 0],\n",
              " [0, 0, 0, 1],\n",
              " [0, 0, 0, 1],\n",
              " [0, 0, 0, 0],\n",
              " [0, 0, 0, 1],\n",
              " [0, 0, 0, 1],\n",
              " [0, 0, 1, 0],\n",
              " [0, 0, 1, 0],\n",
              " [0, 0, 0, 1],\n",
              " [0, 0, 0, 1],\n",
              " [0, 0, 0, 0],\n",
              " [0, 1, 0, 0],\n",
              " [0, 0, 0, 1],\n",
              " [0, 0, 1, 0],\n",
              " [0, 0, 0, 1],\n",
              " [0, 0, 0, 1],\n",
              " [0, 0, 0, 1],\n",
              " [0, 0, 1, 0],\n",
              " [0, 0, 0, 1],\n",
              " [0, 0, 0, 1],\n",
              " [0, 0, 0, 1],\n",
              " [0, 0, 1, 0],\n",
              " [0, 0, 0, 1],\n",
              " [0, 0, 1, 0],\n",
              " [0, 0, 1, 0],\n",
              " [0, 0, 1, 0],\n",
              " [0, 0, 0, 1],\n",
              " [0, 0, 0, 1],\n",
              " [0, 0, 1, 0],\n",
              " [0, 0, 1, 0],\n",
              " [0, 0, 0, 1],\n",
              " [0, 0, 1, 0],\n",
              " [0, 0, 0, 1],\n",
              " [0, 0, 1, 0],\n",
              " [0, 0, 1, 0],\n",
              " [0, 0, 1, 0],\n",
              " [0, 0, 0, 1],\n",
              " [0, 0, 0, 1],\n",
              " [0, 0, 1, 0],\n",
              " [0, 0, 1, 0],\n",
              " [0, 0, 1, 0],\n",
              " [0, 0, 0, 0],\n",
              " [0, 0, 1, 0],\n",
              " [0, 0, 1, 0],\n",
              " [0, 0, 1, 0],\n",
              " [0, 0, 0, 1],\n",
              " [0, 0, 1, 0],\n",
              " [0, 0, 1, 0],\n",
              " [0, 0, 1, 0],\n",
              " [0, 0, 0, 1],\n",
              " [0, 0, 0, 1],\n",
              " [0, 0, 1, 0],\n",
              " [0, 0, 1, 0],\n",
              " [0, 0, 1, 0],\n",
              " [0, 0, 1, 0],\n",
              " [0, 0, 1, 0],\n",
              " [0, 0, 1, 0],\n",
              " [0, 0, 1, 0],\n",
              " [0, 0, 1, 0],\n",
              " [0, 0, 1, 0],\n",
              " [0, 0, 1, 0],\n",
              " [0, 0, 0, 1],\n",
              " ...]"
            ]
          },
          "metadata": {
            "tags": []
          },
          "execution_count": 221
        }
      ]
    },
    {
      "cell_type": "code",
      "metadata": {
        "id": "pHEm8_FxA3yW",
        "colab_type": "code",
        "colab": {}
      },
      "source": [
        "df_submission = pd.DataFrame(predictions_prob,columns=['Class_0','Class_1','Class_2','Class_3'])"
      ],
      "execution_count": 222,
      "outputs": []
    },
    {
      "cell_type": "code",
      "metadata": {
        "id": "TFD_qLL1BN0e",
        "colab_type": "code",
        "colab": {}
      },
      "source": [
        "df_submission.to_csv(\"Submisson.csv\",index=False)"
      ],
      "execution_count": 227,
      "outputs": []
    },
    {
      "cell_type": "code",
      "metadata": {
        "id": "Kaf8cHwt-PKc",
        "colab_type": "code",
        "colab": {
          "base_uri": "https://localhost:8080/",
          "height": 136
        },
        "outputId": "7a66dc99-103c-41ec-adfb-8733940fdc25"
      },
      "source": [
        "np.around(a,2)"
      ],
      "execution_count": 218,
      "outputs": [
        {
          "output_type": "execute_result",
          "data": {
            "text/plain": [
              "array([[0.01, 0.  , 0.16, 0.84],\n",
              "       [0.07, 0.83, 0.08, 0.02],\n",
              "       [0.  , 0.01, 0.3 , 0.68],\n",
              "       ...,\n",
              "       [0.01, 0.  , 0.89, 0.1 ],\n",
              "       [0.01, 0.  , 0.98, 0.01],\n",
              "       [0.01, 0.01, 0.98, 0.01]], dtype=float32)"
            ]
          },
          "metadata": {
            "tags": []
          },
          "execution_count": 218
        }
      ]
    },
    {
      "cell_type": "code",
      "metadata": {
        "id": "h6b21FsY-4jG",
        "colab_type": "code",
        "colab": {
          "base_uri": "https://localhost:8080/",
          "height": 136
        },
        "outputId": "1d51cba8-78ad-4a46-9b1c-a725cba468cb"
      },
      "source": [
        "np.floor(a)"
      ],
      "execution_count": 219,
      "outputs": [
        {
          "output_type": "execute_result",
          "data": {
            "text/plain": [
              "array([[0., 0., 0., 0.],\n",
              "       [0., 0., 0., 0.],\n",
              "       [0., 0., 0., 0.],\n",
              "       ...,\n",
              "       [0., 0., 0., 0.],\n",
              "       [0., 0., 0., 0.],\n",
              "       [0., 0., 0., 0.]], dtype=float32)"
            ]
          },
          "metadata": {
            "tags": []
          },
          "execution_count": 219
        }
      ]
    },
    {
      "cell_type": "markdown",
      "metadata": {
        "id": "sCAb-eAn8ybY",
        "colab_type": "text"
      },
      "source": [
        "# create submisison file "
      ]
    },
    {
      "cell_type": "code",
      "metadata": {
        "id": "anldihnF8xAn",
        "colab_type": "code",
        "colab": {}
      },
      "source": [
        "import numpy\n",
        "a = numpy.asarray(predictions_prob)\n",
        "#b = numpy.around(a)\n",
        "numpy.savetxt(\"Submisson_new.csv\", b, delimiter=\",\")"
      ],
      "execution_count": 217,
      "outputs": []
    },
    {
      "cell_type": "code",
      "metadata": {
        "id": "p9jjoc7T6Viu",
        "colab_type": "code",
        "colab": {
          "base_uri": "https://localhost:8080/",
          "height": 34
        },
        "outputId": "7d9afa90-41e9-4adc-d9c2-1d50dfa610a0"
      },
      "source": [
        "prds.shape"
      ],
      "execution_count": 206,
      "outputs": [
        {
          "output_type": "execute_result",
          "data": {
            "text/plain": [
              "(2728, 4)"
            ]
          },
          "metadata": {
            "tags": []
          },
          "execution_count": 206
        }
      ]
    },
    {
      "cell_type": "code",
      "metadata": {
        "id": "PQSHdLfM665J",
        "colab_type": "code",
        "colab": {}
      },
      "source": [
        "preds_f = np.argmax(prds,)"
      ],
      "execution_count": 207,
      "outputs": []
    },
    {
      "cell_type": "code",
      "metadata": {
        "id": "KuDnBw4m7C32",
        "colab_type": "code",
        "colab": {
          "base_uri": "https://localhost:8080/",
          "height": 34
        },
        "outputId": "84360201-9926-46f4-a3e9-a515d979f351"
      },
      "source": [
        "preds_f"
      ],
      "execution_count": 211,
      "outputs": [
        {
          "output_type": "execute_result",
          "data": {
            "text/plain": [
              "2274"
            ]
          },
          "metadata": {
            "tags": []
          },
          "execution_count": 211
        }
      ]
    },
    {
      "cell_type": "code",
      "metadata": {
        "id": "DsSFqTSh4R1v",
        "colab_type": "code",
        "colab": {}
      },
      "source": [
        "preds_flat = np.argmax(prds, axis=1).flatten()"
      ],
      "execution_count": 201,
      "outputs": []
    },
    {
      "cell_type": "code",
      "metadata": {
        "id": "UDHWY-XM42kI",
        "colab_type": "code",
        "colab": {
          "base_uri": "https://localhost:8080/",
          "height": 34
        },
        "outputId": "febc6893-98d5-4a06-edb1-aae280e12433"
      },
      "source": [
        "preds_flat"
      ],
      "execution_count": 202,
      "outputs": [
        {
          "output_type": "execute_result",
          "data": {
            "text/plain": [
              "array([3, 1, 3, ..., 2, 2, 2])"
            ]
          },
          "metadata": {
            "tags": []
          },
          "execution_count": 202
        }
      ]
    },
    {
      "cell_type": "code",
      "metadata": {
        "id": "grGgrPae49zz",
        "colab_type": "code",
        "colab": {
          "base_uri": "https://localhost:8080/",
          "height": 34
        },
        "outputId": "8a3a9d8a-cfe5-46df-b855-6e8215201aaf"
      },
      "source": [
        "len(preds_flat)"
      ],
      "execution_count": 203,
      "outputs": [
        {
          "output_type": "execute_result",
          "data": {
            "text/plain": [
              "2728"
            ]
          },
          "metadata": {
            "tags": []
          },
          "execution_count": 203
        }
      ]
    },
    {
      "cell_type": "code",
      "metadata": {
        "id": "N4AnxbLy5B5q",
        "colab_type": "code",
        "colab": {
          "base_uri": "https://localhost:8080/",
          "height": 34
        },
        "outputId": "8008156c-b3a0-4d6c-a3ce-2c06e957ac65"
      },
      "source": [
        "preds_flat.shape"
      ],
      "execution_count": 204,
      "outputs": [
        {
          "output_type": "execute_result",
          "data": {
            "text/plain": [
              "(2728,)"
            ]
          },
          "metadata": {
            "tags": []
          },
          "execution_count": 204
        }
      ]
    }
  ]
}